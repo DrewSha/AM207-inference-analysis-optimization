{
 "cells": [
  {
   "cell_type": "markdown",
   "metadata": {
    "slideshow": {
     "slide_type": "slide"
    }
   },
   "source": [
    "# Lecture #6: Markov Chain Monte Carlo\n",
    "## AM 207: Advanced Scientific Computing\n",
    "### Stochastic Methods for Data Analysis, Inference and Optimization\n",
    "### Fall, 2019"
   ]
  },
  {
   "cell_type": "markdown",
   "metadata": {
    "slideshow": {
     "slide_type": "slide"
    }
   },
   "source": [
    "<img src=\"fig/logos.jpg\" style=\"height:150px;\">"
   ]
  },
  {
   "cell_type": "code",
   "execution_count": 5,
   "metadata": {
    "slideshow": {
     "slide_type": "skip"
    }
   },
   "outputs": [],
   "source": [
    "### Import basic libraries\n",
    "import numpy as np\n",
    "import scipy as sp\n",
    "import pandas as pd\n",
    "import sklearn as sk\n",
    "from sklearn.linear_model import LinearRegression\n",
    "import matplotlib.pyplot as plt\n",
    "%matplotlib inline"
   ]
  },
  {
   "cell_type": "markdown",
   "metadata": {
    "slideshow": {
     "slide_type": "slide"
    }
   },
   "source": [
    "## Administrative Matters\n",
    "\n",
    "1. **Attendance Quiz:** https://tinyurl.com/yycshl8e <br><br>\n",
    "2. **Read Wednesday's lecture before class:** Please read Wednesday's lecture (focusing on the details of derivations) before class. You don't need to understand everything completely but it is highly recommended that you make an effort to grapple with the material. This is the first time we are doing a very involved derivation from beginning to end, it'll be very easy for it to sound like gibberish if you are seeing it for the first time in class.\n",
    "\n",
    "  ***Tips for reading math:*** know what you want to show (in layman's terms) before starting a derivation or proof and know why you want to show it, keep that in mind as you are reading the derivation or proof. Constantly ask yourself: how does these steps help get us closer to our goals?"
   ]
  },
  {
   "cell_type": "markdown",
   "metadata": {
    "slideshow": {
     "slide_type": "slide"
    }
   },
   "source": [
    "## Outline\n",
    "1. Review of Monte Carlo Integration\n",
    "2. Gibbs Sampler for a Discrete Distribution\n",
    "3. Definition and Properties of Markov Chains\n",
    "4. Markov Chain Monte Carlo\n",
    "5. MCMC Diagnostics"
   ]
  },
  {
   "cell_type": "markdown",
   "metadata": {
    "slideshow": {
     "slide_type": "slide"
    }
   },
   "source": [
    "# Review of Monte Carlo Integration"
   ]
  },
  {
   "cell_type": "markdown",
   "metadata": {
    "slideshow": {
     "slide_type": "slide"
    }
   },
   "source": [
    "## Monte Carlo Integration\n",
    "Last week we studied ways of ***sampling*** from an arbitrary distribution $p(\\theta)$:\n",
    "- **Inverse CDF Sampling:** when the inverse of the CDF of $p$ can be computed\n",
    "- **Rejection Sampling:** when a good substitute distribution for $p$ can be found\n",
    "- **Gibbs Sampling:** when the conditionals of a multivariate distribution are simple\n",
    "\n",
    "Samples from $p(\\theta)$ can be used to estimate the expected value of any function of $\\theta$:\n",
    "\n",
    "$$\n",
    "\\underbrace{\\mathbb{E}_{\\theta\\sim p(\\theta)}\\left[ f(\\theta)\\right]}_{I} = \\int_{\\Theta} f(\\theta) p(\\theta) d\\theta \\approx \\underbrace{\\frac{1}{S} \\sum_{s=1}^S f(\\theta_s),\\; \\theta_s \\sim p(\\theta)}_{\\widehat{I}}\n",
    "$$\n",
    "\n",
    "We call $\\widehat{I}$ the ***Monte Carlo estimate*** of $I$. We proved that:\n",
    "\n",
    "- $\\widehat{I}$ is consistent and unbiased\n",
    "- The variance of $\\widehat{I}$ is $\\frac{\\sigma_f}{S}$, where $\\sigma_f = \\mathrm{Var}\\left[f(\\theta) \\right]$\n",
    "\n",
    "What do these two properties of $\\widehat{I}$ tell us to do if we want better estimates of $I$?"
   ]
  },
  {
   "cell_type": "markdown",
   "metadata": {
    "slideshow": {
     "slide_type": "slide"
    }
   },
   "source": [
    "## Variance Reduction for Monte Carlo Integration\n",
    "\n",
    "We can reduce the variance of $\\widehat{I}$ by increasing the sample size $S$. But this is not always practical. **Why?** \n",
    "\n",
    "We studied three ways of reducing the variance of $\\widehat{I}$ by reducing the variance of the function inside the expectation:\n",
    "\n",
    "1. **Control Variates:** find a function $h$ that captures the trend of $f$:\n",
    "$$\n",
    "\\widehat{I}_{\\text{control}} = \\frac{1}{S}\\sum^S_{s=1} f(\\theta) - c(h(\\theta) - \\mu_h)\n",
    "$$\n",
    "2. **Stratified Sampling:** Split the domain $\\Theta$ into $m$ pieces (strata):\n",
    "$$\n",
    "\\widehat{I}_{\\text{SS}} = \\sum_{m=1}^M w_m \\widehat{I}_m.\n",
    "$$\n",
    "where $w_m = \\int_{\\Theta_m} p(\\theta)d\\theta$, and $\\widehat{I}_m$ is the MC estimate over the $m$-th strata\n",
    "3. **Importance Sampling:** choose a $q$ that places more weight where $f(\\theta)$ has high variance and $p$ is more likely to produce samples:\n",
    "$$\n",
    "\\widehat{I}_{\\text{IS}} = \\frac{1}{S}\\sum_{s=1}^S \\frac{p(\\theta_s|Y)}{q(\\theta_s)}f(\\theta_s),\\; \\theta_s \\sim q(\\theta).\n",
    "$$\n",
    "\n",
    "**For each method:**  What are the design choices you need to make? Where is the variance reduction coming from? Why is it hard to achieve?"
   ]
  },
  {
   "cell_type": "markdown",
   "metadata": {
    "slideshow": {
     "slide_type": "slide"
    }
   },
   "source": [
    "# Gibbs Sampler for a Discrete Distribution"
   ]
  },
  {
   "cell_type": "markdown",
   "metadata": {
    "slideshow": {
     "slide_type": "slide"
    }
   },
   "source": [
    "## Gibbs Sampler for a Bivariate Discrete Distribution\n",
    "\n",
    "Suppose we have two independent random variables $X\\sim Ber(0.2)$ and $Y\\sim Ber(0.6)$. Their joint distribution is a categorical distribution:\n",
    "\n",
    "$$\n",
    "p(X, Y) = [0.12\\;\\; 0.48\\;\\; 0.08\\;\\; 0.32]\n",
    "$$ \n",
    "\n",
    "over the set of possible outcomes $(X=1, Y=1), (X=0, Y=1), (X=1, Y=0), (X=1, Y=1)$.\n",
    "\n",
    "A Gibbs sampler for $p(X)$ will start with a sample $(X=X_n, Y=Y_n)$ and then generate a sample $(X=X_{n+1}, Y=Y_{n+1})$ by\n",
    "1. sampling $X_{n+1}$ from $$p(X|Y = Y_{n})$$\n",
    "2. sampling $Y_{n+1}$ from $$p(Y|X = X_{n+1})$$\n",
    "\n",
    "We want to compute what is the distribution of the generated sample $(X=X_{n+1}, Y=Y_{n+1})$ given $(X=X_n, Y=Y_n)$, i.e. we want $p(X=X_{n+1}, Y=Y_{n+1}| X=X_n, Y=Y_n)$, but there are $4^2$ number of these probabilities! How do we succinctly represent them?"
   ]
  },
  {
   "cell_type": "markdown",
   "metadata": {
    "slideshow": {
     "slide_type": "slide"
    }
   },
   "source": [
    "## Gibbs Sampler as Transition Matrix and State Diagram\n",
    "\n",
    "We can represent the $p(X=X_{n+1}, Y=Y_{n+1}| X=X_n, Y=Y_n)$ as a $4\\times 4$ matrix, $T$, where the $i, j$-th entry is the probability of starting with sample $i$ and generating sample $j$. \n",
    "\n",
    "Alternatively, we can visualize how the Gibbs sampler moves around in the sample space $(X, Y)$ with a diagram.\n",
    "\n",
    "<img src=\"fig/gibbs.jpg\" style=\"height:300px;\">"
   ]
  },
  {
   "cell_type": "markdown",
   "metadata": {
    "slideshow": {
     "slide_type": "slide"
    }
   },
   "source": [
    "## Limiting Distribution\n",
    "\n",
    "We see that computing the probability of the next sample given the current sample $(X=1, Y=1)$\n",
    "\n",
    "$$\n",
    "p(X_{n+1}, Y_{n+1} | X_n=1, Y_n=1)\n",
    "$$\n",
    "\n",
    "is equivalent to multiplying the vector $[1\\;\\; 0\\;\\; 0\\;\\; 0]$ with the matrix $T$. **Can you see why?**\n",
    "\n",
    "When we do, we get the distribution $[0.12\\;\\; 0.48\\;\\; 0.08\\;\\; 0.32]$ over the next sample. But this distribution looks just like the joint distribution $p(X, Y)$!\n",
    "\n",
    "This means that if we start at $(X=1, Y=1)$, the next sample the Gibbs sampler returns will be from the joint distribution. \n",
    "\n",
    "In fact, you can start with any point in the samples space $(X, Y)$ or any distribution over the sample space, the next sample the Gibbs sampler returns will be from the joint distribution. I.e. any vector times $T$ will return $[0.12\\;\\; 0.48\\;\\; 0.08\\;\\; 0.32]$.\n",
    "\n",
    "This proves the correctness of the Gibbs sampler for $p(X, Y)$!"
   ]
  },
  {
   "cell_type": "markdown",
   "metadata": {
    "slideshow": {
     "slide_type": "slide"
    }
   },
   "source": [
    "# Definition and Properties of Markov Chains"
   ]
  },
  {
   "cell_type": "markdown",
   "metadata": {
    "slideshow": {
     "slide_type": "slide"
    }
   },
   "source": [
    "## Markov Chains in Discrete and Continuous Spaces\n",
    "\n",
    "A ***discrete-time stochastic process*** is set of random variables $\\{X_0, X_1, \\ldots \\}$, where each random variable takes value in $\\mathcal{S}$. The set $\\mathcal{S}$ is called the ***state space*** and can be continuous or finite. \n",
    "\n",
    "A stochastic process satisfies the ***Markov property*** if $X_n$ depends only on $X_{n-1}$ (i.e. $X_n$ is independent of $X_1, \\ldots, X_{n-1}$). A stochastic process that satisfies the Markov property is called a ***Markov chain***. \n",
    "\n",
    "We will assume that $p(X_n | X_{n-1})$ is the same for all $n$.\n",
    "\n",
    "**Exercise:** Give an example of a stochastic process that is not a Markov chain. Given an example of a stochastic process that is a Markov chain."
   ]
  },
  {
   "cell_type": "markdown",
   "metadata": {
    "slideshow": {
     "slide_type": "slide"
    }
   },
   "source": [
    "## Transition Matrices and Kernels\n",
    "The Markov property ensure that we can describe the dynamics of the entire chain by describing how the chain ***transitions*** from state $i$ to state $j$. **Why?**\n",
    "\n",
    "If the state space is finite, then we can represent the transition from $X_{n-1}$ to $X_{n}$ as a ***transition matrix*** $T$, where $T_{ij}$ is the probability of the chain transitioning from state $i$ to $j$:\n",
    "$$\n",
    "T_{ij} = \\mathbb{P}[X_n = j | X_{n-1} = i].\n",
    "$$\n",
    "\n",
    "The transition matrix can be represented visually as a ***finite state diagram***.\n",
    "\n",
    "If the state space is continuous, then we can represent the transition from $X_{n-1}$ to $X_{n}$ as ***transition kernel pdf***,\n",
    "$\n",
    "T(x, x')\n",
    "$,\n",
    "representing the likelihood of transitioning from state $X_{n-1}=x$ to state $X_{n} = x'$. The probability of transitioning into a region $A \\subset S$ from state $x$ is given by\n",
    "\n",
    "$$\n",
    "\\mathbb{P}[X_n \\in A | X_{n-1} = x] = \\int_{A} T(x, y) dy,\n",
    "$$\n",
    "\n",
    "such that $\\int_{\\mathcal{S}} T(x, y) dy = 1$."
   ]
  },
  {
   "cell_type": "markdown",
   "metadata": {
    "slideshow": {
     "slide_type": "slide"
    }
   },
   "source": [
    "## Chapman-Kolmogorov Equations: Dynamics as Matrix Multiplication\n",
    "If the state space is finite, the probability of the $n=2$ state, given the initial $n=0$ state. can be computed by the ***Chapman-Kolmogorov equation***:\n",
    "\n",
    "$$\n",
    "\\mathbb{P}[X_2 = j | X_{0} = i] = \\sum_{k\\in \\mathcal{S}} \\mathbb{P}[X_1 = k | X_{0} = i]\\mathbb{P}[X_{2} = j|X_{1}=k] = \\sum_{k\\in \\mathcal{S}}T_{ik}T_{kj}\n",
    "$$\n",
    "\n",
    "We recognize $\\sum_{k\\in \\mathcal{S}}T_{ik}T_{kj}$ as the $ij$-the entry in the matrix $TT$. Thus, the Chapman-Kolmogorov equation gives us that the matrix $T^{(n)}$ for a $n$-step transition is \n",
    "$$\n",
    "T^{(n)} = \\underbrace{T\\ldots T}_{\\text{$n$ times}}\n",
    "$$\n",
    "\n",
    "In particular, when we have the initial distribution $\\pi^{(0)}$ over states, then the unconditional distribution $\\pi^{(1)}$ over the next state is given by:\n",
    "\n",
    "$$\n",
    "\\mathbb{P}[S_1 = i] = \\sum_{k\\in \\mathcal{S}} \\mathbb{P}[X_1 = i | X_0 = k]\\mathbb{P}[X_0 = k]\n",
    "$$\n",
    "\n",
    "That is, $\\pi^{(1)} = \\pi^{(0)} T$."
   ]
  },
  {
   "cell_type": "markdown",
   "metadata": {
    "slideshow": {
     "slide_type": "slide"
    }
   },
   "source": [
    "## Example: Smart Phone Market Model\n",
    "\n",
    "Consider a simple model of the dynamics of the smart phone market, where we model the customer loyalty as follows:\n",
    "\n",
    "<img src=\"fig/apple.jpg\" style=\"height:200px;\">\n",
    "\n",
    "The transition matrix for the Markov chain is:\n",
    "$$\n",
    "T = \\left(\\begin{array}{cc}0.8 & 0.2\\\\ 0.4 & 0.6 \\end{array} \\right)\n",
    "$$\n",
    "\n",
    "Say that the market is initially $\\pi^{(0)} = [0.7\\; 0.3]$, i.e. 70% Apple. What is the market distribution in the long term?"
   ]
  },
  {
   "cell_type": "markdown",
   "metadata": {
    "slideshow": {
     "slide_type": "slide"
    }
   },
   "source": [
    "## Example: Smart Phone Market Model"
   ]
  },
  {
   "cell_type": "code",
   "execution_count": 127,
   "metadata": {
    "slideshow": {
     "slide_type": "fragment"
    }
   },
   "outputs": [
    {
     "data": {
      "text/plain": [
       "array([[0.66666667, 0.33333333]])"
      ]
     },
     "execution_count": 127,
     "metadata": {},
     "output_type": "execute_result"
    }
   ],
   "source": [
    "#transition matrix\n",
    "T = np.array([[0.8, 0.2],\n",
    "              [0.4, 0.6]])\n",
    "#initial distribution\n",
    "pi_0 = np.array([0.7, 0.3]).reshape((1, -1))\n",
    "#time\n",
    "N = 500\n",
    "\n",
    "pi_0.dot(np.linalg.matrix_power(T, N))\n",
    "#try different values of N and different inital distributions!"
   ]
  },
  {
   "cell_type": "markdown",
   "metadata": {
    "slideshow": {
     "slide_type": "slide"
    }
   },
   "source": [
    "## Chapman-Kolmogorov Equations: Continuous State Space\n",
    "\n",
    "If the state space is continuous, the likelihood of the $n=2$ state, given the initial $n=0$ state, can be computed by the ***Chapman-Kolmogorov equation***:\n",
    "\n",
    "$$\n",
    "T^{(2)}(x, x') = \\int_{\\mathcal{S}}T(x, y)\\, T(y, x') dy.\n",
    "$$\n",
    "\n",
    "In particular, when we have the initial distribution $\\pi^{(0)}(x)$ over states, then the unconditional distribution $\\pi^{(1)}(x)$ over the next state is given by:\n",
    "\n",
    "$$\n",
    "\\pi^{(1)}(x) = \\int_{\\mathcal{S}} T(y, x)\\,\\pi^{(0)}(y)dy.\n",
    "$$\n"
   ]
  },
  {
   "cell_type": "markdown",
   "metadata": {
    "slideshow": {
     "slide_type": "slide"
    }
   },
   "source": [
    "## Properties of Markov Chains: Irreducibility\n",
    "\n",
    "A Markov chain is called ***irreducible*** if every state can be reached from every other state in finite time.\n",
    "\n",
    "<img src=\"fig/irred.jpg\" style=\"height:300px;\">"
   ]
  },
  {
   "cell_type": "markdown",
   "metadata": {
    "slideshow": {
     "slide_type": "slide"
    }
   },
   "source": [
    "## Properties of Markov Chains: Aperiodicity\n",
    "\n",
    "A state $s\\in \\mathcal{S}$ is has period $t$ if one can only return to $s$ in multiples of $t$ steps.\n",
    "\n",
    "A Markov chain is called ***aperiodic*** if the period of each state is 1.\n",
    "\n",
    "<img src=\"fig/periodicity.jpg\" style=\"height:250px;\">"
   ]
  },
  {
   "cell_type": "markdown",
   "metadata": {
    "slideshow": {
     "slide_type": "slide"
    }
   },
   "source": [
    "## Properties of Markov Chains: Stationary Distributions\n",
    "\n",
    "A distribution $\\pi$ over the finite state space $\\mathcal{S}$ is a ***stationary distribution*** of the Markov Chain with transition matrix $T$ if\n",
    "$$\n",
    "\\pi = \\pi T,\n",
    "$$\n",
    "i.e. performing the transition matrix doesn't change the distribution.\n",
    "\n",
    "The equivalent condition for continuous state space $\\mathcal{S}$ is:\n",
    "$$\n",
    "\\pi(x) = \\int_{\\mathcal{S}} T(y, x)\\,\\pi(y)dy.\n",
    "$$\n",
    "\n"
   ]
  },
  {
   "cell_type": "markdown",
   "metadata": {
    "slideshow": {
     "slide_type": "slide"
    }
   },
   "source": [
    "## Properties of Markov Chains: Limiting Distributions\n",
    "\n",
    "We are often interested in what happens to a distribution after many transitions,\n",
    "\n",
    "$$\n",
    "\\pi^{(n)} = \\pi^{(0)}T^{(n)},\\; \\text{ or }\\; \\pi^{(n)}(x) = \\int_{\\mathcal{S}} T^{(n)}(y, x)\\,\\pi^{(0)}(y)dy\n",
    "$$\n",
    "\n",
    "If $\\pi^{(\\infty)} = \\underset{n\\to \\infty}{\\lim}\\pi^{(n)}$ exists (with some caveats in the continuous state case), we call it the ***limiting distribution*** of the Markov chain."
   ]
  },
  {
   "cell_type": "markdown",
   "metadata": {
    "slideshow": {
     "slide_type": "slide"
    }
   },
   "source": [
    "## Fundamental Theorm of Markov Chains\n",
    "Now we are ready to relate all these properties of Markov chains in a single theorem:\n",
    "\n",
    "**Fundamental Theorem of Markov Chains:** if a Markov chain is irreducible and aperiodic, then it has a *unique* stationary distribution $\\pi$ and $\\pi^{\\infty} = \\underset{n\\to \\infty}{\\lim}\\pi^{(n)} = \\pi$.\n",
    "\n",
    "In practice, the theorem says you can start with any initial distribution over the state space $\\mathcal{S}$, asymptotically, you will always obtain the distribution $\\pi$.\n",
    "\n",
    "While we unfortunately can't prove the theorem, we can indicate why both conditions are necessary.\n",
    "\n",
    "<img src=\"fig/counter.jpg\" style=\"height:250px;\">"
   ]
  },
  {
   "cell_type": "markdown",
   "metadata": {
    "slideshow": {
     "slide_type": "slide"
    }
   },
   "source": [
    "## Properties of Markov Chains: Reversibility\n",
    "A Markov chain is called ***reversible*** with respect to a distribution $\\pi$ over a finite state space $\\mathcal{S}$ if the following holds:\n",
    "\n",
    "$$\n",
    "\\pi T = T \\pi^\\top\n",
    "$$\n",
    "\n",
    "The above translates to $\\pi_i T_{i, j} = \\pi_j T_{j , i}$.\n",
    "\n",
    "For a continuous state space, the condition is:\n",
    "\n",
    "$$\n",
    "\\pi(x)T(x, y) = T(y, x) \\pi(y).\n",
    "$$\n",
    "\n",
    "The condition for reversibility is often called the ***detailed balance*** condition."
   ]
  },
  {
   "cell_type": "markdown",
   "metadata": {
    "slideshow": {
     "slide_type": "slide"
    }
   },
   "source": [
    "## Reversibility and Stationary Distributions\n",
    "Using reversibility, we have another way to characterize a stationary distribution.\n",
    "\n",
    "**Theorem:** If a Markov chain, with transition matrix or kernel pdf $T$, is reversible with respect to $\\pi$. Then $\\pi$ is a stationary distribution of the chain.\n",
    "\n",
    "***Proof:*** We will give the proof for the case of a continuous state space $\\mathcal{S}$. \n",
    "Supoose that $\\pi(x)T(x, y) = T(y, x) \\pi(y)$, then\n",
    "\n",
    "$$\n",
    "\\int_{\\mathcal{S}} \\pi(x) T(x, y)dx = \\int_{\\mathcal{S}}\\pi(y) T(y, x)dx = \\pi(y) \\int_{\\mathcal{S}}T(y, x)dx = \\pi(y) \\cdot 1 = \\pi(x).\n",
    "$$"
   ]
  },
  {
   "cell_type": "markdown",
   "metadata": {
    "slideshow": {
     "slide_type": "slide"
    }
   },
   "source": [
    "# Markov Chain Monte Carlo"
   ]
  },
  {
   "cell_type": "markdown",
   "metadata": {
    "slideshow": {
     "slide_type": "slide"
    }
   },
   "source": [
    "## Markov Chain Monte Carlo Samplers\n",
    "\n",
    "Every sampler for a distribution $p(\\theta)$ over the domain $\\Theta$ defines a stochastic process $\\{X_0, X_1, \\ldots, \\}$, where the state space is $\\Theta$.\n",
    "\n",
    "If the sampler defines a Markov chain whose unique stationary and limiting distribution is $p$, we call it a ***Markov Chain Monte Carlo (MCMC)*** sampler.\n",
    "\n",
    "That is, for every MCMC sampler, we have that \n",
    "1. **Stationary:** $pT = p$<br><br>\n",
    "\n",
    "2. **Limiting:** $\\underset{n\\to \\infty}{\\lim} \\pi^{(n)} = p$, for any $\\pi^{(0)}$\n",
    "\n",
    "where $T$ is the transition matrix or kernel pdf defined by the sampler."
   ]
  },
  {
   "cell_type": "markdown",
   "metadata": {
    "slideshow": {
     "slide_type": "slide"
    }
   },
   "source": [
    "## Metropolis-Hastings: The Idea\n",
    "\n",
    "The Metropolis-Hastings algorithm is similar to rejection sampling, but rather than sampling from a proposal distribution $q$ over the entire domain, we use the proposal distribution to sample a point close to the last sample. If the proposed sample has higher likelihood than the current under the target pdf $p$ then we are more likely to accept it as a sample from $p$. \n",
    "\n",
    "Rather than making global \"jumps\" or proposals that may be very unlikely under $p$, we make a series of smaller local \"jumps\".\n",
    "\n",
    "<img src=\"fig/mh.jpg\" style=\"height:350px;\">"
   ]
  },
  {
   "cell_type": "markdown",
   "metadata": {
    "slideshow": {
     "slide_type": "slide"
    }
   },
   "source": [
    "## Metropolis-Hastings: The Algorithm\n",
    "\n",
    "For a target distribution $p(\\theta)$ over $\\Theta$ and a proposal distribution $q(\\theta | \\theta_{\\text{old}})$ over $\\Theta$, the ***Metropolis-Hastings (MH) algorithm*** is a MCMC algorithm for generating samples from $p$.\n",
    "\n",
    "1. **Step 0:** choose an initial value $\\theta_0 \\in \\Theta$.\n",
    "2. **Step 1:** repeat for $S$ number of steps:\n",
    "  - **Proposal:** propose a sample $\\theta_{\\text{prop}} \\sim q(\\theta | \\theta_{\\text{old}})$\n",
    "  - **Accept/Reject:** \n",
    "    - generate $U \\sim U(0, 1)$\n",
    "    - generate accept \"probability\": \n",
    "    $$\\alpha(\\theta_{\\text{prop}}, \\theta_{\\text{old}}) = \\min\\left(1, \\frac{p(\\theta_{\\text{prop}})/q(\\theta_{\\text{prop}} | \\theta_{\\text{old}})}{p(\\theta_{\\text{old}})/ q(\\theta_{\\text{old}}| \\theta_{\\text{prop}})}\\right)$$\n",
    "    - if $U < \\alpha(\\theta_{\\text{prop}}, \\theta_{\\text{old}})$: \n",
    "      - add $\\theta_{\\text{prop}}$ to list of accepted samples\n",
    "      - set $\\theta_{\\text{old}} \\leftarrow \\theta_{\\text{prop}}$ \n",
    "    - else: \n",
    "      add $\\theta_{\\text{old}}$ to list of accepted samples\n"
   ]
  },
  {
   "cell_type": "markdown",
   "metadata": {
    "slideshow": {
     "slide_type": "slide"
    }
   },
   "source": [
    "## Metropolis-Hastings: Proof of Correctness\n",
    "\n",
    "We want to show that the Metropolis Hastings algorithm defines a Markov Chain, $\\theta_0, \\theta_1, \\ldots$, with a unique stationary distribution $p$ and that the chain converges to $p$ regardless of initialization. So we need:\n",
    "1. MH defines an **irreducible** chain: a sufficient condition is that for any $\\theta' \\in \\Theta$\n",
    "\n",
    "$$\n",
    "q(\\theta| \\theta') > 0,\\; \\text{for all } \\theta \\in \\Theta.\n",
    "$$\n",
    "\n",
    "2. MH defines an **aperiodic** chain: a sufficient condition is that for any $\\theta' \\in \\Theta$\n",
    "\n",
    "$$\n",
    "q(\\theta | \\theta') > 0, \\text{for all $\\theta$ is a small neighbourhood around $\\theta'$}.\n",
    "$$\n",
    "\n",
    "3. MH defines an **reversible** chain (i.e. **detailed balance** is satisfied) with respect to $p$:\n",
    "\n",
    "$$\n",
    "p(\\theta')T_{\\text{MH}}(\\theta', \\theta) = T_{\\text{MH}}(\\theta, \\theta') p(\\theta)\n",
    "$$\n",
    "\n",
    "where $T_{\\text{MH}}$ is transition kernel pdf of the MH sampler."
   ]
  },
  {
   "cell_type": "markdown",
   "metadata": {
    "slideshow": {
     "slide_type": "slide"
    }
   },
   "source": [
    "## Metropolis-Hastings: Proof of Detailed Balance\n",
    "Recall that the transition kernel pdf $T_{\\text{MH}}(\\theta, \\theta')$ is the likelihood of the MH sampler transitioning from $\\theta$ to $\\theta'$. When $\\theta \\neq \\theta'$, the MH transition kernel pdf is, written a more friendly way, using $T_{\\text{MH}}(\\theta' | \\theta)$ to denote transitioning from $\\theta$ to $\\theta'$:\n",
    "\n",
    "$$\n",
    "T_{\\text{MH}}(\\theta | \\theta') = \\underbrace{q(\\theta| \\theta')}_{\\text{likelihood of proposing $\\theta$}}\\;\\;\\underbrace{\\alpha(\\theta, \\theta')}_{\\text{probability of accepting $\\theta$}}.\n",
    "$$\n",
    "\n",
    "Now, we can show:\n",
    "\\begin{aligned}\n",
    "p(\\theta')T_{\\text{MH}}(\\theta| \\theta') &= p(\\theta')q(\\theta| \\theta')\\alpha(\\theta, \\theta')\\\\\n",
    "&= p(\\theta')q(\\theta| \\theta')\\min\\left(1, \\frac{p(\\theta)q(\\theta'|\\theta)}{p(\\theta')q(\\theta|\\theta')}\\right)\\\\\n",
    "&= \\min\\left(p(\\theta')q(\\theta| \\theta'), \\frac{p(\\theta)q(\\theta'|\\theta)p(\\theta')q(\\theta| \\theta')}{p(\\theta')q(\\theta|\\theta')}\\right)\\\\\n",
    "&= \\min\\left(p(\\theta')q(\\theta| \\theta'), p(\\theta)q(\\theta'|\\theta)\\right)\\\\\n",
    "&= p(\\theta)q(\\theta'|\\theta)\\min\\left(\\frac{p(\\theta')q(\\theta| \\theta')}{p(\\theta)q(\\theta'|\\theta)}, 1\\right)\\\\\n",
    "&= p(\\theta)q(\\theta'|\\theta)\\alpha(\\theta', \\theta)\\\\\n",
    "&= T_{\\text{MH}}(\\theta'| \\theta) p(\\theta)\n",
    "\\end{aligned}\n"
   ]
  },
  {
   "cell_type": "markdown",
   "metadata": {
    "slideshow": {
     "slide_type": "slide"
    }
   },
   "source": [
    "## Gibbs as Metropolis-Hastings\n",
    "Now we are ready to prove the correctness of Gibbs sampling, by realizing it as a special instance of Metropolis-Hastings sampling.\n",
    "\n",
    "Let $\\theta \\in \\mathbb{R}^D$. Let's define the proposal distribution $q(\\theta_{\\text{new}}|\\theta_{\\text{old}})$ as a two stage process:\n",
    "1. propose an integer $d \\in [1, D]$ uniformly\n",
    "2. propose $\\theta_{\\text{new}}$ where $\\theta_{d, \\text{new}} \\sim p(\\theta_d | \\theta_{-d, \\text{old}})$ and $\\theta_{-d, \\text{new}} = \\theta_{-d, \\text{old}}$\n",
    "\n",
    "where $\\theta_d$ is the $d$-th component of $\\theta$ and $\\theta_{-d} = [\\theta_1, \\ldots, \\theta_{d-1}, \\theta_{d+1}, \\ldots, \\theta_D]$.\n",
    "\n",
    "Then the acceptance probability is:\n",
    "\n",
    "\\begin{aligned}\n",
    "\\min\\left(1, \\frac{p(\\theta_{\\text{new}})q(\\theta_{\\text{old}}|\\theta_{\\text{new}})}{p(\\theta_{\\text{old}})q(\\theta_{\\text{new}}|\\theta_{\\text{old}})} \\right) &= \\min\\left(1, \\frac{p(\\theta_{d, \\text{new}}|\\theta_{-d, \\text{new}})p(\\theta_{-d, \\text{new}}) p(\\theta_{d, \\text{old}} | \\theta_{-d, \\text{new}})}{p(\\theta_{d, \\text{old}}|\\theta_{-d, \\text{old}})p(\\theta_{-d, \\text{old}}) p(\\theta_{d, \\text{new}} | \\theta_{-d, \\text{old}})} \\right)\\\\\n",
    "&= \\min\\left(1, \\frac{p(\\theta_{d, \\text{new}}|\\theta_{-d, \\text{old}})p(\\theta_{-d, \\text{old}}) p(\\theta_{d, \\text{old}} | \\theta_{-d, \\text{new}})}{p(\\theta_{d, \\text{old}}|\\theta_{-d, \\text{new}})p(\\theta_{-d, \\text{old}}) p(\\theta_{d, \\text{new}} | \\theta_{-d, \\text{old}})} \\right)\\\\\n",
    "&= \\min\\left(1, 1\\right) = 1\n",
    "\\end{aligned}\n",
    "\n",
    "in the second to last equality, we make use of the fact that $\\theta_{-d, \\text{new}} = \\theta_{-d, \\text{old}}$. That is, Gibbs sampling is a MH algorithm with 100% acceptance rate."
   ]
  },
  {
   "cell_type": "markdown",
   "metadata": {
    "slideshow": {
     "slide_type": "slide"
    }
   },
   "source": [
    "# MCMC Diagnostics"
   ]
  },
  {
   "cell_type": "markdown",
   "metadata": {
    "slideshow": {
     "slide_type": "slide"
    }
   },
   "source": [
    "## Traceplot Checks for Mixing\n",
    "\n",
    "Reversibility, irreducibility and aperiodicity gaurantee that as the number of iterations $S$ approaches infinity, the sampler will be sampling from the target distribution $p$. In practice, getting sufficiently close to convergence, or ***mixing***, may take a very large number of steps. \n",
    "\n",
    "A quick and intuitive way to check for mixing is by visualizing the ***traceplots*** of each dimension of the samples over iterations.  That is, for each dimension of the samples, we plot the sampled values of that dimension against the iteration number.\n",
    "\n",
    "<img src=\"fig/mixing.jpg\" style=\"height:120px;\">"
   ]
  },
  {
   "cell_type": "markdown",
   "metadata": {
    "slideshow": {
     "slide_type": "slide"
    }
   },
   "source": [
    "## Burn-in and Thinning\n",
    "\n",
    "**When initialization is the problem:** when you initialize your sampler far from any regions of high probability mass, the initial samples produced by your sampler will have a trend -- they will move sequentially towards an area in the sample space $\\Theta$ where the target distribution $p$ has high mass. \n",
    "\n",
    "This problem can be mitigated by discarding $B$ number of initial samples, this chunk of samples is called the ***burn-in***. \n",
    "\n",
    "**When high spatial correlation is the problem:** for Metropolis-Hastings, when your proposal distirbution has very low variance the proposed sample will be very close to the current sample. This results in higher correlations between consecutive samples in your chain. \n",
    "\n",
    "This problem can be mitigated by discarding every $T$ number of samples, this is called ***thinning***. The rational is that every sample might be correlated with $T$ number of samples immediately preceeding or suceeding it, but its correlation with samples greater than $T$ steps away from it will be much smaller.\n",
    "\n"
   ]
  },
  {
   "cell_type": "markdown",
   "metadata": {
    "slideshow": {
     "slide_type": "slide"
    }
   },
   "source": [
    "## Example: Sampling from a Mixture of Two Gaussians"
   ]
  },
  {
   "cell_type": "code",
   "execution_count": 115,
   "metadata": {
    "slideshow": {
     "slide_type": "skip"
    }
   },
   "outputs": [],
   "source": [
    "#implementation of metropolis-hastings with symmetric proposal distribution\n",
    "def MH_sampler(S, target, init, sigma_sq=0.5):\n",
    "    samples = []\n",
    "    current = init\n",
    "    accepts = 0\n",
    "    for s in range(S):\n",
    "        proposal = np.random.normal(current, sigma_sq**2)\n",
    "        U = np.random.uniform(0, 1)\n",
    "        \n",
    "        if U < np.min((1, target(proposal) / target(current))):\n",
    "            samples.append(proposal)\n",
    "            current = proposal\n",
    "            accepts += 1\n",
    "        else:\n",
    "            samples.append(current)\n",
    "    \n",
    "            \n",
    "    return samples, accepts * 1. / S\n",
    "\n",
    "#visualize target distribution and samples\n",
    "def plot_samples(ax, target, samples, title):\n",
    "    x = np.linspace(-5, 25, 100)\n",
    "    ax.plot(x, target(x), color='black', alpha=0.9, label='target distribution')\n",
    "    ax.hist(samples, density=True, bins=50, color='red', alpha=0.5, label='all samples')\n",
    "    ax.set_title(title)\n",
    "    ax.legend(loc='best')\n",
    "    return ax\n",
    "\n",
    "#define the target distribution as a mixture of two univariate gaussians\n",
    "sigma_sqs = [1, 1]\n",
    "mus = [2, 20]\n",
    "pis = [0.5, 0.5]\n",
    "target = lambda x: pis[0] * sp.stats.norm(mus[0], sigma_sqs[0]**2).pdf(x) + pis[1] * sp.stats.norm(mus[1], sigma_sqs[1]**2).pdf(x)"
   ]
  },
  {
   "cell_type": "code",
   "execution_count": 113,
   "metadata": {
    "slideshow": {
     "slide_type": "skip"
    }
   },
   "outputs": [],
   "source": [
    "#total number of samples\n",
    "S = 5000\n",
    "#initialization of the MH sampler\n",
    "init = -10\n",
    "#amount of samples to throw out\n",
    "burn_in = 1000\n",
    "#keep every n samples\n",
    "thinning = 5\n",
    "#sample from the MH sampler\n",
    "samples, accepts = MH_sampler(S, target, init)"
   ]
  },
  {
   "cell_type": "code",
   "execution_count": 117,
   "metadata": {
    "slideshow": {
     "slide_type": "fragment"
    }
   },
   "outputs": [
    {
     "data": {
      "image/png": "[encoded data removed]",
      "text/plain": [
       "<Figure size 720x360 with 1 Axes>"
      ]
     },
     "metadata": {
      "needs_background": "light"
     },
     "output_type": "display_data"
    }
   ],
   "source": [
    "fig, ax = plt.subplots(1, 1, figsize=(10, 5))\n",
    "ax.plot(x, target(x), color='black', alpha=0.9)\n",
    "ax.set_title('pdf of target distribution')\n",
    "plt.show()"
   ]
  },
  {
   "cell_type": "markdown",
   "metadata": {
    "slideshow": {
     "slide_type": "slide"
    }
   },
   "source": [
    "## Visual Checks for Mixing"
   ]
  },
  {
   "cell_type": "code",
   "execution_count": 111,
   "metadata": {
    "slideshow": {
     "slide_type": "fragment"
    }
   },
   "outputs": [
    {
     "data": {
      "image/png": "[encoded data removed]",
      "text/plain": [
       "<Figure size 1440x360 with 2 Axes>"
      ]
     },
     "metadata": {
      "needs_background": "light"
     },
     "output_type": "display_data"
    }
   ],
   "source": [
    "fig, ax = plt.subplots(1, 2, figsize=(20, 5))\n",
    "ax[0].plot(range(S), samples, color='red', alpha=0.5)\n",
    "ax[0].set_title('Trace plot of x for all samples')\n",
    "ax[1].plot(range(len(samples[burn_in::thinning])), samples[burn_in::thinning], color='red', alpha=0.5)\n",
    "ax[1].set_title('Trace plot of x for after burn-in and thinning')\n",
    "plt.show()"
   ]
  },
  {
   "cell_type": "markdown",
   "metadata": {
    "slideshow": {
     "slide_type": "slide"
    }
   },
   "source": [
    "## Visual Checks Can be Misleading"
   ]
  },
  {
   "cell_type": "code",
   "execution_count": 116,
   "metadata": {
    "slideshow": {
     "slide_type": "fragment"
    }
   },
   "outputs": [
    {
     "data": {
      "image/png": "[encoded data removed]",
      "text/plain": [
       "<Figure size 1440x360 with 2 Axes>"
      ]
     },
     "metadata": {
      "needs_background": "light"
     },
     "output_type": "display_data"
    }
   ],
   "source": [
    "fig, ax = plt.subplots(1, 2, figsize=(20, 5))\n",
    "ax[0] = plot_samples(ax[0], target, samples, 'target distribution vs all samples, S={}, init={}'.format(S, init))\n",
    "ax[1] = plot_samples(ax[1], target, samples[200:], 'target distribution vs samples after {} burn-in, S={}, init={}'.format(burn_in, S, init))\n",
    "plt.show()"
   ]
  },
  {
   "cell_type": "markdown",
   "metadata": {
    "slideshow": {
     "slide_type": "slide"
    }
   },
   "source": [
    "## Tuning Your Sampler\n",
    "Our Metropolis-Hastings sampler was unable to capture both modes in the target distribution!\n",
    "\n",
    "Is this because this algorithm is incapable of sampling from this specific distribution of this class of ***multimodal distributions***? Or did we make inappropriate design choices when we specified our sampler?\n",
    "\n",
    "**Exercise:** play with the variance of the normal proposal distribution (try some very small values and some very large values), what is the effect of the variance have on the performance of your sampler? \n",
    "\n",
    "Play with the choice of initialization of the Metropolis-Hastings algorithm, what is the effect of the initialization on the performance of your sampler?\n",
    "\n",
    "**Question:** we've demonstrated that visualizing the traceplot may be a poor metric for evaluating MCMC performance. Is there a better way to check if our MCMC chain has mixed? In particular, how do we detect that there is still a high-likelihood region in the domain $\\Theta$ that the sampler has yet to visit?"
   ]
  }
 ],
 "metadata": {
  "celltoolbar": "Slideshow",
  "kernelspec": {
   "display_name": "Python 3",
   "language": "python",
   "name": "python3"
  },
  "language_info": {
   "codemirror_mode": {
    "name": "ipython",
    "version": 3
   },
   "file_extension": ".py",
   "mimetype": "text/x-python",
   "name": "python",
   "nbconvert_exporter": "python",
   "pygments_lexer": "ipython3",
   "version": "3.7.3"
  }
 },
 "nbformat": 4,
 "nbformat_minor": 2
}
