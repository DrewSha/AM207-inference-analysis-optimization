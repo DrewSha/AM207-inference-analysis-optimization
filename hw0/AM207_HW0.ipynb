{
 "cells": [
  {
   "cell_type": "markdown",
   "metadata": {
    "colab_type": "text",
    "id": "vVQGDzarQodI"
   },
   "source": [
    "# Homework #0 (Due 09/11/2019, 11:59pm)\n",
    "## Review of Stastistical Modeling and Scientific Computing\n",
    "\n",
    "**AM 207: Advanced Scientific Computing**<br>\n",
    "**Instructor: Weiwei Pan**<br>\n",
    "**Fall 2019**"
   ]
  },
  {
   "cell_type": "markdown",
   "metadata": {
    "colab_type": "text",
    "id": "x7IRo6KvQodO"
   },
   "source": [
    "**Name:** Rylan Schaeffer\n",
    "\n",
    "**Students collaborators:** (not really collaborators, but we did discuss select subproblems) Dmitry Vukolov, Andrew Chia, Brian Chu, Benjamin Levy, Theo Guenais"
   ]
  },
  {
   "cell_type": "markdown",
   "metadata": {
    "colab_type": "text",
    "id": "Vg3gb8nLQodR"
   },
   "source": [
    "### Instructions:\n",
    "\n",
    "**Submission Format:** Use this notebook as a template to complete your homework. Please intersperse text blocks (using Markdown cells) amongst `python` code and results -- format your submission for maximum readability. Your assignments will be graded for correctness as well as clarity of exposition and presentation -- a “right” answer by itself without an explanation or is presented with a difficult to follow format will receive no credit.\n",
    "\n",
    "**Code Check:** Before submitting, you must do a \"Restart and Run All\" under \"Kernel\" in the Jupyter or colab menu. Portions of your submission that contains syntactic or run-time errors will not be graded.\n",
    "\n",
    "**Libraries and packages:** Unless a problems specifically asks you to implement from scratch, you are welcomed to use any `python` library package in the standard Anaconda distribution."
   ]
  },
  {
   "cell_type": "code",
   "execution_count": 1,
   "metadata": {
    "colab": {},
    "colab_type": "code",
    "id": "kbzxgozJQodU"
   },
   "outputs": [],
   "source": [
    "# import basic libraries\n",
    "import numpy as np\n",
    "import pandas as pd\n",
    "import sklearn as sk\n",
    "from sklearn.linear_model import LinearRegression\n",
    "import matplotlib.pyplot as plt\n",
    "%matplotlib inline"
   ]
  },
  {
   "cell_type": "markdown",
   "metadata": {
    "colab_type": "text",
    "id": "32A-aSLtg3hk"
   },
   "source": [
    "This cell is for defining LaTeX operators. Do not delete!!!\n",
    "$\\newcommand{\\argmin}[1]{\\underset{{#1}}{\\mathrm{argmin}}}$\n",
    "$\\newcommand{\\argmax}[1]{\\underset{{#1}}{\\mathrm{argmax}}}$\n",
    "$\\DeclareMathOperator{\\defeq}{\\stackrel{def}{=}}$\n",
    "$\\DeclareMathOperator{\\Tr}{Tr}$"
   ]
  },
  {
   "cell_type": "code",
   "execution_count": 2,
   "metadata": {
    "colab": {
     "base_uri": "https://localhost:8080/",
     "height": 124
    },
    "colab_type": "code",
    "id": "q1lnk-RuWOt2",
    "outputId": "109d8aa0-dc5c-4e47-a74f-d1dd0b369748"
   },
   "outputs": [],
   "source": [
    "# Code for working in Google Colab. Comment out for TA\n",
    "\n",
    "# connect to Google Drive\n",
    "# from google.colab import drive\n",
    "# drive.mount('/content/gdrive')\n",
    "\n",
    "# Change to correct homework directory\n",
    "# import os\n",
    "# target_dir = '/content/gdrive/My Drive/Colab Notebooks/hw0'\n",
    "# if os.getcwd() != target_dir:\n",
    "#   os.chdir(target_dir)\n",
    "# assert os.getcwd() == target_dir"
   ]
  },
  {
   "cell_type": "code",
   "execution_count": 3,
   "metadata": {
    "colab": {},
    "colab_type": "code",
    "id": "5kK03YhNXIGf"
   },
   "outputs": [
    {
     "data": {
      "text/html": [
       "<div>\n",
       "<style scoped>\n",
       "    .dataframe tbody tr th:only-of-type {\n",
       "        vertical-align: middle;\n",
       "    }\n",
       "\n",
       "    .dataframe tbody tr th {\n",
       "        vertical-align: top;\n",
       "    }\n",
       "\n",
       "    .dataframe thead th {\n",
       "        text-align: right;\n",
       "    }\n",
       "</style>\n",
       "<table border=\"1\" class=\"dataframe\">\n",
       "  <thead>\n",
       "    <tr style=\"text-align: right;\">\n",
       "      <th></th>\n",
       "      <th>x</th>\n",
       "      <th>y</th>\n",
       "    </tr>\n",
       "  </thead>\n",
       "  <tbody>\n",
       "    <tr>\n",
       "      <td>0</td>\n",
       "      <td>-1.989678</td>\n",
       "      <td>1.493437</td>\n",
       "    </tr>\n",
       "    <tr>\n",
       "      <td>1</td>\n",
       "      <td>4.031862</td>\n",
       "      <td>24.280045</td>\n",
       "    </tr>\n",
       "    <tr>\n",
       "      <td>2</td>\n",
       "      <td>1.356093</td>\n",
       "      <td>22.583479</td>\n",
       "    </tr>\n",
       "    <tr>\n",
       "      <td>3</td>\n",
       "      <td>-5.069544</td>\n",
       "      <td>-6.976054</td>\n",
       "    </tr>\n",
       "    <tr>\n",
       "      <td>4</td>\n",
       "      <td>2.464958</td>\n",
       "      <td>22.710081</td>\n",
       "    </tr>\n",
       "    <tr>\n",
       "      <td>...</td>\n",
       "      <td>...</td>\n",
       "      <td>...</td>\n",
       "    </tr>\n",
       "    <tr>\n",
       "      <td>95</td>\n",
       "      <td>10.271074</td>\n",
       "      <td>32.089940</td>\n",
       "    </tr>\n",
       "    <tr>\n",
       "      <td>96</td>\n",
       "      <td>1.614810</td>\n",
       "      <td>21.509560</td>\n",
       "    </tr>\n",
       "    <tr>\n",
       "      <td>97</td>\n",
       "      <td>4.009655</td>\n",
       "      <td>47.075285</td>\n",
       "    </tr>\n",
       "    <tr>\n",
       "      <td>98</td>\n",
       "      <td>0.831539</td>\n",
       "      <td>15.762073</td>\n",
       "    </tr>\n",
       "    <tr>\n",
       "      <td>99</td>\n",
       "      <td>0.110855</td>\n",
       "      <td>10.307470</td>\n",
       "    </tr>\n",
       "  </tbody>\n",
       "</table>\n",
       "<p>100 rows × 2 columns</p>\n",
       "</div>"
      ],
      "text/plain": [
       "            x          y\n",
       "0   -1.989678   1.493437\n",
       "1    4.031862  24.280045\n",
       "2    1.356093  22.583479\n",
       "3   -5.069544  -6.976054\n",
       "4    2.464958  22.710081\n",
       "..        ...        ...\n",
       "95  10.271074  32.089940\n",
       "96   1.614810  21.509560\n",
       "97   4.009655  47.075285\n",
       "98   0.831539  15.762073\n",
       "99   0.110855  10.307470\n",
       "\n",
       "[100 rows x 2 columns]"
      ]
     },
     "execution_count": 3,
     "metadata": {},
     "output_type": "execute_result"
    }
   ],
   "source": [
    "# load data file\n",
    "pd.read_csv(\"HW0_data.csv\")"
   ]
  },
  {
   "cell_type": "markdown",
   "metadata": {
    "colab_type": "text",
    "id": "jsxDbn7WQodf"
   },
   "source": [
    "## Part I: Maximum Likelihood Estimators for Linear Regression\n",
    "### (Material covered in CS109A or equivalent)\n",
    "In this problem, you are given a dataset with a single predictor $X$ and a single outcome $y$, and your task is to fit a linear model to the data. The dataset is saved as `HW0_data.csv` in CSV (Comma Separated Values) format and can be read using the `.read_csv()` function from the `pandas` library.\n",
    "\n",
    "Assume that the outcome $y$ can be modeled by the following process:\n",
    "\\begin{aligned}\n",
    "y &= f(x) + \\epsilon = w_1x + w_0 + \\epsilon, \\quad \\epsilon \\sim \\mathcal{N}(0, 0.5)\n",
    "\\end{aligned}\n",
    "where $w_1$ and $w_0$, the *parameters* of the function $f$, are unknown constants. \n",
    "\n",
    "1. **(Model Building)** Write the analytical expression for the likelihood function $p(y|x, w_1, w_0)$, for a single observation $(x, y)$. Write the analytical expression for the likelihood function $\\prod_{n=1}^N p(y_n|x_n, w_1, w_0)$ for an entire dataset of $N$ number of observations. \n",
    "\n",
    "  *Hint: for a given $x$ and fixed parameters, what is the distribution of $y$?*"
   ]
  },
  {
   "cell_type": "markdown",
   "metadata": {
    "colab_type": "text",
    "id": "9nYlWLXyRoFg"
   },
   "source": [
    "For a single observation $(x_n, y_n)$, $p(y_n|x_n, w_1, w_0) \\sim \\mathcal{N}(\\mu = f(x_n), \\sigma^2=0.5)$. Thus, the likelihood for a single datum $(x_n, y_n)$ is:\n",
    "\n",
    "\\begin{align}\n",
    "p(y_n|x_n, w_1, w_0) = \\frac{1}{\\sqrt{2 \\pi 0.5}} \\exp \\Big\\{- \\frac{(y_n - w_1 x_n - w_0)^2}{2(0.5)} \\Big\\}\n",
    "\\end{align}\n",
    "\n",
    "The likelihood for the data altogether, assuming independence between data, is\n",
    "\n",
    "\\begin{align}\n",
    "\\prod_{n=1}^N p(y_n|x_n, w_1, w_0) \n",
    "&= \\Big( \\frac{1}{\\sqrt{2 \\pi 0.5}} \\Big)^N \\prod_{n=1}^N \\exp \\Big\\{- \\frac{(y_n - w_1 x_n - w_0)^2}{2(0.5)} \\Big\\}\\\\\n",
    "&= \\Big( \\frac{1}{\\sqrt{2 \\pi 0.5}} \\Big)^N \\exp \\Big\\{-\\frac{\\sum_{n=1}^N (y_n - w_1 x_n - w_0)^2}{2(0.5)} \\Big\\}\n",
    "\\end{align}"
   ]
  },
  {
   "cell_type": "markdown",
   "metadata": {
    "colab_type": "text",
    "id": "d_Sc5x2OQodn"
   },
   "source": [
    "2. **(Defining a Learning Objective)** The Maximum Likelihood Estimators (MLE) of $w_1$ and $w_0$ are defined as\n",
    "\n",
    "\\begin{aligned}\n",
    "w^{\\text{MLE}}_1, w^{\\text{MLE}}_0 = \\underset{w_1, w_0}{\\mathrm{argmax}}\\; \\prod_{n=1}^N p(y_n|x_n, w_1, w_0)\n",
    "\\end{aligned}\n",
    "Show that finding $w_1$ and $w_0$ that maximizes the likelihood is equivalent to finding parameters that minimize the Mean Squared Error (MSE) of your model.\n",
    "\n",
    "*Hint: show that maximizing the log likelihood is equivalent to minimizing the MSE.*"
   ]
  },
  {
   "cell_type": "markdown",
   "metadata": {
    "colab_type": "text",
    "id": "fi3PwbAkVZN-"
   },
   "source": [
    "We'd like to show that \n",
    "\n",
    "\\begin{align}\n",
    "w_1^{MLE}, w_0^{MLE} = \\argmax{w_1, w_0}\\prod_{n=1}^N p(y_n|x_n, w_1, w_0)\n",
    "\\end{align}\n",
    "\n",
    "are equal to\n",
    "\n",
    "\\begin{align}\n",
    "w_1^{MSE}, w_0^{MSE} = \\argmin{w_1, w_2} \\frac{1}{N} \\sum_{n=1}^N (y_n - w_1 x_n - w_0)^2\n",
    "\\end{align}\n",
    "\n",
    "\n",
    "This equivalence can be shown by observing that the log likelihood of the data depends on $w_1, w_0$ only through the quadratic term $- \\sum_{n=1}^N (y_n - w_1 x_n - w_0)^2$:\n",
    "\n",
    "\\begin{align}\n",
    "\\log \\prod_{n=1}^N p(y_n|x_n, w_1, w_0)\n",
    "&= -N \\log \\Big(\\sqrt{2 \\pi 0.5} \\Big) - \\Big\\{\\frac{\\sum_{n=1}^N (y_n - w_1 x_n - w_0)^2}{2(0.5)} \\Big\\}\\\\\n",
    "&\\propto - \\sum_{n=1}^N (y_n - w_1 x_n - w_0)^2\n",
    "\\end{align}\n",
    "\n",
    "Because finding the arguments $w_1, w_0$ that maximize $- \\sum_{n=1}^N (y_n - w_1 x_n - w_0)^2$ is equivalent to finding the arguments that minimize $\\sum_{n=1}^N (y_n - w_1 x_n - w_0)^2$, $w_1^{MLE}, w_0^{MLE} = w_1^{MSE}, w_0^{MSE}$."
   ]
  },
  {
   "cell_type": "markdown",
   "metadata": {
    "colab_type": "text",
    "id": "gRpcyWUXQods"
   },
   "source": [
    "3. **(Model Fitting)** Analytically derive the formulae for MLE of $w_1$ and $w_0$. Describe what information you would need in order ***prove*** that the parameters you derived maximizes the likelihood (or minimizes the MSE)?\n",
    "\n",
    "  **Extra Credit:** express your derivation of the MLE in matrix notation (i.e. [perform matrix calculus](https://www.math.uwaterloo.ca/~hwolkowi/matrixcookbook.pdf)).\n",
    "\n",
    "  *Hint: this part requires multivariate calculus.*"
   ]
  },
  {
   "cell_type": "markdown",
   "metadata": {
    "colab_type": "text",
    "id": "qrmRJrkosQ_F"
   },
   "source": [
    "Let $X$ be a $n \\times i$ matrix, where $i$ is 1 plus the dimensionality of the \"input\" data, let $Y$ be a $n \\times o$ matrix, where $o$ is the dimensionality of the \"output\" data, and let $W$ be a $o \\times i$ matrix. As shown above, maximizing the likelihood yields the exact same solution as minimizing the MSE. We start with the matrix version of the MSE and determine its fixed points with respect to $W$.\n",
    "\n",
    "\n",
    "\\begin{align}\n",
    "MSE &\\defeq \\frac{1}{N} \\Tr [ (Y - X W)^T (Y - X W) ]\\\\\n",
    "\\frac{dMSE}{dW} = 0 &= \\frac{d}{dW} \\Tr [(Y - X W)^T (Y - X W) ]\\\\\n",
    "& = \\frac{d}{dW} \\Tr(Y^T Y) - 2 \\frac{d}{dW} \\Tr (W^T X^T Y) + \\frac{d}{dW} \\Tr(W^T X^T X W)) \\\\\n",
    "&= - 2 X^T Y   + 2 X^T X W\\\\\n",
    "W &= (X^T X)^{-1} X^T Y\n",
    "\\end{align}\n",
    "\n",
    "\n",
    "Thus, the weight matrix that minimizes the MSE and maximizes the (log) likelihood is $W^* = (X^T X)^{-1} X^T Y$.\n",
    "\n",
    "\n",
    "To prove this, I'd also need to show that the Hessian of the MSE at $W^*$ has all positive eigenvalues i.e. the critical point is a minimum."
   ]
  },
  {
   "cell_type": "markdown",
   "metadata": {
    "colab_type": "text",
    "id": "5lPz4kPFQod0"
   },
   "source": [
    "4. **(Model Evaluation)** Using the `LinearRegression` class from `sklearn.linear_model`, fit a linear regression model to the dataset in `HW0_data.csv`. When you call the `.fit()` function of `LinearRegression`, the default is to find parameters that minimize MSE.\n",
    "\n",
    "  Visualize the linear function you fitted as well as the data in one plot. \n",
    "  Visualize a histogram of the residuals.\n",
    "  Using both plots, argue for whether or not your model is appropriate for the data.\n",
    "  \n",
    "  *Hint: look at the assumptions you've made in your modeling process, which assumptions are supported by the data, which are contradicted by the data?*"
   ]
  },
  {
   "cell_type": "code",
   "execution_count": 4,
   "metadata": {
    "colab": {
     "base_uri": "https://localhost:8080/",
     "height": 330
    },
    "colab_type": "code",
    "id": "DLDXpah6Y4s0",
    "outputId": "e51b487c-da57-4f81-ae91-b55f8b93b120"
   },
   "outputs": [
    {
     "name": "stdout",
     "output_type": "stream",
     "text": [
      "Intercept:  5.216305236320818\n",
      "Slope:  8.863400189348951\n"
     ]
    },
    {
     "data": {
      "image/png": "[encoded data removed]",
      "text/plain": [
       "<Figure size 432x288 with 1 Axes>"
      ]
     },
     "metadata": {
      "needs_background": "light"
     },
     "output_type": "display_data"
    }
   ],
   "source": [
    "# load data\n",
    "data = pd.read_csv('HW0_data.csv')\n",
    "x, y = data.loc[:,'x'].values, data.loc[:,'y'].values\n",
    "x, y = x.reshape(-1, 1), y.reshape(-1, 1)\n",
    "\n",
    "# fit linear model\n",
    "linreg = sk.linear_model.LinearRegression()\n",
    "linreg.fit(x, y)\n",
    "y_hat = linreg.predict(x)\n",
    "print('Intercept: ', linreg.coef_[0, 0])\n",
    "print('Slope: ', linreg.intercept_[0])\n",
    "plt.scatter(x, y,  color='black')\n",
    "plt.plot(x, y_hat, color='blue', linewidth=3)\n",
    "plt.xlabel('x')\n",
    "plt.ylabel('y')\n",
    "plt.title('X vs Y')\n",
    "plt.show()"
   ]
  },
  {
   "cell_type": "code",
   "execution_count": 5,
   "metadata": {
    "colab": {
     "base_uri": "https://localhost:8080/",
     "height": 295
    },
    "colab_type": "code",
    "id": "Rf0CFnOVcHgI",
    "outputId": "c2542ada-d23d-4c86-8037-fc8324f0faf1"
   },
   "outputs": [
    {
     "data": {
      "image/png": "[encoded data removed]",
      "text/plain": [
       "<Figure size 432x288 with 1 Axes>"
      ]
     },
     "metadata": {
      "needs_background": "light"
     },
     "output_type": "display_data"
    }
   ],
   "source": [
    "# plot residuals\n",
    "residuals = y - y_hat\n",
    "plt.hist(residuals, bins=30)\n",
    "plt.title('Histogram of Residuals')\n",
    "plt.xlabel('Residual')\n",
    "plt.ylabel('Counts')\n",
    "plt.show()"
   ]
  },
  {
   "cell_type": "code",
   "execution_count": 6,
   "metadata": {
    "colab": {
     "base_uri": "https://localhost:8080/",
     "height": 295
    },
    "colab_type": "code",
    "id": "_cmEhK_ycnPM",
    "outputId": "cf68fc07-8c97-4444-d5a5-6c4fb06d5089"
   },
   "outputs": [
    {
     "data": {
      "image/png": "[encoded data removed]",
      "text/plain": [
       "<Figure size 432x288 with 1 Axes>"
      ]
     },
     "metadata": {
      "needs_background": "light"
     },
     "output_type": "display_data"
    }
   ],
   "source": [
    "# plot x vs residuals\n",
    "plt.scatter(x, residuals,  color='black')\n",
    "plt.title('X vs Residuals')\n",
    "plt.xlabel('x')\n",
    "plt.ylabel('residual')\n",
    "plt.show()"
   ]
  },
  {
   "cell_type": "markdown",
   "metadata": {
    "colab_type": "text",
    "id": "hD8HSf5EccwD"
   },
   "source": [
    "Our model is inappropriate for our data for at least two reasons. First, one assumption of our model is that errors follow a Gaussian distribution. However, looking at the histogram of residuals, one sees that the distribution is not Gaussian for two reasons: (a) the distribution has a heavy left tail, and (b) the distribution has a spike on the right tail. Second, another assumption of our model is that the variance of errors is independent of x. However, looking at the plot of residuals vs x, we see that the variance of the errors is significantly higher further away from x = 0."
   ]
  },
  {
   "cell_type": "markdown",
   "metadata": {
    "colab_type": "text",
    "id": "Jk5RUWS9Qod6"
   },
   "source": [
    "5. **(Uncertainty Quantification)** Compute the 95% [Confidence Interval (CI)](https://stattrek.com/estimation/confidence-interval.aspx) of the parameters you estimated for the dataset in `HW0_data.csv` by bootstrapping (this requires you to access the model parameters of the `LinearRegression` class). How confident are you in the 'correctness' or 'reliability' of your parameter estimates given the CI's?\n",
    "\n",
    "  Compute the [Predictive Interval (PI)](https://otexts.com/fpp2/prediction-intervals.html) of a single prediction at $x=2$ by bootstrapping. How confident are you in your prediction for $x=2$ given the PI?\n",
    "  \n",
    "  *Hint: bootstrapping is the process of (1) generating multiple datasets (with equal size as the training data) that are similarly distributed as your training data by sampling your data with replacement, (2) estimating a quantity of interest repeatedly using these datasets. You can then empirically compute the percentile of interest from the bootstrap estimates of your quanity of interest.* \n",
    "  \n",
    "  *Generating samples from your training data can be done using the `.sample()` function of the `pandas` `DataFrame` class.*\n",
    "  \n",
    "  *Computing percentiles of samples can be done using the `.percentile()` function of the `numpy` library.*"
   ]
  },
  {
   "cell_type": "markdown",
   "metadata": {
    "colab_type": "text",
    "id": "Bvd3eUieK9wz"
   },
   "source": [
    "A quick note: I choose to bootstrap 10000 data sets. This was a personal choice, as most resources I read had different recommendations and different reasons concerning the number of data sets to sample. 10000 was a tradeoff between wanting to quickly run the code and wanting to have a large sample size to construct decent intervals."
   ]
  },
  {
   "cell_type": "code",
   "execution_count": 7,
   "metadata": {
    "colab": {
     "base_uri": "https://localhost:8080/",
     "height": 52
    },
    "colab_type": "code",
    "id": "suqyLM82Qod7",
    "outputId": "62a64dd1-0394-49e7-af20-3f15a87deff8"
   },
   "outputs": [
    {
     "name": "stdout",
     "output_type": "stream",
     "text": [
      "95% Confidence Interval:  [4.344 6.05 ]\n",
      "95% Predictive Interval at x=2:  [16.782 21.822]\n"
     ]
    }
   ],
   "source": [
    "from sklearn.utils import resample\n",
    "\n",
    "num_samples = 10000\n",
    "w_1, w_0 = np.zeros(num_samples), np.zeros(num_samples)\n",
    "y_hat_at_2 = np.zeros(num_samples)\n",
    "\n",
    "for i in range(num_samples):\n",
    "  # sample new dataset with replacement\n",
    "  x_boostrapped, y_boostrapped = resample(x, y, replace=True)\n",
    "  \n",
    "  # fit linear model\n",
    "  linreg = sk.linear_model.LinearRegression()\n",
    "  linreg.fit(x_boostrapped, y_boostrapped)\n",
    "  \n",
    "  # extract w_1, w_0\n",
    "  w_1[i] = linreg.coef_[0, 0]\n",
    "  w_0[i] = linreg.intercept_[0]\n",
    "  y_hat_at_2[i] = linreg.predict([[2.]])\n",
    "  \n",
    "print('95% Confidence Interval: ', np.round(np.percentile(w_1, [2.5, 97.5]), 3))\n",
    "print('95% Predictive Interval at x=2: ', np.round(np.percentile(y_hat_at_2, [2.5, 97.5]), 3))\n"
   ]
  },
  {
   "cell_type": "markdown",
   "metadata": {
    "colab_type": "text",
    "id": "gfFBXV2dxHWR"
   },
   "source": [
    "I'm decently confident in the 95% predictive interval at x=2 since the data around x=2 seem to fall almost entirely in the predictive interval. I'm less confident in the $w_1$ confidence interval since (a) there are few data points on the extremeties (x < -5 or x > 6) and (b) MLE estimators are notoriously susceptible to influence by distant points due to the quadratic penalty on error."
   ]
  },
  {
   "cell_type": "markdown",
   "metadata": {
    "colab_type": "text",
    "id": "-I41aMIqQoeA"
   },
   "source": [
    "## Part II: Bayesian Linear Regression\n",
    "### (Material covered in CS109 B or equivalent)\n",
    "In this problem, your task is to perform Bayesian linear regression on the dataset in `HW0_data.csv`.\n",
    "\n",
    "Assume that the outcome $y$ can be modeled by the following process:\n",
    "\\begin{aligned}\n",
    "y &= f(x) + \\epsilon = w_1x + w_0 + \\epsilon, \\quad \\epsilon \\sim \\mathcal{N}(0, 0.5)\\\\\n",
    "w_0 &\\sim \\mathcal{N}(0, 1)\\\\\n",
    "w_1 &\\sim \\mathcal{N}(0, 0.5)\n",
    "\\end{aligned}\n",
    "In this model, we assume the same likelihood as in Part I, but we also include priors for $w_0$ and $w_1$: $p(w_0) = \\mathcal{N}(0, 1)$, $p(w_1) = \\mathcal{N}(0, 0.5)$"
   ]
  },
  {
   "cell_type": "markdown",
   "metadata": {
    "colab_type": "text",
    "id": "Mh4r16wDQoeC"
   },
   "source": [
    "1. **(Inference)** Analytically derive the joint posterior distribution over the parameters. That is, analytically compute\n",
    "\n",
    "\\begin{aligned}\n",
    "p(w_1, w_0 | y_1, \\ldots y_n, x_1, \\ldots, x_n) = \\frac{\\left(\\prod_{n=1}^Np(y_n|x_n, w_1, w_0)\\right)p(w_1)p(w_0)}{\\prod_{n=1}^Np(y_n|x_n)}.\n",
    "\\end{aligned}\n",
    "\n",
    "\n",
    "  *Hint: The posterior of a model with a Gaussian (or normal) likelihood and Gaussian priors is yet again Gaussian. This derivation is included in many machine learning textbooks like Machine Learning: a Probabilistic Perspective by Murphy or Pattern Recognition and Machine Learning by Bishop. This derivation also appears online in many course notes - you are welcomed to use any and all available resources.*"
   ]
  },
  {
   "cell_type": "markdown",
   "metadata": {
    "colab_type": "text",
    "id": "szcHHFm783zj"
   },
   "source": [
    "For simplicity, we'll consider the joint prior over the weights as a multivariate Gaussian:\n",
    "\n",
    "\\begin{align}\n",
    "P \\Big( w = \\begin{bmatrix} w_1\\\\w_0 \\end{bmatrix} \\Big) \\sim \\mathcal{N} \\Big(\n",
    "\\mu_{prior} = \\begin{bmatrix} 0 \\\\ 0 \\end{bmatrix},\n",
    "\\Sigma_{prior} = \\begin{bmatrix} 0.5 & 0 \\\\ 0 & 1 \\end{bmatrix}\\Big)\n",
    "\\end{align}\n",
    "\n",
    "Let $Y$ be a $N \\times 1$ vector consisting of $N$ observations $y_n$ each of dimension $1$. Similarly, let $X$ be a $N \\times 2$ vector, where each row consists of $\\begin{bmatrix} x_n & 1 \\end{bmatrix}$. The posterior of the weights is therefore:\n",
    "\n",
    "\\begin{align}\n",
    "p(w | Y, X)\n",
    "&= \\frac{P(Y|X, w) P(w)}{P(Y | X)}\\\\\n",
    "&\\propto P(Y|X, w) P(w)\\\\\n",
    "&\\propto \\Big( \\frac{1}{\\sqrt{2 \\pi 0.5}} \\Big)^N \\exp \\Big( -\\frac{1}{2} \\frac{(Y - Xw)^T (Y - Xw)}{(0.5)} \\Big) \\frac{1}{\\sqrt{2 \\pi |\\Sigma_{prior}|}} \\exp \\Big( -\\frac{1}{2} w^T \\Sigma_{prior}^{-1} w  \\Big)\\\\\n",
    "&\\propto \\exp \\Big(-\\frac{1}{2} \\frac{(Y - Xw)^T (Y - Xw)}{(0.5)} \\Big) \\exp \\Big( -\\frac{1}{2} w^T \\Sigma_{prior}^{-1} w  \\Big)\\\\\n",
    "&\\propto \\exp \\Big(-\\frac{1}{2} (2 Y^T Y - 4 Y^T X w + w^T (2X^T X + \\Sigma_{prior}^{-1}) w) \\Big)\n",
    "\\end{align}\n",
    "\n",
    "Because the posterior is a product of two Gaussians, the posterior will also be normally distributed. We can easily determine its mean and covariance based on the form of a Gaussian PDF. The covariance of the posterior is the inverse of the precision of the posterior: $\\Sigma_{posterior} = (2 X^T X + \\Sigma_{prior}^{-1})^{-1}$. To find the mean, we want to find $\\mu$ such that\n",
    "$2 \\mu^T \\Sigma_{posterior}^{-1} w = 4 Y^T X w \\Rightarrow \\mu^T = 2 Y^T X \\Sigma_{posterior}$. Thus, our posterior for the weights is:\n",
    "\n",
    "\\begin{align}\n",
    "P(w|X, Y) \\sim \\mathcal{N} \\Big( 2(2X^T X + \\Sigma_{prior}^{-1})^{-1} X^T Y, (2 X^T X + \\Sigma_{prior}^{-1})^{-1} \\Big)\n",
    "\\end{align}\n"
   ]
  },
  {
   "cell_type": "markdown",
   "metadata": {
    "colab_type": "text",
    "id": "zhL1zUp9QoeO"
   },
   "source": [
    "2. **(Model Interpretation)** Visualize the ***joint posterior*** over the parameters, $p(w_1, w_0 | y, x)$ for the dataset in `HW0_data.csv` (you may use a scatter plot of samples drawn from the posterior or a contour map/heat map of the pdf). In separate plots, visualize the ***marginal posterior*** distribution over each parameter,\n",
    "\n",
    "\n",
    "\\begin{aligned}\n",
    "p(w_1 | y_1, \\ldots y_n, x_1, \\ldots, x_n) &= \\int_{w_0} p(w_1, w_0 | y_1, \\ldots y_n, x_1, \\ldots, x_n) dw_0\\\\\n",
    "p(w_0 | y_1, \\ldots y_n, x_1, \\ldots, x_n) &= \\int_{w_0} p(w_1, w_0 | y_1, \\ldots y_n, x_1, \\ldots, x_n) dw_1\n",
    "\\end{aligned}\n",
    "\n",
    "  Is the information contained in the joint posterior $p(w_1, w_0 | y_1, \\ldots y_n, x_1, \\ldots, x_n)$ equivalent to the information contained in the two marginals $p(w_1 | y_1, \\ldots y_n, x_1, \\ldots, x_n), p(w_0 | y_1, \\ldots y_n, x_1, \\ldots, x_n)$? That is, what does each distribution tell you?\n",
    "\n",
    "  *Hint: it is not necessary to analytically derive the marginals $p(w_i | y_1, \\ldots y_n, x_1, \\ldots, x_n)$. Recall that you can perform marginalization of a variable by sampling from the joint distribution and disregarding that variable.*"
   ]
  },
  {
   "cell_type": "code",
   "execution_count": 8,
   "metadata": {
    "colab": {
     "base_uri": "https://localhost:8080/",
     "height": 225
    },
    "colab_type": "code",
    "id": "3eWpcPPXQoeP",
    "outputId": "6c08833e-78bf-4933-fe79-47407d74c534"
   },
   "outputs": [
    {
     "name": "stdout",
     "output_type": "stream",
     "text": [
      "Prior Covariance:\n",
      " [[0.5 0. ]\n",
      " [0.  1. ]]\n",
      "Posterior Precision:\n",
      " [[4426.49505329  211.24678245]\n",
      " [ 211.24678245  201.        ]]\n",
      "Posterior Covariance:\n",
      " [[ 0.00023784 -0.00024997]\n",
      " [-0.00024997  0.00523783]]\n",
      "Posterior Mean:\n",
      " [[5.21603948]\n",
      " [8.81958297]]\n"
     ]
    }
   ],
   "source": [
    "# compute closed-form matrices of distributions\n",
    "\n",
    "# step 1: create data matrices\n",
    "X = np.stack((x, np.ones(x.shape)), axis=-1).squeeze()\n",
    "Y = y\n",
    "assert X.shape == (100, 2)\n",
    "assert Y.shape == (100, 1)\n",
    "\n",
    "# step 2: create weight posterior as multivariate gaussian\n",
    "prior_covariance = np.array([[0.5, 0], [0, 1]])\n",
    "print('Prior Covariance:\\n', prior_covariance)\n",
    "\n",
    "post_precision = 2 * np.matmul(np.matrix.transpose(X), X) + np.linalg.inv(prior_covariance)\n",
    "print('Posterior Precision:\\n', post_precision)\n",
    "\n",
    "post_covariance = np.linalg.inv(post_precision)\n",
    "print('Posterior Covariance:\\n', post_covariance)\n",
    "\n",
    "post_mean = 2 * np.einsum(\"ij,jk,kl\", post_covariance, np.matrix.transpose(X), Y)\n",
    "print('Posterior Mean:\\n', post_mean)\n",
    "\n",
    "# step 3: sample each weight w_1, w_0 to obtain univariate distributions\n",
    "weight_samples = np.random.multivariate_normal(post_mean.squeeze(), post_covariance, size=num_samples)"
   ]
  },
  {
   "cell_type": "code",
   "execution_count": 9,
   "metadata": {
    "colab": {
     "base_uri": "https://localhost:8080/",
     "height": 351
    },
    "colab_type": "code",
    "id": "ImU_RAhIkJRe",
    "outputId": "f95bbdd8-b8b3-435f-9ac1-e422332f93b2"
   },
   "outputs": [
    {
     "data": {
      "image/png": "[encoded data removed]",
      "text/plain": [
       "<Figure size 936x360 with 3 Axes>"
      ]
     },
     "metadata": {
      "needs_background": "light"
     },
     "output_type": "display_data"
    }
   ],
   "source": [
    "# create 2D grid\n",
    "x_tick, y_tick = np.mgrid[5.1:5.3:.01, 8.6:9.:.01]\n",
    "pos = np.dstack((x_tick, y_tick))\n",
    "\n",
    "# compute PDF at (x, y) coordinates\n",
    "import scipy as sp\n",
    "z = sp.stats.multivariate_normal(post_mean.squeeze(), post_covariance).pdf(pos)\n",
    "\n",
    "# plot the weight posterior pdf\n",
    "fig, ax = plt.subplots(1, 3, figsize=(13, 5))\n",
    "ax[0].contourf(x_tick, y_tick, z, levels=14, cmap='Reds')\n",
    "ax[0].set_title('Weight Posterior Distribution')\n",
    "ax[0].set_xlabel('w_1')\n",
    "ax[0].set_ylabel('w_0')\n",
    "\n",
    "ax[1].hist(weight_samples[:,0], bins=50, color='red', density=True)\n",
    "ax[1].set_title('w_1 Distribution')\n",
    "ax[1].set_xlabel('w_1')\n",
    "ax[1].set_ylabel('Density')\n",
    "\n",
    "ax[2].hist(weight_samples[:, 1], bins=50, color='red', density=True)\n",
    "ax[2].set_title('w_0 Distribution')\n",
    "ax[2].set_xlabel('w_0')\n",
    "ax[2].set_ylabel('Density')\n",
    "\n",
    "\n",
    "plt.show()"
   ]
  },
  {
   "cell_type": "markdown",
   "metadata": {
    "colab_type": "text",
    "id": "G0LCXi_WoLAD"
   },
   "source": [
    "The information contained in the joint posterior is NOT the same as the information contained in the two marginal posteriors. Specifically, the joint posterior has information regarding the covariance of the two weights, which is now non-zero due to the likelihood. Each marginal weight posterior gives us a distribution for that weight, averaged over the possible values of the other weight."
   ]
  },
  {
   "cell_type": "markdown",
   "metadata": {
    "colab_type": "text",
    "id": "A5vki4s3QoeU"
   },
   "source": [
    "3. **(Prediction)** In Bayesian linear regression, we obtain a distribution over possible parameters given the data, $p(w_1, w_0 | y_1, \\ldots y_n, x_1, \\ldots, x_n)$, rather than a single ***point-estimate*** of the 'best' parameters. This means that when we predict an outcome for, say, $x=2$ we get a distribution over possible values of $y$ rather than a single $y$. The distribution over the predicted $y$ for a given $x$ is called the ***posterior predictive***, and is denoted $p(y|x)$.\n",
    "\n",
    "  Visualize the posterior predictive $p(y|x)$ at $x=2$ for the dataset in `HW0_data.csv`as a histogram. \n",
    "\n",
    "  *Hint: randomly sample possible parameters from the posterior $p(w_1, w_0 | y_1, \\ldots y_n, x_1, \\ldots, x_n)$. Each sample represents a linear function $f(x)$. Make a prediction at $x=2$ using each $f(x)$.*"
   ]
  },
  {
   "cell_type": "code",
   "execution_count": 10,
   "metadata": {
    "colab": {
     "base_uri": "https://localhost:8080/",
     "height": 295
    },
    "colab_type": "code",
    "id": "Veubj4pJQoeW",
    "outputId": "9ce8ac48-19fc-4079-87b7-521ec4669274"
   },
   "outputs": [
    {
     "data": {
      "image/png": "[encoded data removed]",
      "text/plain": [
       "<Figure size 432x288 with 1 Axes>"
      ]
     },
     "metadata": {
      "needs_background": "light"
     },
     "output_type": "display_data"
    }
   ],
   "source": [
    "y_hat_at_2_bayesian = np.zeros(weight_samples.shape[0])\n",
    "for i in range(weight_samples.shape[0]):\n",
    "  sampled_w_1, sampled_w_0 = weight_samples[i]\n",
    "  y_hat_at_2_bayesian[i] = sampled_w_1 * 2 + sampled_w_0\n",
    "plt.hist(y_hat_at_2_bayesian, bins=30, density=True)\n",
    "plt.title('Posterior Predictive at x=2')\n",
    "plt.xlabel('Predicted Y')\n",
    "plt.ylabel('Density')\n",
    "plt.show()"
   ]
  },
  {
   "cell_type": "markdown",
   "metadata": {
    "colab_type": "text",
    "id": "E_NVouMcQoeZ"
   },
   "source": [
    "## Part III: Comparison\n",
    "\n",
    "You've now modeled the same set of data using non-Bayesian and Bayesian regression models. In both paradigms it's possible to identify a 'best' set of model parameters (in the non-Bayesian approach, we compute the MLE; in the Bayesian approach, we can compute the mean or mode of the posterior). In both paradigms it is possible to get a sense of the uncertainty we have about our estimates of the parameter and our predictions. \n",
    "\n",
    "1. Compute the 95 percentile interval of the marginal posterior distributions $p(w_i | y_1, \\ldots y_n, x_1, \\ldots, x_n)$  for the dataset in `HW0_data.csv` (you can either do this analytically, or empirically using samples from $p(w_i | y_1, \\ldots y_n, x_1, \\ldots, x_n)$). Compare these intervals to the CI's you computed in Part I. Which interval is wider? What does this say about the uncertainty of each model over the parameters?"
   ]
  },
  {
   "cell_type": "code",
   "execution_count": 11,
   "metadata": {
    "colab": {
     "base_uri": "https://localhost:8080/",
     "height": 86
    },
    "colab_type": "code",
    "id": "niSiAOXxQoeb",
    "outputId": "ad8f9bd0-374f-4930-9717-7bda377d9abe"
   },
   "outputs": [
    {
     "name": "stdout",
     "output_type": "stream",
     "text": [
      "Bayesian 95% Confidence Interval for w_1:  [5.186 5.246]\n",
      "MLE 95% Confidence Interval for w_1:  [4.344 6.05 ]\n",
      "Bayesian 95% Confidence Interval for w_0:  [8.676 8.961]\n",
      "MLE 95% Confidence Interval for w_0:  [ 6.262 11.441]\n"
     ]
    }
   ],
   "source": [
    "print('Bayesian 95% Confidence Interval for w_1: ', np.round(np.percentile(weight_samples[:,0], [2.5, 97.5]), 3))\n",
    "print('MLE 95% Confidence Interval for w_1: ', np.round(np.percentile(w_1, [2.5, 97.5]), 3))\n",
    "print('Bayesian 95% Confidence Interval for w_0: ', np.round(np.percentile(weight_samples[:,1], [2.5, 97.5]), 3))\n",
    "print('MLE 95% Confidence Interval for w_0: ', np.round(np.percentile(w_0, [2.5, 97.5]), 3))"
   ]
  },
  {
   "cell_type": "markdown",
   "metadata": {
    "colab_type": "text",
    "id": "UEtknfrbw64k"
   },
   "source": [
    "The MLE intervals are wider than the Bayesian intervals. This makes sense looking at the equations: the prior covariance acts to inflate the posterior's precision, reducing the posterior's variance. The implication is that the Bayesian model is more certain in the values of these two parameters than the MLE model."
   ]
  },
  {
   "cell_type": "markdown",
   "metadata": {
    "colab_type": "text",
    "id": "dr8RWLvKQoee"
   },
   "source": [
    "2. Compute the 95 percentile interval of posterior predictive at $x=2$ for the dataset in `HW0_data.csv` (you can either do this analytically, or empirically using samples from $p(y| x=2)$). Compare this interval to the PI you computed in Part I. Which interval is wider? What does this say about the uncertainty of each model over the prediction?"
   ]
  },
  {
   "cell_type": "code",
   "execution_count": 12,
   "metadata": {
    "colab": {
     "base_uri": "https://localhost:8080/",
     "height": 52
    },
    "colab_type": "code",
    "id": "9PLHNiTgyRGk",
    "outputId": "e6ff18a3-63c2-405f-fc4a-1680ab3e148e"
   },
   "outputs": [
    {
     "name": "stdout",
     "output_type": "stream",
     "text": [
      "Bayesian 95% Predictive Interval at x=2:  [19.111 19.392]\n",
      "95% Predictive Interval at x=2:  [16.782 21.822]\n"
     ]
    }
   ],
   "source": [
    "print('Bayesian 95% Predictive Interval at x=2: ', np.round(np.percentile(y_hat_at_2_bayesian, [2.5, 97.5]), 3))\n",
    "print('95% Predictive Interval at x=2: ', np.round(np.percentile(y_hat_at_2, [2.5, 97.5]), 3))"
   ]
  },
  {
   "cell_type": "markdown",
   "metadata": {
    "colab_type": "text",
    "id": "OVY5Q0Frybp3"
   },
   "source": [
    "The MLE interval is wider than the Bayesian interval. This means that the Bayesian model is more confident in the predicted range of possible $y$ values given that $x=2$. This agrees with my previous answer, that the Bayesian model has more confidence in the parameters' values, since more certain parameters means less variable predictions."
   ]
  },
  {
   "cell_type": "markdown",
   "metadata": {
    "colab_type": "text",
    "id": "-J0tCia-Qoej"
   },
   "source": [
    "**Extra Credit:** For the maximum likelihood model, visualize the mean prediction and the PI at 100 equally spaced $x$'s (using bootstrap) against the training data. Scatter plot the data; plot the mean prediction as a line; plot the PI as similarly colored shaded region (use the `.fill_between()` function from the `matplotlib`).\n",
    "\n",
    "For the Bayesian regression model, visualize the posterior mean prediction and the 95 percentile interval of the posterior predictive (you should estimate these quantities empirically). Scatter plot the data; plot the posterior mean prediction as a line; plot the PI as similarly colored shaded region. \n",
    "\n",
    "Using these visualizations, make an argument for which model is more appropriate for the model. \n",
    "\n",
    "For each model how do your choices (the variance in the likelihood, the priors) affect the model you learn? Given the visualizations, are our choices of the likelihood (and or the priors) appropriate?"
   ]
  },
  {
   "cell_type": "code",
   "execution_count": 13,
   "metadata": {
    "colab": {
     "base_uri": "https://localhost:8080/",
     "height": 370
    },
    "colab_type": "code",
    "id": "QhUa9mXEQoel",
    "outputId": "8dfdc1db-8e17-48a1-81ca-2721acc590bf"
   },
   "outputs": [
    {
     "data": {
      "image/png": "[encoded data removed]",
      "text/plain": [
       "<Figure size 1440x360 with 2 Axes>"
      ]
     },
     "metadata": {
      "needs_background": "light"
     },
     "output_type": "display_data"
    }
   ],
   "source": [
    "# load data\n",
    "data = pd.read_csv('HW0_data.csv')\n",
    "x, y = data.loc[:,'x'].values, data.loc[:,'y'].values\n",
    "x, y = x.reshape(-1, 1), y.reshape(-1, 1)\n",
    "\n",
    "# define x values to predict y at\n",
    "x_ticks = np.linspace(-15, 15, 100)\n",
    "\n",
    "# for bootstrapped MLE estimate, construct a [number of weight samples, number ticks] matrix\n",
    "# then, generate 10k data sets. for each, find MLE. predict for each point in x_ticks.\n",
    "mle_y_pred_at_x_ticks = np.zeros((weight_samples.shape[0], x_ticks.shape[0]))\n",
    "\n",
    "linreg = sk.linear_model.LinearRegression()\n",
    "\n",
    "for i in range(num_samples):\n",
    "  x_boostrapped, y_boostrapped = resample(x, y, replace=True)\n",
    "  linreg.fit(x_boostrapped, y_boostrapped)\n",
    "  mle_y_pred_at_x_ticks[i] = linreg.predict(x_ticks.reshape(-1, 1)).squeeze()\n",
    "mle_y_pred_mean = np.mean(mle_y_pred_at_x_ticks, axis=0)\n",
    "mle_y_ninety_five_interval = np.apply_along_axis(\n",
    "    func1d=np.percentile,\n",
    "    arr=mle_y_pred_at_x_ticks,\n",
    "    axis=0,\n",
    "    q=[2.5, 97.5])\n",
    "\n",
    "\n",
    "# for posterior predictive, construct a [number of weight samples, number ticks] matrix\n",
    "# for each sampled weight, evaluate p(y|x) at each tick number\n",
    "bayes_y_pred_at_x_ticks = np.zeros((weight_samples.shape[0], x_ticks.shape[0]))\n",
    "for i in range(weight_samples.shape[0]):\n",
    "  sampled_w_1, sampled_w_0 = weight_samples[i]\n",
    "  bayes_y_pred_at_x_ticks[i] = sampled_w_1 * x_ticks + sampled_w_0\n",
    "bayes_y_pred_mean = np.mean(bayes_y_pred_at_x_ticks, axis=0)\n",
    "bayes_y_ninety_five_interval = np.apply_along_axis(\n",
    "    func1d=np.percentile,\n",
    "    arr=bayes_y_pred_at_x_ticks,\n",
    "    axis=0,\n",
    "    q=[2.5, 97.5])\n",
    "\n",
    "# plot Bayesian posterior predictive \n",
    "fig, ax = plt.subplots(1, 2, figsize=(20, 5))\n",
    "ax[0].scatter(x, y,  color='black')\n",
    "ax[0].fill_between(x_ticks,\n",
    "                   mle_y_ninety_five_interval[0,:],  # 2.5%\n",
    "                   mle_y_ninety_five_interval[1,:],  # 97.5%\n",
    "                   color='red')\n",
    "ax[0].plot(x_ticks, mle_y_pred_mean, color='black')\n",
    "ax[0].set_title('Bootstrapped MLE Mean Prediction & 95% Prediction Interval')\n",
    "ax[0].set_xlabel('x')\n",
    "ax[0].set_ylabel('y')\n",
    "\n",
    "\n",
    "ax[1].scatter(x, y,  color='black')\n",
    "ax[1].fill_between(x_ticks,\n",
    "                   bayes_y_ninety_five_interval[0,:],  # 2.5%\n",
    "                   bayes_y_ninety_five_interval[1,:],  # 97.5%\n",
    "                   color='red')\n",
    "ax[1].plot(x_ticks, bayes_y_pred_mean, color='black')\n",
    "ax[1].set_title('Bayesian Posterior Mean Prediction & 95% Prediction Interval')\n",
    "ax[1].set_xlabel('x')\n",
    "ax[1].set_ylabel('y')\n",
    "\n",
    "plt.show()\n",
    "\n",
    "\n"
   ]
  },
  {
   "cell_type": "markdown",
   "metadata": {
    "colab_type": "text",
    "id": "-5NpXJNA0DMp"
   },
   "source": [
    "Based on these visualizations, I'd argue that the MLE-based model is better at modeling this data than the Bayesian model. Although the Bayesian model promises tighter prediction intervals, the prediction intervals are unrealistically tight; in contrast, the MLE solution has much greater uncertainty on the extremeties (about x < -5 and 5 < x). The difference between these two models is caused by the prior, which posits an unrealistically low variance for $w_1$ and $w_0$, which in turn shrinks the covariances of the posterior towards smaller values. Consequently, I would argue that the prior we chose here is NOT appropriate."
   ]
  }
 ],
 "metadata": {
  "colab": {
   "collapsed_sections": [],
   "name": "AM207_HW0.ipynb",
   "provenance": [],
   "version": "0.3.2"
  },
  "kernelspec": {
   "display_name": "Python 3",
   "language": "python",
   "name": "python3"
  },
  "language_info": {
   "codemirror_mode": {
    "name": "ipython",
    "version": 3
   },
   "file_extension": ".py",
   "mimetype": "text/x-python",
   "name": "python",
   "nbconvert_exporter": "python",
   "pygments_lexer": "ipython3",
   "version": "3.6.8"
  }
 },
 "nbformat": 4,
 "nbformat_minor": 4
}
