{
 "cells": [
  {
   "cell_type": "markdown",
   "metadata": {
    "slideshow": {
     "slide_type": "slide"
    }
   },
   "source": [
    "# Lab #3: Sampling and Monte Carlo Integration\n",
    "## AM 207: Advanced Scientific Computing\n",
    "### Stochastic Methods for Data Analysis, Inference and Optimization\n",
    "### Fall, 2019"
   ]
  },
  {
   "cell_type": "markdown",
   "metadata": {
    "slideshow": {
     "slide_type": "slide"
    }
   },
   "source": [
    "<img src=\"fig/logos.jpg\" style=\"height:150px;\">"
   ]
  },
  {
   "cell_type": "code",
   "execution_count": 2,
   "metadata": {
    "slideshow": {
     "slide_type": "skip"
    }
   },
   "outputs": [],
   "source": [
    "### Import basic libraries\n",
    "from functools import partial\n",
    "import numpy as np\n",
    "import scipy as sp\n",
    "import pandas as pd\n",
    "import sklearn as sk\n",
    "from sklearn.linear_model import LinearRegression\n",
    "import matplotlib.pyplot as plt\n",
    "%matplotlib inline"
   ]
  },
  {
   "cell_type": "markdown",
   "metadata": {
    "slideshow": {
     "slide_type": "slide"
    }
   },
   "source": [
    "## Outline\n",
    "1. Monte Carlo Estimation of a Gener Integral\n",
    "2. Practice: Implementing Monte Carlo Integration"
   ]
  },
  {
   "cell_type": "markdown",
   "metadata": {
    "slideshow": {
     "slide_type": "slide"
    }
   },
   "source": [
    "## Arbitrary Definite Integrals\n",
    "\n",
    "We formulated Monte Carlo estimation as a way to approximate the expected value of functions of random variables. However, given a function of deterministic variables, $f(x)$, we can rewrite the integral\n",
    "\n",
    "$$\n",
    "\\int_{\\Omega} f(x) dx,\n",
    "$$\n",
    "\n",
    "where $x\\in\\mathbb{R}^D$ and $\\Omega \\subseteq \\mathbb{R}^D$, like an expectation\n",
    "\n",
    "$$\n",
    "\\int_{\\Omega} f(x) dx = \\int_{\\Omega} g(x)h(x) dx,\n",
    "$$\n",
    "\n",
    "if we can factor $f$ as $f(x) = g(x)h(x)$.\n",
    "\n",
    "The rewritten integral looks a lot like the expectation of $g(X)$ where the pdf of $X$ is $h(X)$. The only problem is that $h(x)$ is not necessarily a pdf!"
   ]
  },
  {
   "cell_type": "markdown",
   "metadata": {
    "slideshow": {
     "slide_type": "slide"
    }
   },
   "source": [
    "## Rewriting an Arbitrary Definite Integral as an Expectation\n",
    "\n",
    "We want to rewrite the following expression as an expectation:\n",
    "$$\n",
    "\\int_{\\Omega} f(x) dx = \\int_{\\Omega} g(x)h(x) dx.\n",
    "$$\n",
    "Let $V$ denote the integral of $h$ over $\\Omega$:\n",
    "$$\n",
    "V = \\int_{\\Omega} h(x)dx.\n",
    "$$\n",
    "Note that, then, $\\int_{\\Omega} \\frac{1}{V}h(x)dx = 1$. Hence, $\\frac{1}{V}h(x)$ is a valid pdf over $\\Omega$. \n",
    "\n",
    "Then we can write:\n",
    "$$\n",
    "\\int_{\\Omega} f(x) dx = \\int_{\\Omega} \\left(Vg(x)\\right)\\left(\\frac{1}{V}h(x)\\right)dx.\n",
    "$$\n",
    "\n",
    "We recognize the above integral as an expectation, and hence can estimated using Monte Carlo methods:\n",
    "$$\n",
    "\\mathbb{E}_{X\\sim \\frac{1}{V}h(X)}[Vg(X)] \\approx V\\sum_{s=1}^S g(X_s),\\; X_s\\sim \\frac{1}{V}h(X).\n",
    "$$"
   ]
  },
  {
   "cell_type": "markdown",
   "metadata": {
    "slideshow": {
     "slide_type": "slide"
    }
   },
   "source": [
    "## How Do You Factor the Integrand $f$?\n",
    "\n",
    "Once we factor $f(x)$ as $f(x) = g(x)h(x)$, then we can rewrite the integral of $f$ (over $\\Omega$) as an expectation\n",
    "\n",
    "$$\n",
    "\\int_{\\Omega} f(x) dx = \\int_{\\Omega} \\left(Vg(x)\\right)\\left(\\frac{1}{V}h(x)\\right)dx = \\mathbb{E}_{X\\sim \\frac{1}{V}h(X)}[Vg(X)].\n",
    "$$\n",
    "\n",
    "But how does one choose $g$ and $h$? Two simple things to keep in mind:\n",
    "1. since we need to sample from $h$, we need to choose $h$ such that it is easily approximated by distributions from which we know how to sample.\n",
    "2. since the variance of the Monte Carlo estimator depends on $g$, we should choose $g$ to be relatively flat (so that the output of $g$ has low variance)."
   ]
  },
  {
   "cell_type": "markdown",
   "metadata": {
    "slideshow": {
     "slide_type": "slide"
    }
   },
   "source": [
    "## Exercise: Monte Carlo Integration\n",
    "\n",
    "Use Monte Carlo methods to estimate the following integral:\n",
    "\n",
    "$$\n",
    "\\int_{0}^{1} \\frac{3x^2}{x^3 - x^2 - 11x - 4} dx\n",
    "$$\n",
    "\n",
    "**Hint:** write the integrand $f$ as $f(x) = g(x)h(x)$ where $h(x)$ defines a pdf over $[0, 1]$ and is easy to sample from."
   ]
  },
  {
   "cell_type": "markdown",
   "metadata": {
    "slideshow": {
     "slide_type": "skip"
    }
   },
   "source": [
    "The integrand $f(x) = \\frac{3x^2}{x^3 - x^2 - 11x -4}$ naturally decomposes as\n",
    "\n",
    "$$\n",
    "f(x) = \\frac{1}{x^3 - x^2 - 11x -4}\\cdot 3x^2\n",
    "$$\n",
    "\n",
    "Out of the two factors, it looks like $3x^2$ is easier to integrate (and differentiate) so it's a good candidate for a pdf. Thus, we set\n",
    "\n",
    "$$\n",
    "h(x) = 3x^2,\\quad g(x) = \\frac{1}{x^3 - x^2 - 11x -4}.\n",
    "$$\n",
    "\n",
    "Before writing a sampler for $h(x)$, we need to check that it defines a pdf on $[0, 1]$! To this end, we compute:\n",
    "\n",
    "$$\n",
    "\\int_0^1 h(x) dx = \\left.x^3\\right\\vert_{0}^{1} = 1\n",
    "$$\n",
    "\n",
    "So we see that $h(x)$, when restricted to $[0, 1]$ defines a pdf!\n",
    "\n",
    "But how do we sample from $h(x)$ (after all, $h(x)$ doesn't look like the pdf of a well-known distribution)? Since the CDF $H(a) = \\int_{0}^a h(x) dx = a^3$ is an invertible function, $h$ is a natural candidate for inverse CDF sampling. The inverse of the CDF of $h$ is\n",
    "\n",
    "$$\n",
    "H^{-1}(a) = \\sqrt[3]{a}.\n",
    "$$\n",
    "\n",
    "Now, we write rewrite the integral we want to compute as an expectation\n",
    "\n",
    "$$\n",
    "I = \\int_{0}^{1} \\frac{3x^2}{x^3 - x^2 - 11x - 4} dx = \\mathbb{E}_{X\\sim h(X)}\\left[ g(x)\\right].\n",
    "$$\n",
    "\n",
    "The naive Monte Carlo estimator for $I$ is\n",
    "$$\n",
    "\\widehat{I} = \\sum_{s=1}^S \\frac{1}{X_s^3 - X_s^2 - 11X_s -4},\\; X_s\\sim h(X).\n",
    "$$\n",
    "\n",
    "We implement this estimator below:"
   ]
  },
  {
   "cell_type": "code",
   "execution_count": 11,
   "metadata": {
    "slideshow": {
     "slide_type": "skip"
    }
   },
   "outputs": [
    {
     "name": "stdout",
     "output_type": "stream",
     "text": [
      "mean of 500 number of monte carlo estimates: -0.0840213302768032\n",
      "variance of 500 number of monte carlo estimates: 3.4118616765217585e-06\n"
     ]
    }
   ],
   "source": [
    "#implementation of inverse CDF sampling\n",
    "def inverse_cdf_sampling(CDF_inv, S):\n",
    "    U = np.random.uniform(0, 1, size=S)\n",
    "    samples = CDF_inv(U)\n",
    "    return samples\n",
    "\n",
    "#implementation of naive monte carlo\n",
    "def monte_carlo(sampler, g, S, N=1):\n",
    "    estimates = []\n",
    "    for n in range(N):\n",
    "        #sample from sampler\n",
    "        samples = sampler(S)\n",
    "        #evaluate g at each sample and average\n",
    "        estimates.append(g(samples).mean())\n",
    "    return estimates\n",
    "    \n",
    "#definition of h\n",
    "h = lambda x: 3 * x**2\n",
    "#definition of the inverse CDF of h\n",
    "H_inv = lambda x: x**(1./3.)\n",
    "#definition of g\n",
    "g = lambda x: 1. / (x**3 - x**2 - 11 * x - 4.)\n",
    "#define our sampler for the estimator\n",
    "sampler = partial(inverse_cdf_sampling, H_inv)\n",
    "\n",
    "#total number of samples\n",
    "S = 100\n",
    "#total number of trials\n",
    "N = 500\n",
    "\n",
    "#perform monte carlo estimate N number of times\n",
    "estimates = monte_carlo(sampler, g, S, N=N)\n",
    "\n",
    "print('mean of {} number of monte carlo estimates: {}'.format(N, np.mean(estimates)))\n",
    "print('variance of {} number of monte carlo estimates: {}'.format(N, np.std(estimates)**2))"
   ]
  },
  {
   "cell_type": "markdown",
   "metadata": {
    "slideshow": {
     "slide_type": "skip"
    }
   },
   "source": [
    "The sample variance of the naive Monte Carlo is already small, but we can still consider some variance reduction techniques. In particular, we can consider importance sampling.\n",
    "\n",
    "**Importance Sampling**\n",
    "\n",
    "If we want to compute the importance sampling estimate we need an importance distribution for $h$. Since $h$ is a distribution on $[0, 1]$, it's natural to consider the beta distribution as an importance distribution."
   ]
  },
  {
   "cell_type": "code",
   "execution_count": 20,
   "metadata": {
    "slideshow": {
     "slide_type": "slide"
    }
   },
   "outputs": [
    {
     "data": {
      "image/png": "[encoded data removed]",
      "text/plain": [
       "<Figure size 720x360 with 1 Axes>"
      ]
     },
     "metadata": {
      "needs_background": "light"
     },
     "output_type": "display_data"
    }
   ],
   "source": [
    "#definte the beta pdf\n",
    "beta_pdf = sp.stats.beta(5, 1).pdf\n",
    "\n",
    "#visualize both the target and proposal distributions\n",
    "fig, ax = plt.subplots(1, 1, figsize=(10, 5))\n",
    "x = np.linspace(0, 1, 100)\n",
    "ax.plot(x, h(x), color='black', label='h(x)')\n",
    "ax.plot(x, beta_pdf(x), color='red', label='beta pdf, alpha={}, beta={}'.format(5, 1))\n",
    "ax.set_title('h(x) vs the importance distribution')\n",
    "ax.legend(loc='best')\n",
    "plt.show()"
   ]
  },
  {
   "cell_type": "markdown",
   "metadata": {
    "slideshow": {
     "slide_type": "skip"
    }
   },
   "source": [
    "Implementing the importance sampling estimate is straight-forward:\n",
    "\n",
    "$$\n",
    "I \\approx \\widehat{I}_{\\text{IS}} = \\frac{1}{S}\\sum_{s=1}^S \\frac{h(X_s)}{q(X_s)} g(X_s),\\; X_s \\sim Beta(5, 1)\n",
    "$$\n",
    "\n",
    "We just need to sample from the Beta, compute the importance weights $\\frac{h(X_s)}{q(X_s)}$ and compute $g(X_s)$."
   ]
  },
  {
   "cell_type": "code",
   "execution_count": 25,
   "metadata": {
    "slideshow": {
     "slide_type": "skip"
    }
   },
   "outputs": [
    {
     "name": "stdout",
     "output_type": "stream",
     "text": [
      "mean of 500 number of importance sampling monte carlo estimates: -0.08496357680015376\n",
      "variance of 500 number of importance sampling monte carlo estimates: 0.00018620123953831943\n"
     ]
    }
   ],
   "source": [
    "#implement importance sampling MC\n",
    "def importance_sampling_MC(sampler, g, h, S, N=1):\n",
    "    estimates = []\n",
    "    weights_over_trials = []\n",
    "    for n in range(N):\n",
    "        #sample from sampler\n",
    "        samples = sampler(S=S)\n",
    "        #evaluate the importance weights\n",
    "        weights = np.multiply(h(samples), sampler(x=samples)**-1)\n",
    "        #multiply weights to g(x) and average\n",
    "        estimate = (weights * g(samples)).mean()\n",
    "\n",
    "        weights_over_trials.append(weights)\n",
    "        estimates.append(estimate)\n",
    "        \n",
    "    return estimates, np.array(weights_over_trials)\n",
    "\n",
    "#defines a function that can either sample from a beta distribution or get it's pdf values\n",
    "def beta_sampler(S=None, x=None):\n",
    "    if S is not None:\n",
    "        samples = np.random.beta(5, 1, size=S)\n",
    "        return samples\n",
    "    elif x is not None:\n",
    "        likelihood = beta_pdf(x)\n",
    "        return likelihood\n",
    "    else:\n",
    "        return None\n",
    "    \n",
    "    \n",
    "#perform monte carlo estimate N number of times\n",
    "estimates, weights = importance_sampling_MC(beta_sampler, g, h, S, N=N)\n",
    "\n",
    "print('mean of {} number of importance sampling monte carlo estimates: {}'.format(N, np.mean(estimates)))\n",
    "print('variance of {} number of importance sampling monte carlo estimates: {}'.format(N, np.std(estimates)**2))    "
   ]
  },
  {
   "cell_type": "markdown",
   "metadata": {
    "slideshow": {
     "slide_type": "skip"
    }
   },
   "source": [
    "The variance of importance sampling Monte Carlo is higher than that of the naive Monte Carlo! Weren't we promised that importance sampling was a variance reduction method? Looking at the \"Nitty Gritty\" slides page on importance sampling, we realize that an important criteria was that:\n",
    "\n",
    "1. the importance distribution $q$ look like the nominal distribution $h$, otherwise the importance weights become heterogenous (polarized)\n",
    "2. the importance distribution is roughly proportional to $h|g|$. \n",
    "\n",
    "Let's plot both the weights from one of the trials and $h|g|$ to diagnose the problem."
   ]
  },
  {
   "cell_type": "code",
   "execution_count": 30,
   "metadata": {
    "slideshow": {
     "slide_type": "skip"
    }
   },
   "outputs": [
    {
     "data": {
      "image/png": "[encoded data removed]",
      "text/plain": [
       "<Figure size 720x360 with 1 Axes>"
      ]
     },
     "metadata": {
      "needs_background": "light"
     },
     "output_type": "display_data"
    }
   ],
   "source": [
    "n = 20\n",
    "fig, ax = plt.subplots(1, 1, figsize=(10, 5))\n",
    "ax.hist(weights[n], bins=30, color='red', alpha=0.4)\n",
    "ax.set_title('histogram of importance weights from trial N={}'.format(20))\n",
    "plt.show()"
   ]
  },
  {
   "cell_type": "markdown",
   "metadata": {
    "slideshow": {
     "slide_type": "skip"
    }
   },
   "source": [
    "We see that the majority of the weights are below 1.0, so these samples have a \"small effect\" on the overall estimate. We might conjecture that maybe this is why the variance of $\\widehat{I}_{\\text{IS}}$ is higher (try confirming this conjecture by computing the ***effective sample size***!)."
   ]
  },
  {
   "cell_type": "code",
   "execution_count": 35,
   "metadata": {
    "slideshow": {
     "slide_type": "skip"
    }
   },
   "outputs": [
    {
     "data": {
      "image/png": "[encoded data removed]",
      "text/plain": [
       "<Figure size 1440x360 with 2 Axes>"
      ]
     },
     "metadata": {
      "needs_background": "light"
     },
     "output_type": "display_data"
    }
   ],
   "source": [
    "fig, ax = plt.subplots(1, 2, figsize=(20, 5))\n",
    "x = np.linspace(0, 1, 100)\n",
    "ax[0].plot(x, h(x) * np.abs(g(x)), color='black')\n",
    "ax[0].set_title('h|g|')\n",
    "\n",
    "ax[1].plot(x, beta_pdf(x), color='red', label='beta pdf, alpha={}, beta={}'.format(5, 1))\n",
    "ax[1].set_title('importance distribution')\n",
    "plt.show()"
   ]
  },
  {
   "cell_type": "markdown",
   "metadata": {
    "slideshow": {
     "slide_type": "slide"
    }
   },
   "source": [
    "From this visualization we see that our importance distribution doesn't look very much like the product $h|g|$. Maybe this is the source of the higher variance of our importance sampling Monte Carlo estimate. \n",
    "\n",
    "To test our hypothesis, you can try to pick an importance distribution that looks more proportional to $h|g|$ and see if using that distribution will decrease the variance of $\\widehat{I}_{\\text{IS}}$."
   ]
  }
 ],
 "metadata": {
  "celltoolbar": "Slideshow",
  "kernelspec": {
   "display_name": "Python 3",
   "language": "python",
   "name": "python3"
  },
  "language_info": {
   "codemirror_mode": {
    "name": "ipython",
    "version": 3
   },
   "file_extension": ".py",
   "mimetype": "text/x-python",
   "name": "python",
   "nbconvert_exporter": "python",
   "pygments_lexer": "ipython3",
   "version": "3.7.3"
  }
 },
 "nbformat": 4,
 "nbformat_minor": 2
}
