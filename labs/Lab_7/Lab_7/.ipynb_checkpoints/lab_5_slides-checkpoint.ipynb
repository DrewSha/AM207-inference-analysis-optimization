{
 "cells": [
  {
   "cell_type": "markdown",
   "metadata": {
    "slideshow": {
     "slide_type": "slide"
    }
   },
   "source": [
    "# Lab #5: KL-Divergence and Modeling with `pymc3`\n",
    "## AM 207: Advanced Scientific Computing\n",
    "### Stochastic Methods for Data Analysis, Inference and Optimization\n",
    "### Fall, 2019"
   ]
  },
  {
   "cell_type": "markdown",
   "metadata": {
    "slideshow": {
     "slide_type": "slide"
    }
   },
   "source": [
    "<img src=\"fig/logos.jpg\" style=\"height:150px;\">"
   ]
  },
  {
   "cell_type": "code",
   "execution_count": 3,
   "metadata": {
    "slideshow": {
     "slide_type": "skip"
    }
   },
   "outputs": [],
   "source": [
    "### Import basic libraries\n",
    "import numpy as np\n",
    "import pandas as pd\n",
    "import sklearn as sk\n",
    "from sklearn.linear_model import LinearRegression\n",
    "import matplotlib.pyplot as plt\n",
    "from pymc3 import model_to_graphviz, Model\n",
    "import pymc3 as pm\n",
    "%matplotlib inline"
   ]
  },
  {
   "cell_type": "markdown",
   "metadata": {
    "slideshow": {
     "slide_type": "slide"
    }
   },
   "source": [
    "## Outline\n",
    "1. The Benefits and Draw Backs of Variational Inference with KL-Divergence\n",
    "2. Statistical Modeling with `pymc3`"
   ]
  },
  {
   "cell_type": "markdown",
   "metadata": {
    "slideshow": {
     "slide_type": "slide"
    }
   },
   "source": [
    "## Closed Form KL-divergence for Two Gaussians\n",
    "\n",
    "Let the target distribution be a bivariate Gaussian $p(x) = \\mathcal{N}(\\mu_p, \\Sigma_p)$, and let our variational family be isotropic bivariate Gaussians, \n",
    "\n",
    "$$Q = \\{\\mathcal{N}(\\mu_q, \\sigma^2_q I_{2\\times 2}) \\,|\\, \\sigma^2_q > 0, \\mu_q\\in \\mathbb{R}^2\\}.$$\n",
    "\n",
    "A bit of matrix algebra allows us to write the KL-divergence between two Gaussians as\n",
    "\n",
    "$$\n",
    "D_{\\text{KL}}[\\mathcal{N}(\\mu_1, \\Sigma_1) \\| \\mathcal{N}(\\mu_2, \\Sigma_2)] = \\frac{1}{2} \\left[ \\log\\frac{|\\Sigma_2|}{|\\Sigma_1|} - D + \\text{tr}\\left\\{ \\Sigma_2^{-1} \\Sigma_1\\right\\} + (\\mu_2 - \\mu_1)^\\top \\Sigma_2^{-1}(\\mu_2 - \\mu_1) \\right]\n",
    "$$\n",
    "\n",
    "where $D$ is the dimension of the two Gaussians."
   ]
  },
  {
   "cell_type": "markdown",
   "metadata": {
    "slideshow": {
     "slide_type": "slide"
    }
   },
   "source": [
    "## Forward vs Reverse KL\n",
    "\n",
    "When we fit an isotropic Gaussian $\\mathcal{N}(\\mu_q, \\Sigma_q)$ to a non-isotropic target Gaussian $\\mathcal{N}(\\mu_p, \\Sigma_p)$ using the KL-divergence, we mean to find\n",
    "$$\n",
    "\\mu^*_q, \\Sigma^*_q = \\underset{\\mu_q, \\Sigma_q}{\\text{argmin}} D_{\\text{KL}}[\\mathcal{N}(\\mu_q, \\Sigma_q) \\| \\mathcal{N}(\\mu_p, \\Sigma_p)]\n",
    "$$\n",
    "This is often called minimizing the ***reverse KL-divergence***.\n",
    "We can analytically solve this optimization problem, when we do, we get that\n",
    "\\begin{aligned}\n",
    "\\mu^*_q &= \\mu_p\\\\\n",
    "(\\Sigma^*_q)_{ii} &= \\frac{1}{(\\Sigma_p^{-1})_{ii}}\n",
    "\\end{aligned}\n",
    "But remember that choosing to minimize KL-divergence when we approximate $\\mathcal{N}(\\mu_p, \\Sigma_p)$ is arbitrary. That is, we could have chosen another divergence measure. In particular, we could have chosen to minimize the ***forward KL-divergence***:\n",
    "$$\n",
    "\\mu^*_q, \\Sigma^*_q = \\underset{\\mu_q, \\Sigma_q}{\\text{argmin}} D_{\\text{KL}}[\\mathcal{N}(\\mu_p, \\Sigma_p)\\|\\mathcal{N}(\\mu_q, \\Sigma_q)]\n",
    "$$\n",
    "Analytically solve the above optimization problem gives us\n",
    "\\begin{aligned}\n",
    "\\mu^*_q &= \\mu_p\\\\\n",
    "(\\Sigma_q)_{ii} &= (\\Sigma_p)_{ii}\n",
    "\\end{aligned}"
   ]
  },
  {
   "cell_type": "markdown",
   "metadata": {
    "slideshow": {
     "slide_type": "slide"
    }
   },
   "source": [
    "## Which KL-Divergence Should We Optimize?\n",
    "\n",
    "Is there any difference in minimizing these two different divergences? That is, does the following hold? \n",
    "\n",
    "$$\n",
    "\\underset{\\mu_q, \\Sigma_q}{\\text{argmin}} D_{\\text{KL}}[\\mathcal{N}(\\mu_q, \\Sigma_q) \\| \\mathcal{N}(\\mu_p, \\Sigma_p)] \\overset{?}{=}  \\underset{\\mu_q, \\Sigma_q}{\\text{argmin}} D_{\\text{KL}}[\\mathcal{N}(\\mu_p, \\Sigma_p)\\|\\mathcal{N}(\\mu_q, \\Sigma_q)]\n",
    "$$\n",
    "\n",
    "If not, which type of KL-divergence should we use when fitting an isotropic Gaussian $\\mathcal{N}(\\mu_q, \\Sigma_q)$ to a non-isotropic target Gaussian $\\mathcal{N}(\\mu_p, \\Sigma_p)$?"
   ]
  },
  {
   "cell_type": "code",
   "execution_count": 70,
   "metadata": {
    "slideshow": {
     "slide_type": "fragment"
    }
   },
   "outputs": [],
   "source": [
    "# functions to compute the optimal variational distribution under reverse and forward KL\n",
    "reverse_kl = lambda mu_p, Sigma_p: (mu_p, np.diag(np.diag(np.linalg.inv(Sigma_p))**-1))\n",
    "forward_kl = lambda mu_p, Sigma_p: (mu_p, np.diag(np.diag(Sigma_p)))"
   ]
  },
  {
   "cell_type": "markdown",
   "metadata": {
    "slideshow": {
     "slide_type": "slide"
    }
   },
   "source": [
    "# `pymc3`"
   ]
  },
  {
   "cell_type": "markdown",
   "metadata": {
    "slideshow": {
     "slide_type": "slide"
    }
   },
   "source": [
    "## Introduction to `pymc3`\n",
    "\n",
    "`pymc3` is a `python` package for building and performing inference on Bayesian statistical models. Notably, `pymc3` implements a number of popular approximate inference methods like Markov chain Monte Carlo (MCMC) and variational inference (VI). \n",
    "\n",
    "Along with core model specification and fitting functionality, PyMC3 includes functionality for summarizing output and for model diagnostics."
   ]
  },
  {
   "cell_type": "markdown",
   "metadata": {
    "slideshow": {
     "slide_type": "slide"
    }
   },
   "source": [
    "## Defining a Basic Model in `pymc3`\n",
    "\n",
    "After importing the library and instantiating a `pymc3` model:\n",
    "```python\n",
    "import pymc3 as pm\n",
    "bayesian_model = pm.Model()\n",
    "```\n",
    "We defined our model using a context manager (`with` statement -- a `python` construct that manages the allocate and release resources involved with performing an action).\n",
    "\n",
    "```python\n",
    "#define hierarchical model in pymc3\n",
    "with Model() as bayesian_model:\n",
    "    #priors on theta\n",
    "    theta = pm.Gamma('theta', alpha=alpha, beta=beta)\n",
    "    #convert rate into number of disease incidents\n",
    "    mu = theta * 5 * average_pop\n",
    "    #likelihood\n",
    "    y_obs = pm.Poisson('y', mu=mu, observed=y)\n",
    "```\n",
    "\n",
    "The model is specified declaratively inside the context manager."
   ]
  },
  {
   "cell_type": "markdown",
   "metadata": {
    "slideshow": {
     "slide_type": "slide"
    }
   },
   "source": [
    "## A Pooled Bayesian Model for the Kidney Cancer Data Set\n",
    "\n",
    "Suppose we treat all the cancer incidents $y_j$ across the US as iid samples from a ***single*** Poisson distribution $y_j \\sim Poi(\\theta)$, where $\\theta$ is the same underlying rate for kidney cancer for every county. \n",
    "\n",
    "**Question:** Is this a good way to model the Kidney cancer data?"
   ]
  },
  {
   "cell_type": "code",
   "execution_count": 19,
   "metadata": {
    "slideshow": {
     "slide_type": "skip"
    }
   },
   "outputs": [],
   "source": [
    "df=pd.read_csv(\"kcancer.csv\")\n",
    "y = df['dc'].values\n",
    "n = df['pop'].values\n",
    "average_pop = n.mean()\n",
    "\n",
    "#hyperparameters of Bayesian model\n",
    "alpha=10.\n",
    "beta=1000.\n",
    " \n",
    "#define hierarchical model in pymc3\n",
    "with Model() as bayesian_model:\n",
    "    #priors on theta\n",
    "    theta = pm.Gamma('theta', alpha=alpha, beta=beta)\n",
    "    #convert rate into number of disease incidents\n",
    "    mu = theta * 5 * average_pop\n",
    "    #likelihood\n",
    "    y_obs = pm.Poisson('y', mu=mu, observed=y)"
   ]
  },
  {
   "cell_type": "code",
   "execution_count": 30,
   "metadata": {
    "slideshow": {
     "slide_type": "fragment"
    }
   },
   "outputs": [
    {
     "data": {
      "image/svg+xml": [
       "<?xml version=\"1.0\" encoding=\"UTF-8\" standalone=\"no\"?>\n",
       "<!DOCTYPE svg PUBLIC \"-//W3C//DTD SVG 1.1//EN\"\n",
       " \"http://www.w3.org/Graphics/SVG/1.1/DTD/svg11.dtd\">\n",
       "<!-- Generated by graphviz version 2.40.1 (20161225.0304)\n",
       " -->\n",
       "<!-- Title: %3 Pages: 1 -->\n",
       "<svg width=\"142pt\" height=\"154pt\"\n",
       " viewBox=\"0.00 0.00 142.00 154.00\" xmlns=\"http://www.w3.org/2000/svg\" xmlns:xlink=\"http://www.w3.org/1999/xlink\">\n",
       "<g id=\"graph0\" class=\"graph\" transform=\"scale(1 1) rotate(0) translate(4 150)\">\n",
       "<title>%3</title>\n",
       "<polygon fill=\"#ffffff\" stroke=\"transparent\" points=\"-4,4 -4,-150 138,-150 138,4 -4,4\"/>\n",
       "<g id=\"clust1\" class=\"cluster\">\n",
       "<title>cluster3,113</title>\n",
       "<path fill=\"none\" stroke=\"#000000\" d=\"M20,-8C20,-8 114,-8 114,-8 120,-8 126,-14 126,-20 126,-20 126,-70 126,-70 126,-76 120,-82 114,-82 114,-82 20,-82 20,-82 14,-82 8,-76 8,-70 8,-70 8,-20 8,-20 8,-14 14,-8 20,-8\"/>\n",
       "<text text-anchor=\"middle\" x=\"102.5063\" y=\"-14.8\" font-family=\"Times,serif\" font-size=\"14.00\" fill=\"#000000\">3,113</text>\n",
       "</g>\n",
       "<!-- theta -->\n",
       "<g id=\"node1\" class=\"node\">\n",
       "<title>theta</title>\n",
       "<ellipse fill=\"none\" stroke=\"#000000\" cx=\"67\" cy=\"-128\" rx=\"64.4865\" ry=\"18\"/>\n",
       "<text text-anchor=\"middle\" x=\"67\" y=\"-123.8\" font-family=\"Times,serif\" font-size=\"14.00\" fill=\"#000000\">theta ~ Gamma</text>\n",
       "</g>\n",
       "<!-- y -->\n",
       "<g id=\"node2\" class=\"node\">\n",
       "<title>y</title>\n",
       "<ellipse fill=\"#d3d3d3\" stroke=\"#000000\" cx=\"67\" cy=\"-56\" rx=\"51.0177\" ry=\"18\"/>\n",
       "<text text-anchor=\"middle\" x=\"67\" y=\"-51.8\" font-family=\"Times,serif\" font-size=\"14.00\" fill=\"#000000\">y ~ Poisson</text>\n",
       "</g>\n",
       "<!-- theta&#45;&gt;y -->\n",
       "<g id=\"edge1\" class=\"edge\">\n",
       "<title>theta&#45;&gt;y</title>\n",
       "<path fill=\"none\" stroke=\"#000000\" d=\"M67,-109.8314C67,-102.131 67,-92.9743 67,-84.4166\"/>\n",
       "<polygon fill=\"#000000\" stroke=\"#000000\" points=\"70.5001,-84.4132 67,-74.4133 63.5001,-84.4133 70.5001,-84.4132\"/>\n",
       "</g>\n",
       "</g>\n",
       "</svg>\n"
      ],
      "text/plain": [
       "<graphviz.dot.Digraph at 0x12a02b780>"
      ]
     },
     "execution_count": 30,
     "metadata": {},
     "output_type": "execute_result"
    }
   ],
   "source": [
    "#draw graphical model for the thing we just defined  \n",
    "model_to_graphviz(bayesian_model)"
   ]
  },
  {
   "cell_type": "markdown",
   "metadata": {
    "slideshow": {
     "slide_type": "slide"
    }
   },
   "source": [
    "## Inference Using `pymc3`\n",
    "\n",
    "A number of different samplers are implemented in `pymc3`. You have the flexibility of specifying different samplers for different variables in your model (e.g. you can implement a MH-in-Gibbs sampler using `pymc3`)."
   ]
  },
  {
   "cell_type": "code",
   "execution_count": 31,
   "metadata": {
    "slideshow": {
     "slide_type": "fragment"
    }
   },
   "outputs": [
    {
     "name": "stderr",
     "output_type": "stream",
     "text": [
      "Multiprocess sampling (2 chains in 2 jobs)\n",
      "Metropolis: [theta]\n",
      "Sampling 2 chains: 100%|██████████| 4000/4000 [00:00<00:00, 9235.06draws/s]\n",
      "The number of effective samples is smaller than 25% for some parameters.\n"
     ]
    }
   ],
   "source": [
    "#sample 1000 samples from the posterior of the model, using 1000 iterations to tune the sampler\n",
    "#the default sampler for pymc3 is a type of MCMC sampler called No-U-turn HMC, \n",
    "#which we have not covered in class\n",
    "with bayesian_model:\n",
    "    #specifying a specific sampler\n",
    "    steps = pm.Metropolis(vars=[theta, mu])\n",
    "    #use the specify sampler to sample from the posterior of the model\n",
    "    trace = pm.sample(1000,step=steps, tune=1000)\n",
    "    #using default sampler\n",
    "#     trace = pm.sample(1000, tune=1000)"
   ]
  },
  {
   "cell_type": "markdown",
   "metadata": {
    "slideshow": {
     "slide_type": "slide"
    }
   },
   "source": [
    "## Diagnostics Using `pymc3`\n",
    "\n",
    "`pymc3` implements also a large number of convergence diagnostics for MCMC samplers -- traceplots, auto-correlation plots, Gelman-Rubin statistic etc."
   ]
  },
  {
   "cell_type": "code",
   "execution_count": 32,
   "metadata": {
    "slideshow": {
     "slide_type": "fragment"
    }
   },
   "outputs": [
    {
     "data": {
      "image/png": "[encoded data removed]",
      "text/plain": [
       "<Figure size 432x288 with 1 Axes>"
      ]
     },
     "metadata": {
      "needs_background": "light"
     },
     "output_type": "display_data"
    }
   ],
   "source": [
    "posterior_samples = trace['theta'][500::2]\n",
    "plt.plot(np.arange(len(posterior_samples)), posterior_samples, color='gray')\n",
    "plt.show()"
   ]
  },
  {
   "cell_type": "markdown",
   "metadata": {
    "slideshow": {
     "slide_type": "slide"
    }
   },
   "source": [
    "## Posterior Predictive Sampling with `pymc3`\n",
    "\n",
    "Given the trace and the model, `pymc3` can also automatically sample from the posterior predictive."
   ]
  },
  {
   "cell_type": "code",
   "execution_count": 56,
   "metadata": {
    "slideshow": {
     "slide_type": "fragment"
    }
   },
   "outputs": [
    {
     "name": "stderr",
     "output_type": "stream",
     "text": [
      "100%|██████████| 1000/1000 [00:00<00:00, 1153.18it/s]\n"
     ]
    },
    {
     "data": {
      "image/png": "[encoded data removed]",
      "text/plain": [
       "<Figure size 1440x288 with 2 Axes>"
      ]
     },
     "metadata": {
      "needs_background": "light"
     },
     "output_type": "display_data"
    }
   ],
   "source": [
    "pp_samples = pm.sample_posterior_predictive(trace, samples=1000, model=bayesian_model)\n",
    "fig, ax = plt.subplots(1, 2, figsize=(20, 4))\n",
    "ax[0].hist(y, bins=30, density=True, color='gray', alpha=0.8)\n",
    "ax[0].set_xlim([0, 200])\n",
    "ax[0].set_title('histogram of cancer incidents across counties')\n",
    "ax[1].hist(pp_samples['y'].flatten(), bins=20, density=True, color='red', alpha=0.3)\n",
    "ax[1].set_title('histogram of simulated cancer incidents from the posterior predictive across counties')\n",
    "plt.show()"
   ]
  }
 ],
 "metadata": {
  "celltoolbar": "Slideshow",
  "kernelspec": {
   "display_name": "Python 3",
   "language": "python",
   "name": "python3"
  },
  "language_info": {
   "codemirror_mode": {
    "name": "ipython",
    "version": 3
   },
   "file_extension": ".py",
   "mimetype": "text/x-python",
   "name": "python",
   "nbconvert_exporter": "python",
   "pygments_lexer": "ipython3",
   "version": "3.7.3"
  }
 },
 "nbformat": 4,
 "nbformat_minor": 2
}
