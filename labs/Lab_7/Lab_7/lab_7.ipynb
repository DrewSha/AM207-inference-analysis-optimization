{
 "cells": [
  {
   "cell_type": "markdown",
   "metadata": {
    "slideshow": {
     "slide_type": "slide"
    }
   },
   "source": [
    "# Lab #7: Non-Linear Models for Regression\n",
    "## AM 207: Advanced Scientific Computing\n",
    "### Stochastic Methods for Data Analysis, Inference and Optimization\n",
    "### Fall, 2019"
   ]
  },
  {
   "cell_type": "markdown",
   "metadata": {
    "slideshow": {
     "slide_type": "slide"
    }
   },
   "source": [
    "<img src=\"fig/logos.jpg\" style=\"height:150px;\">"
   ]
  },
  {
   "cell_type": "code",
   "execution_count": 12,
   "metadata": {
    "slideshow": {
     "slide_type": "skip"
    }
   },
   "outputs": [],
   "source": [
    "from autograd import numpy as np\n",
    "from autograd import grad\n",
    "from autograd.misc.optimizers import adam, sgd\n",
    "from sklearn.linear_model import LinearRegression\n",
    "from sklearn.preprocessing import PolynomialFeatures\n",
    "from autograd import scipy as sp\n",
    "import pandas as pd\n",
    "import numpy\n",
    "import matplotlib.pyplot as plt\n",
    "import sys\n",
    "%matplotlib inline"
   ]
  },
  {
   "cell_type": "code",
   "execution_count": 2,
   "metadata": {
    "slideshow": {
     "slide_type": "skip"
    }
   },
   "outputs": [],
   "source": [
    "class Feedforward:\n",
    "    def __init__(self, architecture, random=None, weights=None):\n",
    "        self.params = {'H': architecture['width'],\n",
    "                       'L': architecture['hidden_layers'],\n",
    "                       'D_in': architecture['input_dim'],\n",
    "                       'D_out': architecture['output_dim'],\n",
    "                       'activation_type': architecture['activation_fn_type'],\n",
    "                       'activation_params': architecture['activation_fn_params']}\n",
    "\n",
    "        self.D = (  (architecture['input_dim'] * architecture['width'] + architecture['width'])\n",
    "                  + (architecture['output_dim'] * architecture['width'] + architecture['output_dim'])\n",
    "                  + (architecture['hidden_layers'] - 1) * (architecture['width']**2 + architecture['width'])\n",
    "                 )\n",
    "\n",
    "        if random is not None:\n",
    "            self.random = random\n",
    "        else:\n",
    "            self.random = np.random.RandomState(0)\n",
    "\n",
    "        self.h = architecture['activation_fn']\n",
    "\n",
    "        if weights is None:\n",
    "            self.weights = self.random.normal(0, 1, size=(1, self.D))\n",
    "        else:\n",
    "            self.weights = weights\n",
    "\n",
    "        self.objective_trace = np.empty((1, 1))\n",
    "        self.weight_trace = np.empty((1, self.D))\n",
    "\n",
    "\n",
    "    def forward(self, weights, x):\n",
    "        ''' Forward pass given weights and input '''\n",
    "        H = self.params['H']\n",
    "        D_in = self.params['D_in']\n",
    "        D_out = self.params['D_out']\n",
    "\n",
    "        assert weights.shape[1] == self.D\n",
    "\n",
    "        if len(x.shape) == 2:\n",
    "            assert x.shape[0] == D_in\n",
    "            x = x.reshape((1, D_in, -1))\n",
    "        else:\n",
    "            assert x.shape[1] == D_in\n",
    "\n",
    "        weights = weights.T\n",
    "\n",
    "\n",
    "        #input to first hidden layer\n",
    "        W = weights[:H * D_in].T.reshape((-1, H, D_in))\n",
    "        b = weights[H * D_in:H * D_in + H].T.reshape((-1, H, 1))\n",
    "        input = self.h(np.matmul(W, x) + b)\n",
    "        index = H * D_in + H\n",
    "\n",
    "        assert input.shape[1] == H\n",
    "\n",
    "        #additional hidden layers\n",
    "        for _ in range(self.params['L'] - 1):\n",
    "            before = index\n",
    "            W = weights[index:index + H * H].T.reshape((-1, H, H))\n",
    "            index += H * H\n",
    "            b = weights[index:index + H].T.reshape((-1, H, 1))\n",
    "            index += H\n",
    "            output = np.matmul(W, input) + b\n",
    "            input = self.h(output)\n",
    "\n",
    "            assert input.shape[1] == H\n",
    "\n",
    "        #output layer\n",
    "        W = weights[index:index + H * D_out].T.reshape((-1, D_out, H))\n",
    "        b = weights[index + H * D_out:].T.reshape((-1, D_out, 1))\n",
    "        output = np.matmul(W, input) + b\n",
    "        assert output.shape[1] == self.params['D_out']\n",
    "\n",
    "        return output\n",
    "\n",
    "    def make_objective(self, x_train, y_train, reg_param=None):\n",
    "        ''' Make objective functions: depending on whether or not you want to apply l2 regularization '''\n",
    "        \n",
    "        if reg_param is None:\n",
    "            \n",
    "            def objective(W, t):\n",
    "                squared_error = np.linalg.norm(y_train - self.forward(W, x_train), axis=1)**2\n",
    "                sum_error = np.sum(squared_error)\n",
    "                return sum_error\n",
    "            \n",
    "            return objective, grad(objective)\n",
    "            \n",
    "        else:\n",
    "            \n",
    "            def objective(W, t):\n",
    "                squared_error = np.linalg.norm(y_train - self.forward(W, x_train), axis=1)**2\n",
    "                mean_error = np.mean(squared_error) + reg_param * np.linalg.norm(W)\n",
    "                return mean_error\n",
    "            \n",
    "            return objective, grad(objective)\n",
    "\n",
    "    def fit(self, x_train, y_train, params, reg_param=None):\n",
    "        ''' Wrapper for MLE through gradient descent '''\n",
    "        assert x_train.shape[0] == self.params['D_in']\n",
    "        assert y_train.shape[0] == self.params['D_out']\n",
    "\n",
    "        ### make objective function for training\n",
    "        self.objective, self.gradient = self.make_objective(x_train, y_train, reg_param)\n",
    "\n",
    "        ### set up optimization\n",
    "        step_size = 0.01\n",
    "        max_iteration = 5000\n",
    "        check_point = 100\n",
    "        weights_init = self.weights.reshape((1, -1))\n",
    "        mass = None\n",
    "        optimizer = 'adam'\n",
    "        random_restarts = 5\n",
    "\n",
    "        if 'step_size' in params.keys():\n",
    "            step_size = params['step_size']\n",
    "        if 'max_iteration' in params.keys():\n",
    "            max_iteration = params['max_iteration']\n",
    "        if 'check_point' in params.keys():\n",
    "            self.check_point = params['check_point']\n",
    "        if 'init' in params.keys():\n",
    "            weights_init = params['init']\n",
    "        if 'call_back' in params.keys():\n",
    "            call_back = params['call_back']\n",
    "        if 'mass' in params.keys():\n",
    "            mass = params['mass']\n",
    "        if 'optimizer' in params.keys():\n",
    "            optimizer = params['optimizer']\n",
    "        if 'random_restarts' in params.keys():\n",
    "            random_restarts = params['random_restarts']\n",
    "\n",
    "        def call_back(weights, iteration, g):\n",
    "            ''' Actions per optimization step '''\n",
    "            objective = self.objective(weights, iteration)\n",
    "            self.objective_trace = np.vstack((self.objective_trace, objective))\n",
    "            self.weight_trace = np.vstack((self.weight_trace, weights))\n",
    "            if iteration % check_point == 0:\n",
    "                print(\"Iteration {} lower bound {}; gradient mag: {}\".format(iteration, objective, np.linalg.norm(self.gradient(weights, iteration))))\n",
    "\n",
    "        ### train with random restarts\n",
    "        optimal_obj = 1e16\n",
    "        optimal_weights = self.weights\n",
    "\n",
    "        for i in range(random_restarts):\n",
    "            if optimizer == 'adam':\n",
    "                adam(self.gradient, weights_init, step_size=step_size, num_iters=max_iteration, callback=call_back)\n",
    "            local_opt = np.min(self.objective_trace[-100:])\n",
    "            \n",
    "            if local_opt < optimal_obj:\n",
    "                opt_index = np.argmin(self.objective_trace[-100:])\n",
    "                self.weights = self.weight_trace[-100:][opt_index].reshape((1, -1))\n",
    "            weights_init = self.random.normal(0, 1, size=(1, self.D))\n",
    "\n",
    "        self.objective_trace = self.objective_trace[1:]\n",
    "        self.weight_trace = self.weight_trace[1:]"
   ]
  },
  {
   "cell_type": "markdown",
   "metadata": {
    "slideshow": {
     "slide_type": "slide"
    }
   },
   "source": [
    "## Problem Description: Non-linear Models for Regression\n",
    "\n",
    "From Lecture #14, we've seen that we can take our favourite generalized linear models and replace the linear function $\\mathbf{w}^\\top \\mathbf{X}$ with $g_{\\mathbf{W}}(\\mathbf{X})$, where $g_{\\mathbf{W}}$ is a neural network with parameters $\\mathbf{W}$. The advantage of using neural networks to represent non-linear function is that neural networks allows us to build up complex non-linear functions very cheaply and quicklly through composition of simple functions. A neural network $g_{\\mathbf{W}}$ with a fixed architecture can approximate a wide range of different functions.\n",
    "\n",
    "In this lab, we compare fitting neural networks regression models with polynomial regression models.\n",
    "\n",
    "### Part I. Small Data Set\n",
    "Read in the data in `lab_7_data.csv` (this is the same dataset used in HW#7). \n",
    "\n",
    "1. (**Learning the Model**) Fit 100 different MLE neural network models (with the given architecture or your own choice) on this data. The data is small so don't bootstrap, rather, initialize your network parameters randomly for each fit. <br><br>\n",
    "\n",
    "2. (**Model Evaluation**) Compute the average log-likelihood of the observed data over these 1000 MLE models.<br><br>\n",
    "\n",
    "3. (**Model Evaluation**) Visualize the predictive distributions of your 1000 MLE models (i.e. use them to predict on a range of uniformly spaced values from [-8, 8] and then plot either the 95% predictive interval or plot all the models as lines).<br><br>\n",
    "\n",
    "4. (**Compare with Polynomial Regression**) Do the above for polynomial models with polynomial degree 7. Which model class (polynomial or neural network) is a better fit for the data? Which model class produces better aleotoric uncertainty? Which model class prodcues better epistemic uncertainty? Why?"
   ]
  },
  {
   "cell_type": "code",
   "execution_count": 5,
   "metadata": {
    "slideshow": {
     "slide_type": "skip"
    }
   },
   "outputs": [
    {
     "data": {
      "text/html": [
       "<div>\n",
       "<style scoped>\n",
       "    .dataframe tbody tr th:only-of-type {\n",
       "        vertical-align: middle;\n",
       "    }\n",
       "\n",
       "    .dataframe tbody tr th {\n",
       "        vertical-align: top;\n",
       "    }\n",
       "\n",
       "    .dataframe thead th {\n",
       "        text-align: right;\n",
       "    }\n",
       "</style>\n",
       "<table border=\"1\" class=\"dataframe\">\n",
       "  <thead>\n",
       "    <tr style=\"text-align: right;\">\n",
       "      <th></th>\n",
       "      <th>x</th>\n",
       "      <th>y</th>\n",
       "    </tr>\n",
       "  </thead>\n",
       "  <tbody>\n",
       "    <tr>\n",
       "      <th>0</th>\n",
       "      <td>-6.0</td>\n",
       "      <td>-3.380284</td>\n",
       "    </tr>\n",
       "    <tr>\n",
       "      <th>1</th>\n",
       "      <td>-5.6</td>\n",
       "      <td>-2.892117</td>\n",
       "    </tr>\n",
       "    <tr>\n",
       "      <th>2</th>\n",
       "      <td>-5.2</td>\n",
       "      <td>-2.690059</td>\n",
       "    </tr>\n",
       "    <tr>\n",
       "      <th>3</th>\n",
       "      <td>-4.8</td>\n",
       "      <td>-2.040000</td>\n",
       "    </tr>\n",
       "    <tr>\n",
       "      <th>4</th>\n",
       "      <td>-4.4</td>\n",
       "      <td>-1.399942</td>\n",
       "    </tr>\n",
       "  </tbody>\n",
       "</table>\n",
       "</div>"
      ],
      "text/plain": [
       "     x         y\n",
       "0 -6.0 -3.380284\n",
       "1 -5.6 -2.892117\n",
       "2 -5.2 -2.690059\n",
       "3 -4.8 -2.040000\n",
       "4 -4.4 -1.399942"
      ]
     },
     "execution_count": 5,
     "metadata": {},
     "output_type": "execute_result"
    }
   ],
   "source": [
    "data = pd.read_csv('lab_7_data.csv')\n",
    "x = data['x'].values\n",
    "y = data['y'].values\n",
    "data.head()"
   ]
  },
  {
   "cell_type": "code",
   "execution_count": 6,
   "metadata": {
    "slideshow": {
     "slide_type": "skip"
    }
   },
   "outputs": [],
   "source": [
    "###define rbf activation function\n",
    "alpha = 1\n",
    "c = 0\n",
    "h = lambda x: np.exp(-alpha * (x - c)**2)\n",
    "\n",
    "###neural network model design choices\n",
    "width = 5\n",
    "hidden_layers = 1\n",
    "input_dim = 1\n",
    "output_dim = 1\n",
    "\n",
    "architecture = {'width': width,\n",
    "               'hidden_layers': hidden_layers,\n",
    "               'input_dim': input_dim,\n",
    "               'output_dim': output_dim,\n",
    "               'activation_fn_type': 'rbf',\n",
    "               'activation_fn_params': 'c=0, alpha=1',\n",
    "               'activation_fn': h}\n",
    "\n",
    "#set random state to make the experiments replicable\n",
    "rand_state = 0\n",
    "random = np.random.RandomState(rand_state)\n",
    "\n",
    "#instantiate a Feedforward neural network object\n",
    "nn = Feedforward(architecture, random=random)"
   ]
  },
  {
   "cell_type": "code",
   "execution_count": 9,
   "metadata": {
    "slideshow": {
     "slide_type": "slide"
    }
   },
   "outputs": [
    {
     "name": "stdout",
     "output_type": "stream",
     "text": [
      "Iteration 0 lower bound 10.458036056339319; gradient mag: 8.331286747509058\n",
      "Iteration 100 lower bound 9.401964473087148; gradient mag: 7.798951272971812\n",
      "Iteration 200 lower bound 8.519613676681958; gradient mag: 6.991983137446767\n",
      "Iteration 300 lower bound 7.719876546264666; gradient mag: 6.355351943121808\n",
      "Iteration 400 lower bound 6.981694524465028; gradient mag: 5.828105307474688\n",
      "Iteration 500 lower bound 6.295826462275024; gradient mag: 5.377383515100863\n",
      "Iteration 600 lower bound 5.6589728727700965; gradient mag: 4.980024913762885\n",
      "Iteration 700 lower bound 5.070646187376429; gradient mag: 4.620498212409427\n",
      "Iteration 800 lower bound 4.531128446519426; gradient mag: 4.288850388700083\n",
      "Iteration 900 lower bound 4.04055632605758; gradient mag: 3.9782656449273297\n",
      "Iteration 1000 lower bound 3.5984545183993455; gradient mag: 3.684752651916061\n",
      "Iteration 1100 lower bound 3.2036370710760074; gradient mag: 3.40563008365816\n",
      "Iteration 1200 lower bound 2.8542767567518164; gradient mag: 3.1385689741349756\n",
      "Iteration 1300 lower bound 2.5480519063972555; gradient mag: 2.882592426336101\n",
      "Iteration 1400 lower bound 2.2822601257398016; gradient mag: 2.6372057808991083\n",
      "Iteration 1500 lower bound 2.0539005555552166; gradient mag: 2.4024146206190844\n",
      "Iteration 1600 lower bound 1.859742109720286; gradient mag: 2.1787380412047885\n",
      "Iteration 1700 lower bound 1.6963942407191008; gradient mag: 1.9671448079298954\n",
      "Iteration 1800 lower bound 1.560386958454393; gradient mag: 1.7762963595998926\n",
      "Iteration 1900 lower bound 1.4482091226296108; gradient mag: 1.5839209659322868\n"
     ]
    }
   ],
   "source": [
    "###define design choices in gradient descent\n",
    "params = {'step_size':1e-3, \n",
    "          'max_iteration':2000, \n",
    "          'random_restarts':1}\n",
    "\n",
    "#fit my neural network to minimize MSE on the given data\n",
    "nn.fit(x.reshape((1, -1)), y.reshape((1, -1)), params)"
   ]
  },
  {
   "cell_type": "code",
   "execution_count": 10,
   "metadata": {
    "slideshow": {
     "slide_type": "slide"
    }
   },
   "outputs": [
    {
     "data": {
      "image/png": "[encoded data removed]",
      "text/plain": [
       "<Figure size 432x288 with 1 Axes>"
      ]
     },
     "metadata": {
      "needs_background": "light"
     },
     "output_type": "display_data"
    }
   ],
   "source": [
    "x_test = np.linspace(-8, 8, 100)\n",
    "\n",
    "#predict on x_test\n",
    "y_test = nn.forward(nn.weights, x_test.reshape((1, -1)))\n",
    "\n",
    "#visualize our learned model\n",
    "plt.scatter(x, y, color='black', label='data')\n",
    "plt.plot(x_test, y_test.flatten(), color='red', label='learned neural network function')\n",
    "plt.legend(loc='best')\n",
    "plt.show()"
   ]
  },
  {
   "cell_type": "code",
   "execution_count": 16,
   "metadata": {
    "slideshow": {
     "slide_type": "slide"
    }
   },
   "outputs": [
    {
     "data": {
      "image/png": "[encoded data removed]",
      "text/plain": [
       "<Figure size 432x288 with 1 Axes>"
      ]
     },
     "metadata": {
      "needs_background": "light"
     },
     "output_type": "display_data"
    }
   ],
   "source": [
    "#set up for polynomial (deg 7) regression\n",
    "linear_model = LinearRegression()\n",
    "poly = PolynomialFeatures(7)\n",
    "\n",
    "#fit a polynomial model\n",
    "x_poly = poly.fit_transform(x.reshape((-1, 1)))\n",
    "x_test_poly = poly.fit_transform(x_test.reshape((-1, 1)))\n",
    "linear_model.fit(x_poly, y)\n",
    "\n",
    "#predict on x_test\n",
    "y_test_poly = linear_model.predict(x_test_poly)\n",
    "\n",
    "#visualize our learned model\n",
    "plt.scatter(x, y, color='black', label='data')\n",
    "plt.plot(x_test, y_test_poly.flatten(), color='blue', label='degree 7 polynomial')\n",
    "plt.legend(loc='best')\n",
    "plt.ylim([-10, 10])\n",
    "plt.show()"
   ]
  },
  {
   "cell_type": "markdown",
   "metadata": {
    "slideshow": {
     "slide_type": "slide"
    }
   },
   "source": [
    "### Part II. \"Large\" Data Set\n",
    "Using the data that is generated by the code provided below.\n",
    "\n",
    "1. (**Learning the Model**) Fit 100 different MLE neural network models (with the given architecture or your own choice) on this data. Bootstrap from the data as well as initialize your network parameters randomly for each fit. <br><br>\n",
    "\n",
    "2. (**Model Evaluation**) Compute the average log-likelihood of the observed data over these 1000 MLE models.<br><br>\n",
    "\n",
    "3. (**Model Evaluation**) Visualize the predictive distributions of your 1000 MLE models (i.e. use them to predict on a range of uniformly spaced values from [-11, 11] and then plot either the 95% predictive interval or plot all the models as lines).<br><br>\n",
    "\n",
    "4. (**Compare with Polynomial Regression**) Do the above for polynomial models with polynomial degree 7. Which model class (polynomial or neural network) is a better fit for the data? Which model class produces better aleotoric uncertainty? Which model class prodcues better epistemic uncertainty? Why?"
   ]
  },
  {
   "cell_type": "code",
   "execution_count": 17,
   "metadata": {
    "slideshow": {
     "slide_type": "skip"
    }
   },
   "outputs": [],
   "source": [
    "## generate training data\n",
    "#number of points in each of the two segments of the domain\n",
    "N = 100\n",
    "#training x\n",
    "x = np.hstack((np.linspace(-10, -5, N), np.linspace(5, 10, N)))\n",
    "#output noise variance\n",
    "y_var = 1.0\n",
    "#function relating x and y\n",
    "f = lambda x:  0.01 * x**3\n",
    "#y is equal to f(x) plus gaussian noise\n",
    "y = f(x) + np.random.normal(0, y_var**0.5, 2 * N)"
   ]
  },
  {
   "cell_type": "code",
   "execution_count": 25,
   "metadata": {
    "slideshow": {
     "slide_type": "skip"
    }
   },
   "outputs": [
    {
     "name": "stdout",
     "output_type": "stream",
     "text": [
      "Iteration 0 lower bound 225.4945532381938; gradient mag: 199.48252171570954\n",
      "Iteration 100 lower bound 225.31461527245983; gradient mag: 147.1343331669715\n",
      "Iteration 200 lower bound 225.05092125743857; gradient mag: 4.038438194244029\n",
      "Iteration 300 lower bound 224.75300726258823; gradient mag: 4.270025680356077\n",
      "Iteration 400 lower bound 224.43448641919886; gradient mag: 3.9384245779736733\n",
      "Iteration 500 lower bound 224.1073820135814; gradient mag: 3.618215598837167\n",
      "Iteration 600 lower bound 223.77912120989896; gradient mag: 3.3177131543902147\n",
      "Iteration 700 lower bound 223.45354632615187; gradient mag: 3.0505606839846684\n",
      "Iteration 800 lower bound 223.13218288626967; gradient mag: 2.819689489377393\n",
      "Iteration 900 lower bound 222.81527402114364; gradient mag: 2.6224146956681227\n",
      "Iteration 1000 lower bound 222.50247309692182; gradient mag: 2.45405083422702\n",
      "Iteration 1100 lower bound 222.19326208946063; gradient mag: 2.3095173756863336\n",
      "Iteration 1200 lower bound 221.88717783564937; gradient mag: 2.184054270163516\n",
      "Iteration 1300 lower bound 221.58391226905644; gradient mag: 2.0735489525647557\n",
      "Iteration 1400 lower bound 221.28333590007355; gradient mag: 1.9746493510569472\n",
      "Iteration 1500 lower bound 220.985479401835; gradient mag: 1.8847460598516996\n",
      "Iteration 1600 lower bound 220.69049652970494; gradient mag: 1.8021651991523215\n",
      "Iteration 1700 lower bound 220.51789332642335; gradient mag: 649.7110889270529\n",
      "Iteration 1800 lower bound 220.25810871600225; gradient mag: 1.6985489471101394\n",
      "Iteration 1900 lower bound 220.0389733365036; gradient mag: 1.7048900626183796\n",
      "Iteration 2000 lower bound 219.8193840202632; gradient mag: 1.6354134073534847\n",
      "Iteration 2100 lower bound 219.59964442646654; gradient mag: 1.5794787389523055\n",
      "Iteration 2200 lower bound 220.87469358906282; gradient mag: 3984.689632816689\n",
      "Iteration 2300 lower bound 219.24112917183416; gradient mag: 17.782631763274214\n",
      "Iteration 2400 lower bound 219.06620116566484; gradient mag: 1.5346128212811552\n",
      "Iteration 2500 lower bound 218.88999682595355; gradient mag: 1.4494832231015076\n",
      "Iteration 2600 lower bound 218.71271675771857; gradient mag: 1.408071933288225\n",
      "Iteration 2700 lower bound 218.73717486163866; gradient mag: 1398.9948545711186\n",
      "Iteration 2800 lower bound 218.42469784386665; gradient mag: 11.277035301673305\n",
      "Iteration 2900 lower bound 218.27817189044524; gradient mag: 1.3180662082572108\n",
      "Iteration 3000 lower bound 218.13005590277845; gradient mag: 1.3042814868858263\n",
      "Iteration 3100 lower bound 219.05875029669778; gradient mag: 3624.718462932487\n",
      "Iteration 3200 lower bound 217.87496290489193; gradient mag: 59.168028481441574\n",
      "Iteration 3300 lower bound 217.75002592575555; gradient mag: 1.7086793768166706\n",
      "Iteration 3400 lower bound 217.6235293749881; gradient mag: 1.2173395979503403\n",
      "Iteration 3500 lower bound 217.49530712105553; gradient mag: 1.047373554563012\n",
      "Iteration 3600 lower bound 217.4209466490567; gradient mag: 542.1158273167771\n",
      "Iteration 3700 lower bound 217.29036919388744; gradient mag: 2.238292670614682\n",
      "Iteration 3800 lower bound 217.18063512231248; gradient mag: 1.1365928749378051\n",
      "Iteration 3900 lower bound 217.06904135064087; gradient mag: 1.1157934418671083\n",
      "Iteration 4000 lower bound 217.05094091542338; gradient mag: 953.0865010711453\n",
      "Iteration 4100 lower bound 216.88686724011035; gradient mag: 2.9104625912314304\n",
      "Iteration 4200 lower bound 216.79076179745755; gradient mag: 1.1038284337241246\n",
      "Iteration 4300 lower bound 216.6927447134862; gradient mag: 1.0515193547282797\n",
      "Iteration 4400 lower bound 216.85096599750034; gradient mag: 1801.6538013713819\n",
      "Iteration 4500 lower bound 216.52844840071162; gradient mag: 29.60476719059218\n",
      "Iteration 4600 lower bound 216.44302384664604; gradient mag: 0.951402765486449\n",
      "Iteration 4700 lower bound 216.35575102520232; gradient mag: 0.9948718064192684\n",
      "Iteration 4800 lower bound 219.53050564315993; gradient mag: 6759.609110831156\n",
      "Iteration 4900 lower bound 216.20758879531763; gradient mag: 50.83795812638453\n"
     ]
    }
   ],
   "source": [
    "###define design choices in gradient descent\n",
    "params = {'step_size':1e-2, \n",
    "          'max_iteration':5000, \n",
    "          'random_restarts':1}\n",
    "\n",
    "#fit my neural network to minimize MSE on the given data\n",
    "nn.fit(x.reshape((1, -1)), y.reshape((1, -1)), params)"
   ]
  },
  {
   "cell_type": "code",
   "execution_count": 26,
   "metadata": {},
   "outputs": [
    {
     "data": {
      "image/png": "[encoded data removed]",
      "text/plain": [
       "<Figure size 432x288 with 1 Axes>"
      ]
     },
     "metadata": {
      "needs_background": "light"
     },
     "output_type": "display_data"
    }
   ],
   "source": [
    "x_test = np.linspace(-11, 11, 100)\n",
    "\n",
    "#predict on x_test\n",
    "y_test = nn.forward(nn.weights, x_test.reshape((1, -1)))\n",
    "\n",
    "#visualize our learned model\n",
    "plt.scatter(x, y, color='black', label='data')\n",
    "plt.plot(x_test, y_test.flatten(), color='red', label='learned neural network function')\n",
    "plt.legend(loc='best')\n",
    "plt.show()"
   ]
  },
  {
   "cell_type": "code",
   "execution_count": 27,
   "metadata": {
    "slideshow": {
     "slide_type": "slide"
    }
   },
   "outputs": [
    {
     "data": {
      "image/png": "[encoded data removed]",
      "text/plain": [
       "<Figure size 432x288 with 1 Axes>"
      ]
     },
     "metadata": {
      "needs_background": "light"
     },
     "output_type": "display_data"
    }
   ],
   "source": [
    "#set up for polynomial (deg 7) regression\n",
    "linear_model = LinearRegression()\n",
    "poly = PolynomialFeatures(7)\n",
    "\n",
    "#fit a polynomial model\n",
    "x_poly = poly.fit_transform(x.reshape((-1, 1)))\n",
    "x_test_poly = poly.fit_transform(x_test.reshape((-1, 1)))\n",
    "linear_model.fit(x_poly, y)\n",
    "\n",
    "#predict on x_test\n",
    "y_test_poly = linear_model.predict(x_test_poly)\n",
    "\n",
    "#visualize our learned model\n",
    "plt.scatter(x, y, color='black', label='data')\n",
    "plt.plot(x_test, y_test_poly.flatten(), color='blue', label='degree 7 polynomial')\n",
    "plt.legend(loc='best')\n",
    "plt.ylim([-10, 10])\n",
    "plt.show()"
   ]
  }
 ],
 "metadata": {
  "celltoolbar": "Slideshow",
  "kernelspec": {
   "display_name": "Python 3",
   "language": "python",
   "name": "python3"
  },
  "language_info": {
   "codemirror_mode": {
    "name": "ipython",
    "version": 3
   },
   "file_extension": ".py",
   "mimetype": "text/x-python",
   "name": "python",
   "nbconvert_exporter": "python",
   "pygments_lexer": "ipython3",
   "version": "3.6.8"
  }
 },
 "nbformat": 4,
 "nbformat_minor": 2
}
