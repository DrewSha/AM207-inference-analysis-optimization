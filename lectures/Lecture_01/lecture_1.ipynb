{
 "cells": [
  {
   "cell_type": "markdown",
   "metadata": {
    "slideshow": {
     "slide_type": "slide"
    }
   },
   "source": [
    "# Lecture #1: Course Overview\n",
    "## AM 207: Advanced Scientific Computing\n",
    "### Stochastic Methods for Data Analysis, Inference and Optimization\n",
    "### Fall, 2019"
   ]
  },
  {
   "cell_type": "markdown",
   "metadata": {
    "slideshow": {
     "slide_type": "slide"
    }
   },
   "source": [
    "<img src=\"fig/logos.jpg\" style=\"height:150px;\">"
   ]
  },
  {
   "cell_type": "markdown",
   "metadata": {
    "slideshow": {
     "slide_type": "slide"
    }
   },
   "source": [
    "## Outline\n",
    "1. What is this course about?\n",
    "2. Who should take this course?\n",
    "3. How is this course structured?\n",
    "4. How do I get help for the course?\n",
    "5. Where do I find more information?"
   ]
  },
  {
   "cell_type": "markdown",
   "metadata": {
    "slideshow": {
     "slide_type": "slide"
    }
   },
   "source": [
    "# What is this course about?"
   ]
  },
  {
   "cell_type": "markdown",
   "metadata": {
    "slideshow": {
     "slide_type": "slide"
    }
   },
   "source": [
    "## How Do We Model Patterns in Data?\n",
    "\n",
    "This is a scatter plot of home prices vs square footage of some homes in southern California.\n",
    "\n",
    "<img src=\"fig/fig32.jpg\" style=\"height:350px;\">\n",
    "\n",
    "Can you see any patterns or trends?\n"
   ]
  },
  {
   "cell_type": "markdown",
   "metadata": {
    "slideshow": {
     "slide_type": "slide"
    }
   },
   "source": [
    "## How Do We Model Patterns in Data?\n",
    "\n",
    "We see that as **square footage** increases, so does **price**. \n",
    "\n",
    "<img src=\"fig/fig32.jpg\" style=\"height:350px;\">\n",
    "\n",
    "But what is a precise, mathematical description of this relationship?"
   ]
  },
  {
   "cell_type": "markdown",
   "metadata": {
    "slideshow": {
     "slide_type": "slide"
    }
   },
   "source": [
    "## What is a Model?\n",
    "\n",
    "Building a model to capture a hypothesized relationship means we predict the value of one group of attributes using another group. \n",
    "\n",
    "This prediction problem is called ***regression***, the attribute we are trying to predict (e.g.price) is called the ***outcome*** or the ***target***, denoted by $y$. \n",
    "\n",
    "The group of attributes (e.g. square footage) we use to make the prediction is called the ***covariates***, denoted by $x$.\n",
    "\n",
    "A ***regression model*** is a mathematical function, $f(x)$, that predicts the target. We denote our prediction by $\\hat{y} = f(x)$. "
   ]
  },
  {
   "cell_type": "markdown",
   "metadata": {
    "slideshow": {
     "slide_type": "slide"
    }
   },
   "source": [
    "## What is a Model?\n",
    "\n",
    "We conjectured that the model for this data is a line: $\\hat{y} = f(x) = w_1x + w_0$.\n",
    "\n",
    "<img src=\"fig/fig33.jpg\" style=\"height:350px;\">\n",
    "\n",
    "But which line fits the data best?"
   ]
  },
  {
   "cell_type": "markdown",
   "metadata": {
    "slideshow": {
     "slide_type": "slide"
    }
   },
   "source": [
    "## A Notion of Error\n",
    "\n",
    "An ***absolute residual*** is the absolute difference between the actual price of a home and the price predicted by the line for a given square footage:\n",
    "$$\n",
    "\\mathtt{Residual}_i = y_i - \\hat{y}_i\n",
    "$$\n",
    "\n",
    "<img src=\"fig/fig34.jpg\" style=\"height:350px;\">"
   ]
  },
  {
   "cell_type": "markdown",
   "metadata": {
    "slideshow": {
     "slide_type": "slide"
    }
   },
   "source": [
    "## How do we quantify the overall error?\n",
    "\n",
    "1. **(Max absolute deviation)** Count only the biggest \"error\"\n",
    "$$\n",
    "\\max_i |y_i - \\hat{y}_i| \n",
    "$$\n",
    "2. **(Sum of absolute deviations)** Add up all the \"errors\"\n",
    "$$\n",
    "\\sum_i |y_i - \\hat{y}_i| \n",
    "$$\n",
    "3. **(Sum of squared errors)** Add up the squares of the \"errors\"\n",
    "$$\n",
    "\\sum_i |y_i - \\hat{y}_i|^2 \n",
    "$$\n",
    "4. **(Mean squared errors)** We can also average the squared \"errors\".\n",
    "$$\n",
    "\\frac{1}{N}\\sum_{i=1}^N |y_i - \\hat{y}_i|^2 \n",
    "$$\n",
    "\n",
    "Again, $y_i$ is the observed target, $\\hat{y}_i$ is the predicted target."
   ]
  },
  {
   "cell_type": "markdown",
   "metadata": {
    "slideshow": {
     "slide_type": "slide"
    }
   },
   "source": [
    "## Model Fitting\n",
    "\n",
    "**Question:** What do we mean by choosing \"best\" line, $\\hat{y} = w_1x_1 + w_0$? \n",
    "\n",
    "The ***model fitting*** process:\n",
    "\n",
    "1. *Choose* an overall error metric. This metric is called the ***loss function***:\n",
    "$$\n",
    "\\mathcal{L}(w_0, w_1) = \\frac{1}{N}\\sum_{i=1}^N |y_i - (w_1x_1 + w_0)|^2, \\quad\\quad \\text{(Mean Squared Error Loss)}\n",
    "$$\n",
    "\n",
    "2. Set up the problem of finding coefficients or ***parameters***, $w_0, w_1$, such that the loss function is **minimized**:\n",
    "$$\n",
    "\\mathrm{argmin}_{w_0, w_1}\\mathcal{L}(w_0, w_1) = \\mathrm{argmin}_{w_0, w_1}\\frac{1}{N}\\sum_{i=1}^N |y_i - (w_1x_1 + w_0)|^2 \n",
    "$$\n",
    "\n",
    "3. Choose a method of minimizing the loss function.\n",
    "\n",
    "**Note:** For linear regression, we can minimize $\\mathcal{L}$ analytically. We cannot do this for every model!"
   ]
  },
  {
   "cell_type": "markdown",
   "metadata": {
    "slideshow": {
     "slide_type": "skip"
    }
   },
   "source": [
    "## Linear Regression in `sklearn`\n",
    "\n",
    "```python\n",
    "# import the LinearRegression model from the sklearn library\n",
    "from sklearn.linear_model import LinearRegression\n",
    "\n",
    "# make an instance of the linear regression model\n",
    "regression = LinearRegression()\n",
    "\n",
    "# find the coefficients for the line that minimizes mean squared error\n",
    "regression.fit(x_train, y_train)\n",
    "```"
   ]
  },
  {
   "cell_type": "markdown",
   "metadata": {
    "slideshow": {
     "slide_type": "slide"
    }
   },
   "source": [
    "## What is a Statistical Model?\n",
    "Perhaps our **choice** of an overall error can be less arbitrary if we explain how, we believe, the residual arise.\n",
    "\n",
    "**Belief:** The theoretical relationship between price and square footage ($x$) is given by $f(x)$. But, in real-life, due to unpredictable circumstances observed prices ($y$) differ from $f(x)$ by some random amount, $\\epsilon$, called ***noise***:\n",
    "$$\n",
    "y = f(x) + \\epsilon, \\quad \\epsilon \\sim p(\\epsilon)\n",
    "$$\n",
    "\n",
    "A ***statistical model*** is one that explicitly accounts for uncertainty or randomness. "
   ]
  },
  {
   "cell_type": "markdown",
   "metadata": {
    "slideshow": {
     "slide_type": "slide"
    }
   },
   "source": [
    "## A Statistical Model for Regression\n",
    "\n",
    "Let us *assume* that (1) the underlying relationship between price and square footage $x$ is given by $f(x) = w_0 + w_1x$; (2) that the observed price $y$ deviates from $f(x)$ by a random amount that is independent from $x$ and is distributed as $\\mathcal{N}(0, 1)$:\n",
    "\n",
    "$$\n",
    "y = f(x) + \\epsilon, \\quad \\epsilon \\overset{\\text{iid}}{\\sim} \\mathcal{N}(0, 1)\n",
    "$$\n",
    "\n",
    "Note that $y$ is now a random variable with distribution $\\mathcal{N}(f(x), 1)$, denoted by $p(y|x, w_0, w_1)$."
   ]
  },
  {
   "cell_type": "markdown",
   "metadata": {
    "slideshow": {
     "slide_type": "slide"
    }
   },
   "source": [
    "## How Do We Quantify Fitness?\n",
    "\n",
    "Given our statistical model, a natural way for quantifying how well $f(x) = w_0 + w_1x$ fits the data is by checking how likely our choice of $w_0$ and $w_1$ makes the observed data, i.e. compute\n",
    "$$\n",
    "\\mathcal{L}(w_0, w_1) = \\prod_{n=1}^N p(y_n|x_n, w_0, w_1).\n",
    "$$\n",
    "The function $\\mathcal{L}(w_0, w_1)$ is called the ***likelihood function***.\n",
    "\n",
    "**Exercise:** suppose we have two models, $f(x) = 2 + 3x$ and $f(x) = 10 - x$. Suppose that $\\mathcal{L}(w_0=2, w_1=3) = 10.2$ and $\\mathcal{L}(w_0=10, w_1=-1) = 0.002$. Which model is a better fit for the data and why?"
   ]
  },
  {
   "cell_type": "markdown",
   "metadata": {
    "slideshow": {
     "slide_type": "slide"
    }
   },
   "source": [
    "## Model Fitting\n",
    "\n",
    "**Question:** What do we mean by choosing \"best\" line, $\\hat{y} = f(x) = w_1x_1 + w_0$? \n",
    "\n",
    "The ***model fitting*** process:\n",
    "\n",
    "1. *Choose* a method of estimation for statistical models. For example, set up the problem of finding coefficients or ***parameters***, $w_0, w_1$, such that the likelihood of the data is **maximized**:\n",
    "$$\n",
    "\\mathrm{argmax}_{w_0, w_1}\\mathcal{L}(w_0, w_1) = \\mathrm{argmax}_{w_0, w_1}\\prod_{n=1}^N p(y_n|x_n, w_0, w_1) \n",
    "$$\n",
    "\n",
    "3. Choose a method of computing the estimate. For example, choose a way to maximize the likelihood."
   ]
  },
  {
   "cell_type": "markdown",
   "metadata": {
    "slideshow": {
     "slide_type": "slide"
    }
   },
   "source": [
    "## Maximimum Likelihood and Minimum Mean Square Error\n",
    "\n",
    "Given our statistical model\n",
    "$$\n",
    "y = f(x) + \\epsilon, \\quad \\epsilon \\overset{\\text{iid}}{\\sim} \\mathcal{N}(0, 1)\n",
    "$$\n",
    "Maximimizing the likelihood is equivalent to minimizing the mean squared error:\n",
    "$$\n",
    "\\mathrm{argmax}_{w_0, w_1}\\prod_{n=1}^N p(y_n|x_n, w_0, w_1) \\equiv \\mathrm{argmin}_{w_0, w_1}\\frac{1}{N}\\sum_{i=1}^N |y_i - (w_1x_1 + w_0)|^2 \n",
    "$$\n",
    "\n",
    "*Hint: note that* \n",
    "$$\\prod_{n=1}^Np(y_n|x_n, w_1, w_0) = \\frac{1}{\\sqrt{2\\pi 1}^N} \\exp\\left\\{-\\frac{\\sum_{i=1}^N(y_n - (w_1x_n + w_0))^2}{2 * 1} \\right\\}$$ \n",
    "*and that*\n",
    "$$\\log p(y|x, w_1, w_0) = N\\log\\left(\\frac{1}{\\sqrt{2\\pi 1}}\\right) - \\frac{\\sum_{i=1}^N(y_n - (w_1x_n + w_0))^2}{2 * 1} $$"
   ]
  },
  {
   "cell_type": "markdown",
   "metadata": {
    "slideshow": {
     "slide_type": "slide"
    }
   },
   "source": [
    "## Model Evaluation\n",
    "After fitting the model (finding coefficients that maximizes the likelihood or that minimizes the loss function), we need to **check the error or residuals of the model**. Why?\n",
    "\n",
    "<img src=\"fig/fig36.jpg\" style=\"height:300px;\">\n",
    "\n",
    "Working with statistical models gives us an advantage in model evaluation, can you see why?"
   ]
  },
  {
   "cell_type": "markdown",
   "metadata": {
    "slideshow": {
     "slide_type": "slide"
    }
   },
   "source": [
    "## Model Interpretation\n",
    "\n",
    "In addition to evaluating our model on training and testing data, we must also examine the coefficients themselves. Why?\n",
    "\n",
    "<img src=\"fig/fig35.jpg\" style=\"height:300px;\">\n"
   ]
  },
  {
   "cell_type": "markdown",
   "metadata": {
    "slideshow": {
     "slide_type": "slide"
    }
   },
   "source": [
    "## What is a Bayesian Model?\n",
    "In addition to a statistical model that explains trends $f(x)$ and observation noise $\\epsilon$, we also want to incorporate our **prior beliefs** about the model. Finally, we want to obtain a measure of **uncertainty** for our parameter estimates as well as our predictions.\n",
    "\n",
    "Our Bayesian model for linear regression:\n",
    "\\begin{aligned}\n",
    "y &= w_0 + w_1x + \\epsilon\\\\\n",
    "\\epsilon &\\overset{\\text{iid}}{\\sim} \\mathcal{N}(0, 1)\\\\\n",
    "w_0 &\\sim p(w_0)\\\\\n",
    "w_1 &\\sim p(w_1)\\\\\n",
    "\\end{aligned}\n",
    "\n",
    "where the prior $p(w_1)$ may express that we want $w_1$ to be non-negative and not too large."
   ]
  },
  {
   "cell_type": "markdown",
   "metadata": {
    "slideshow": {
     "slide_type": "slide"
    }
   },
   "source": [
    "## Model Inference\n",
    "How do we \"learn\" the parameters in a Bayesian model?\n",
    "\n",
    "Baye's Rule gives us a way to obtain a distribution over $w_0, w_1$ given the data $(x_1, y_1), \\ldots, (x_N, y_N)$:\n",
    "\n",
    "$$\n",
    "p(w_0, w_1 | x_1, \\ldots, x_N, y_1, \\ldots, y_N) \\propto \\underbrace{\\left(\\prod_{n=1}^N p(y_n|x_n, w_0, w_1)\\right)}_{\\text{How well params fit the data}} \\underbrace{p(w_0)p(w_1)}_{\\text{How well the params fit priors}}\n",
    "$$\n",
    "\n",
    "The distirbution $p(w_0, w_1 | x_1, \\ldots, x_N, y_1, \\ldots, y_N)$ is called the ***poseterior*** and gives the likelihood of a pair of parameters $w_0, w_1$ given the observed data.\n",
    "\n",
    "We see that the likelihood score of the parameters under the posterior is influence both by how well the parameters fit the data and how well the parameters fit our prior beliefs."
   ]
  },
  {
   "cell_type": "markdown",
   "metadata": {
    "slideshow": {
     "slide_type": "slide"
    }
   },
   "source": [
    "## Bayesian Linear Regression\n",
    "\n",
    "When we choose normal priors for the parameters in a linear regression model, for example,\n",
    "\n",
    "\\begin{aligned}\n",
    "y &= w_0 + w_1x + \\epsilon\\\\\n",
    "\\epsilon &\\overset{\\text{iid}}{\\sim} \\mathcal{N}(0, 1)\\\\\n",
    "w_0 &\\sim \\mathcal{N}(0, 1)\\\\\n",
    "w_1 &\\sim \\mathcal{N}(0, 0.5)\\\\\n",
    "\\end{aligned}\n",
    "\n",
    "The posterior $p(w_0, w_1 | x_1, \\ldots, x_N, y_1, \\ldots, y_N)$ is again a (multivariate) normal distribution, $\\mathcal{N}(\\mu, \\Sigma)$, and we can derive closed form solutions for $\\mu$ and $\\Sigma$.\n",
    "\n",
    "Why is this observation important?"
   ]
  },
  {
   "cell_type": "markdown",
   "metadata": {
    "slideshow": {
     "slide_type": "slide"
    }
   },
   "source": [
    "## Model Evaluation\n",
    "\n",
    "With a Bayesian model we get a distribution $p(w_0, w_1| \\text{Data})$ over likely functions rather than a single function $f(x) = w_0 + w_1x$. How then do we evaluate the \"error\" of model?\n",
    "\n",
    "In the Maximum Likelihood model, we can explicitly check the correctness of our assumptions by checking the distribution of the residuals. How do we criticize a Bayesian model?"
   ]
  },
  {
   "cell_type": "markdown",
   "metadata": {
    "slideshow": {
     "slide_type": "slide"
    }
   },
   "source": [
    "## Why is This Hard?\n",
    "\n",
    "1. Stating that our goal is to maximize likelihood or minimize MSE is easy. Finding the optimal parameters is often very hard (especially if $f(x)$ is not linear, but rather, a complex function represented by a neural network).\n",
    "<br><br>\n",
    "2. If we choose more \"interesting\" or \"expressive\" priors, or if we choose more complex $f(x)$, then it is often the case that the posterior cannot be computed in closed form.\n",
    "\n",
    "Both model fitting and inference requires sophisticated algorithms derived from deep theoretical understanding of the models."
   ]
  },
  {
   "cell_type": "markdown",
   "metadata": {
    "slideshow": {
     "slide_type": "slide"
    }
   },
   "source": [
    "## What is AM207?\n",
    "\n",
    "1. Build statistical (Bayesian and non-Bayesian) models for: continuous, ordinal, categorical and sequential data\n",
    "2. Study algorithms for model fitting and inference\n",
    "3. Study paradigms for model evaluation and critique\n",
    "\n",
    "**Goal:** students become familiar with standard statistical models and modern techniques of inference. At the end of the course you should be able to productively read current machine learning research papers.\n",
    "\n",
    "**Focus:** computational aspects of inference.\n",
    "\n",
    "**Related Courses:** Bayesian Inference (Stats), Advanced Machine Learning (CS)"
   ]
  },
  {
   "cell_type": "markdown",
   "metadata": {
    "slideshow": {
     "slide_type": "slide"
    }
   },
   "source": [
    "# Who should take this class?"
   ]
  },
  {
   "cell_type": "markdown",
   "metadata": {
    "slideshow": {
     "slide_type": "slide"
    }
   },
   "source": [
    "## Suggested Pre-Reqs for AM207\n",
    "1. Fluency in high-level programming language (preferably `python`)\n",
    "2. Multivariable calculus based statistics course\n",
    "3. CS109 A, B: Data Science (strongly recommended)\n",
    "\n",
    "**Disclaimer:** in the past, students have successfully completed the course having major gaps in their preparation, but the effort it takes to overcome these gaps can be extraordinary.\n",
    "\n",
    "**Is this course right for me?** Homework #0 reviews the \"assumed background\" for the course. Although it is longer than a typical homework for this class, it gives a good indication of the type of theoretical and computational tasks that will appear on every homework. Use Homework #0 to gauge your preparation and how time consuming the course will be."
   ]
  },
  {
   "cell_type": "markdown",
   "metadata": {
    "slideshow": {
     "slide_type": "slide"
    }
   },
   "source": [
    "## What technology do you need for AM207\n",
    "Homework will be completed in Jupyter Notebooks.\n",
    "\n",
    "You have one of two options\n",
    "1. Download the latest Anaconda `python` 3.x distribution on your personal machine\n",
    "2. Complete homework using Google Colab - a free cloud computing service that comes with pre-installed machine learning tools. Colab is built on Jupyter Notebooks, an open-source web application that allows you to create and share documents that contain live code, equations, visualizations and narrative text. "
   ]
  },
  {
   "cell_type": "markdown",
   "metadata": {
    "slideshow": {
     "slide_type": "slide"
    }
   },
   "source": [
    "## Lab #1\n",
    "In this Friday's lab, we will review some important aspects of scientfic computing and statistics you need for the course. \n",
    "\n",
    "You'll have a chance to get familiar with Jupyter Notebook (or Colab) and various `python` libaries we'll be using frequently."
   ]
  },
  {
   "cell_type": "markdown",
   "metadata": {
    "slideshow": {
     "slide_type": "slide"
    }
   },
   "source": [
    "# How is this course structured?"
   ]
  },
  {
   "cell_type": "markdown",
   "metadata": {
    "slideshow": {
     "slide_type": "slide"
    }
   },
   "source": [
    "## Meetings\n",
    "\n",
    "There are two weekly lectures and one lab.\n",
    "\n",
    "The lab is a structured instructor office hour, where in we focus on specific tasks and concepts that supplement the lecture or prepare for the homwork."
   ]
  },
  {
   "cell_type": "markdown",
   "metadata": {
    "slideshow": {
     "slide_type": "slide"
    }
   },
   "source": [
    "## Graded Components\n",
    "\n",
    "1. 10 equally weighted weekly homework\n",
    "2. 1 group project\n",
    "\n",
    "Each homework will be a combination of derivations/proofs (theory) and programming (implementation).\n",
    "\n",
    "The group project involves choosing one pre-approved research paper and producing a tutorial in Jupyter Notebook to demonstrate the concepts and methodologies in the paper."
   ]
  },
  {
   "cell_type": "markdown",
   "metadata": {
    "slideshow": {
     "slide_type": "slide"
    }
   },
   "source": [
    "## Policies\n",
    "\n",
    "**Grading:** Unreadable formatting or code with syntactic or runtime errrors will not be graded. \"Right\" answer without a (brief) justification will not receive full score. You can drop your lowest HW grade.\n",
    "\n",
    "**Late HW:** Each student has two late days that can be applied to any one or two homework. Outside of late days, late submissions will not be accepted.\n",
    "\n",
    "**Collaboration:** Collaboration is strongly encouraged, but copying is strictly not allowed (see policy on Syllabus).\n",
    "\n",
    "**Attendance:** Attendance is not required but strongly suggested. For FAS students, attendance may be taken into account when determining priority during office hours."
   ]
  },
  {
   "cell_type": "markdown",
   "metadata": {
    "slideshow": {
     "slide_type": "slide"
    }
   },
   "source": [
    "# How do I get help for the course?"
   ]
  },
  {
   "cell_type": "markdown",
   "metadata": {
    "slideshow": {
     "slide_type": "slide"
    }
   },
   "source": [
    "## Teaching Staff\n",
    "\n",
    "**Instructor:** Weiwei Pan\n",
    "\n",
    "**TFs:** \n",
    "- Jianzhun Du\n",
    "- Meng Dong\n",
    "- Yuhao Lu\n",
    "- Shu Xu\n",
    "- Sijie Sun\n",
    "- Kela Roberts (Extension School)"
   ]
  },
  {
   "cell_type": "markdown",
   "metadata": {
    "slideshow": {
     "slide_type": "slide"
    }
   },
   "source": [
    "## Office Hours\n",
    "\n",
    "There is one TF office hour every weekday.\n",
    "\n",
    "There are two instructor office hours: \n",
    "1. Tuesday for unstructured Q&A\n",
    "2. Friday for structured help (Lab)"
   ]
  },
  {
   "cell_type": "markdown",
   "metadata": {
    "slideshow": {
     "slide_type": "slide"
    }
   },
   "source": [
    "## Remote Learning Students\n",
    "\n",
    "Tuesday's instructor office hours will have a remote dial-in option.\n",
    "\n",
    "The dedicated TF for extension school students is Kela Roberts who will answer questions via email (see email policy on Syllabus)."
   ]
  },
  {
   "cell_type": "markdown",
   "metadata": {
    "slideshow": {
     "slide_type": "slide"
    }
   },
   "source": [
    "## Piazza\n",
    "\n",
    "There is a course Piazza to faciliate collaboration amongst students. \n",
    "\n",
    "Teaching staff moderate the discussions but are **not responsible for answering questions**! \n",
    "\n",
    "If you want help from the staff come to an office hour or schedule a meeting."
   ]
  },
  {
   "cell_type": "markdown",
   "metadata": {
    "slideshow": {
     "slide_type": "slide"
    }
   },
   "source": [
    "# Where can I find more information?"
   ]
  },
  {
   "cell_type": "markdown",
   "metadata": {
    "slideshow": {
     "slide_type": "slide"
    }
   },
   "source": [
    "## Course Canvas\n",
    "There is a course canvas with:\n",
    "0. meeting times and location; office hour times and location\n",
    "1. course syllabus and schedule\n",
    "2. weekly summaries: lecture notes, lab notebooks, homework, homework solutions\n",
    "3. information about the project (to appear)\n",
    "4. all course announcements\n",
    "5. attendance quizzes\n",
    "6. link to the course piazza"
   ]
  }
 ],
 "metadata": {
  "celltoolbar": "Slideshow",
  "kernelspec": {
   "display_name": "Python 3",
   "language": "python",
   "name": "python3"
  },
  "language_info": {
   "codemirror_mode": {
    "name": "ipython",
    "version": 3
   },
   "file_extension": ".py",
   "mimetype": "text/x-python",
   "name": "python",
   "nbconvert_exporter": "python",
   "pygments_lexer": "ipython3",
   "version": "3.6.8"
  }
 },
 "nbformat": 4,
 "nbformat_minor": 2
}
