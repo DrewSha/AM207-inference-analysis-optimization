{
 "cells": [
  {
   "cell_type": "markdown",
   "metadata": {
    "slideshow": {
     "slide_type": "slide"
    }
   },
   "source": [
    "# Lecture #7: Latent Variable Models and MLE\n",
    "## AM 207: Advanced Scientific Computing\n",
    "### Stochastic Methods for Data Analysis, Inference and Optimization\n",
    "### Fall, 2019"
   ]
  },
  {
   "cell_type": "markdown",
   "metadata": {
    "slideshow": {
     "slide_type": "slide"
    }
   },
   "source": [
    "<img src=\"fig/logos.jpg\" style=\"height:150px;\">"
   ]
  },
  {
   "cell_type": "code",
   "execution_count": 1,
   "metadata": {
    "slideshow": {
     "slide_type": "skip"
    }
   },
   "outputs": [],
   "source": [
    "### Import basic libraries\n",
    "import numpy as np\n",
    "import scipy as sp\n",
    "import pandas as pd\n",
    "import sklearn as sk\n",
    "from sklearn.linear_model import LinearRegression\n",
    "import matplotlib.pyplot as plt\n",
    "%matplotlib inline"
   ]
  },
  {
   "cell_type": "markdown",
   "metadata": {
    "slideshow": {
     "slide_type": "slide"
    }
   },
   "source": [
    "## Administrative Matters\n",
    "\n",
    "1. **Attendance Quiz:** https://tinyurl.com/y2d6738u<br><br>\n",
    "2. **Read Monday's lecture before class:** we are doing a very similar derivation next Monday. Same deal, class will be boring and unproductive if you don't prepare before hand by grappling with the material. Same advice as last time: keep in mind what you're trying to prove/derive and ask how each step in the proof/derivation gets you closer to the goal."
   ]
  },
  {
   "cell_type": "markdown",
   "metadata": {
    "slideshow": {
     "slide_type": "slide"
    }
   },
   "source": [
    "## Outline\n",
    "1. Wrapping Up MCMC Sampling\n",
    "2. Review of Statistical Modeling\n",
    "3. Motivation for Latent Variable Models\n",
    "4. Common Latent Variable Models\n",
    "5. Maximum Likelihood Estimation for Latent Variable Models: Expectation Maximization"
   ]
  },
  {
   "cell_type": "markdown",
   "metadata": {
    "slideshow": {
     "slide_type": "slide"
    }
   },
   "source": [
    "# Wrapping Up MCMC Sampling"
   ]
  },
  {
   "cell_type": "markdown",
   "metadata": {
    "slideshow": {
     "slide_type": "slide"
    }
   },
   "source": [
    "## Markov Chain Monte Carlo Samplers\n",
    "\n",
    "Every sampler for a distribution $p(\\theta)$ over the domain $\\Theta$ defines a stochastic process $\\{X_0, X_1, \\ldots, \\}$, where the state space is $\\Theta$.\n",
    "\n",
    "If the sampler defines a Markov chain whose unique stationary and limiting distribution is $p$, we call it a ***Markov Chain Monte Carlo (MCMC)*** sampler.\n",
    "\n",
    "That is, for every MCMC sampler, we have that \n",
    "1. **Stationary:** $pT = p$ (read: once we're sampling from $p$ we're always sampling from $p$)<br><br>\n",
    "\n",
    "2. **Limiting:** $\\underset{n\\to \\infty}{\\lim} \\pi^{(n)} = p$, for any $\\pi^{(0)}$ (read: where ever your initial sample is, you will eventually produce samples from $p$)\n",
    "\n",
    "where $T$ is the transition matrix or kernel pdf defined by the sampler."
   ]
  },
  {
   "cell_type": "markdown",
   "metadata": {
    "slideshow": {
     "slide_type": "slide"
    }
   },
   "source": [
    "## What Do We Need to Prove to get $pT=p$ and $\\underset{n\\to \\infty}{\\lim} \\pi^{(n)} = p$?\n",
    "\n",
    "1. Prove that the sampler is ***irreducible*** and ***aperiodic***. Then, there is a unique stationary distribution $\\pi$ such that \n",
    "$$\\pi T = \\pi.$$\n",
    "\n",
    "2. Prove that the sampler is ***reversible*** or ***detailed balanced*** with respect to $p$. Then, \n",
    "$$\\pi = p.$$"
   ]
  },
  {
   "cell_type": "markdown",
   "metadata": {
    "slideshow": {
     "slide_type": "slide"
    }
   },
   "source": [
    "## Metropolis-Hastings: The Algorithm\n",
    "\n",
    "For a target distribution $p(\\theta)$ over $\\Theta$ and a proposal distribution $q(\\theta | \\theta_{\\text{old}})$ over $\\Theta$, the ***Metropolis-Hastings (MH) algorithm*** is a MCMC algorithm for generating samples from $p$.\n",
    "\n",
    "1. **Step 0:** choose an initial value $\\theta_0 \\in \\Theta$.\n",
    "2. **Step 1:** repeat for $S$ number of steps:\n",
    "  - **Proposal:** propose a sample $\\theta_{\\text{prop}} \\sim q(\\theta | \\theta_{\\text{old}})$\n",
    "  - **Accept/Reject:** \n",
    "    - generate $U \\sim U(0, 1)$\n",
    "    - generate accept \"probability\": \n",
    "    $$\\alpha(\\theta_{\\text{prop}}, \\theta_{\\text{old}}) = \\min\\left(1, \\frac{p(\\theta_{\\text{prop}})/q(\\theta_{\\text{prop}} | \\theta_{\\text{old}})}{p(\\theta_{\\text{old}})/ q(\\theta_{\\text{old}}| \\theta_{\\text{prop}})}\\right)$$\n",
    "    - if $U < \\alpha(\\theta_{\\text{prop}}, \\theta_{\\text{old}})$: \n",
    "      - add $\\theta_{\\text{prop}}$ to list of accepted samples\n",
    "      - set $\\theta_{\\text{old}} \\leftarrow \\theta_{\\text{prop}}$ \n",
    "    - else: \n",
    "      add $\\theta_{\\text{old}}$ to list of accepted samples"
   ]
  },
  {
   "cell_type": "markdown",
   "metadata": {
    "slideshow": {
     "slide_type": "slide"
    }
   },
   "source": [
    "## Metropolis-Hastings: Proof of Correctness\n",
    "\n",
    "We want to show that the Metropolis Hastings algorithm defines a Markov Chain, $\\theta_0, \\theta_1, \\ldots$, with a unique stationary distribution $p$ and that the chain converges to $p$ regardless of initialization. So we need:\n",
    "1. MH defines an **irreducible** chain: a sufficient condition is that for any $\\theta' \\in \\Theta$\n",
    "\n",
    "$$\n",
    "q(\\theta| \\theta') > 0,\\; \\text{for all } \\theta \\in \\Theta.\n",
    "$$\n",
    "\n",
    "2. MH defines an **aperiodic** chain: a sufficient condition is that for any $\\theta' \\in \\Theta$\n",
    "\n",
    "$$\n",
    "q(\\theta | \\theta') > 0, \\text{for all $\\theta$ is a small neighbourhood around $\\theta'$}.\n",
    "$$\n",
    "\n",
    "3. MH defines an **reversible** chain (i.e. **detailed balance** is satisfied) with respect to $p$:\n",
    "\n",
    "$$\n",
    "p(\\theta')T_{\\text{MH}}(\\theta', \\theta) = T_{\\text{MH}}(\\theta, \\theta') p(\\theta)\n",
    "$$\n",
    "\n",
    "where $T_{\\text{MH}}$ is transition kernel pdf of the MH sampler."
   ]
  },
  {
   "cell_type": "markdown",
   "metadata": {
    "slideshow": {
     "slide_type": "slide"
    }
   },
   "source": [
    "## Metropolis-Hastings: Proof of Detailed Balance\n",
    "Recall that the transition kernel pdf $T_{\\text{MH}}(\\theta, \\theta')$ is the likelihood of the MH sampler transitioning from $\\theta$ to $\\theta'$. When $\\theta \\neq \\theta'$, the MH transition kernel pdf is, written a more friendly way, using $T_{\\text{MH}}(\\theta' | \\theta)$ to denote transitioning from $\\theta$ to $\\theta'$:\n",
    "\n",
    "$$\n",
    "T_{\\text{MH}}(\\theta | \\theta') = \\underbrace{q(\\theta| \\theta')}_{\\text{likelihood of proposing $\\theta$}}\\;\\;\\underbrace{\\alpha(\\theta, \\theta')}_{\\text{probability of accepting $\\theta$}}.\n",
    "$$\n",
    "\n",
    "Now, we can show:\n",
    "\\begin{aligned}\n",
    "p(\\theta')T_{\\text{MH}}(\\theta| \\theta') &= p(\\theta')q(\\theta| \\theta')\\alpha(\\theta, \\theta')\\\\\n",
    "&= p(\\theta')q(\\theta| \\theta')\\min\\left(1, \\frac{p(\\theta)q(\\theta'|\\theta)}{p(\\theta')q(\\theta|\\theta')}\\right)\\\\\n",
    "&= \\min\\left(p(\\theta')q(\\theta| \\theta'), \\frac{p(\\theta)q(\\theta'|\\theta)p(\\theta')q(\\theta| \\theta')}{p(\\theta')q(\\theta|\\theta')}\\right)\\\\\n",
    "&= \\min\\left(p(\\theta')q(\\theta| \\theta'), p(\\theta)q(\\theta'|\\theta)\\right)\\\\\n",
    "&= p(\\theta)q(\\theta'|\\theta)\\min\\left(\\frac{p(\\theta')q(\\theta| \\theta')}{p(\\theta)q(\\theta'|\\theta)}, 1\\right)\\\\\n",
    "&= p(\\theta)q(\\theta'|\\theta)\\alpha(\\theta', \\theta)\\\\\n",
    "&= T_{\\text{MH}}(\\theta'| \\theta) p(\\theta)\n",
    "\\end{aligned}"
   ]
  },
  {
   "cell_type": "markdown",
   "metadata": {
    "slideshow": {
     "slide_type": "slide"
    }
   },
   "source": [
    "## Gibbs as Metropolis-Hastings\n",
    "Now we are ready to prove the correctness of Gibbs sampling, by realizing it as a special instance of Metropolis-Hastings sampling.\n",
    "\n",
    "Let $\\theta \\in \\mathbb{R}^D$. Let's define the proposal distribution $q(\\theta_{\\text{new}}|\\theta_{\\text{old}})$ as a two stage process:\n",
    "1. propose an integer $d \\in [1, D]$ uniformly\n",
    "2. propose $\\theta_{\\text{new}}$ where $\\theta_{d, \\text{new}} \\sim p(\\theta_d | \\theta_{-d, \\text{old}})$ and $\\theta_{-d, \\text{new}} = \\theta_{-d, \\text{old}}$\n",
    "\n",
    "where $\\theta_d$ is the $d$-th component of $\\theta$ and $\\theta_{-d} = [\\theta_1, \\ldots, \\theta_{d-1}, \\theta_{d+1}, \\ldots, \\theta_D]$.\n",
    "\n",
    "Then the acceptance probability is:\n",
    "\n",
    "\\begin{aligned}\n",
    "\\min\\left(1, \\frac{p(\\theta_{\\text{new}})q(\\theta_{\\text{old}}|\\theta_{\\text{new}})}{p(\\theta_{\\text{old}})q(\\theta_{\\text{new}}|\\theta_{\\text{old}})} \\right) &= \\min\\left(1, \\frac{p(\\theta_{d, \\text{new}}|\\theta_{-d, \\text{new}})p(\\theta_{-d, \\text{new}}) p(\\theta_{d, \\text{old}} | \\theta_{-d, \\text{new}})}{p(\\theta_{d, \\text{old}}|\\theta_{-d, \\text{old}})p(\\theta_{-d, \\text{old}}) p(\\theta_{d, \\text{new}} | \\theta_{-d, \\text{old}})} \\right)\\\\\n",
    "&= \\min\\left(1, \\frac{p(\\theta_{d, \\text{new}}|\\theta_{-d, \\text{old}})p(\\theta_{-d, \\text{old}}) p(\\theta_{d, \\text{old}} | \\theta_{-d, \\text{new}})}{p(\\theta_{d, \\text{old}}|\\theta_{-d, \\text{new}})p(\\theta_{-d, \\text{old}}) p(\\theta_{d, \\text{new}} | \\theta_{-d, \\text{old}})} \\right)\\\\\n",
    "&= \\min\\left(1, 1\\right) = 1\n",
    "\\end{aligned}\n",
    "\n",
    "in the second to last equality, we make use of the fact that $\\theta_{-d, \\text{new}} = \\theta_{-d, \\text{old}}$. That is, Gibbs sampling is a MH algorithm with 100% acceptance rate."
   ]
  },
  {
   "cell_type": "markdown",
   "metadata": {
    "slideshow": {
     "slide_type": "slide"
    }
   },
   "source": [
    "# MCMC Diagnostics"
   ]
  },
  {
   "cell_type": "markdown",
   "metadata": {
    "slideshow": {
     "slide_type": "slide"
    }
   },
   "source": [
    "## Traceplot Checks for Mixing\n",
    "\n",
    "Reversibility, irreducibility and aperiodicity gaurantee that as the number of iterations $S$ approaches infinity, the sampler will be sampling from the target distribution $p$. In practice, getting sufficiently close to convergence, or ***mixing***, may take a very large number of steps. \n",
    "\n",
    "A quick and intuitive way to check for mixing is by visualizing the ***traceplots*** of each dimension of the samples over iterations.  That is, for each dimension of the samples, we plot the sampled values of that dimension against the iteration number.\n",
    "\n",
    "<img src=\"fig/mixing.jpg\" style=\"height:120px;\">"
   ]
  },
  {
   "cell_type": "markdown",
   "metadata": {
    "slideshow": {
     "slide_type": "slide"
    }
   },
   "source": [
    "## Burn-in and Thinning\n",
    "\n",
    "**When initialization is the problem:** when you initialize your sampler far from any regions of high probability mass, the initial samples produced by your sampler will have a trend -- they will move sequentially towards an area in the sample space $\\Theta$ where the target distribution $p$ has high mass. \n",
    "\n",
    "This problem can be mitigated by discarding $B$ number of initial samples, this chunk of samples is called the ***burn-in***. \n",
    "\n",
    "**When high spatial correlation is the problem:** for Metropolis-Hastings, when your proposal distirbution has very low variance the proposed sample will be very close to the current sample. This results in higher correlations between consecutive samples in your chain. \n",
    "\n",
    "This problem can be mitigated by discarding every $T$ number of samples, this is called ***thinning***. The rational is that every sample might be correlated with $T$ number of samples immediately preceeding or suceeding it, but its correlation with samples greater than $T$ steps away from it will be much smaller."
   ]
  },
  {
   "cell_type": "markdown",
   "metadata": {
    "slideshow": {
     "slide_type": "slide"
    }
   },
   "source": [
    "## Example: Sampling from a Mixture of Two Gaussians"
   ]
  },
  {
   "cell_type": "code",
   "execution_count": 4,
   "metadata": {
    "slideshow": {
     "slide_type": "skip"
    }
   },
   "outputs": [],
   "source": [
    "#implementation of metropolis-hastings with symmetric proposal distribution\n",
    "def MH_sampler(S, target, init, sigma_sq=0.5):\n",
    "    samples = []\n",
    "    current = init\n",
    "    accepts = 0\n",
    "    for s in range(S):\n",
    "        proposal = np.random.normal(current, sigma_sq**2)\n",
    "        U = np.random.uniform(0, 1)\n",
    "        \n",
    "        if U < np.min((1, target(proposal) / target(current))):\n",
    "            samples.append(proposal)\n",
    "            current = proposal\n",
    "            accepts += 1\n",
    "        else:\n",
    "            samples.append(current)\n",
    "    \n",
    "            \n",
    "    return samples, accepts * 1. / S\n",
    "\n",
    "#visualize target distribution and samples\n",
    "def plot_samples(ax, target, samples, title):\n",
    "    x = np.linspace(-5, 25, 100)\n",
    "    ax.plot(x, target(x), color='black', alpha=0.9, label='target distribution')\n",
    "    ax.hist(samples, density=True, bins=50, color='red', alpha=0.5, label='all samples')\n",
    "    ax.set_title(title)\n",
    "    ax.legend(loc='best')\n",
    "    return ax\n",
    "\n",
    "#define the target distribution as a mixture of two univariate gaussians\n",
    "sigma_sqs = [1, 1]\n",
    "mus = [2, 20]\n",
    "pis = [0.5, 0.5]\n",
    "target = lambda x: pis[0] * sp.stats.norm(mus[0], sigma_sqs[0]**2).pdf(x) + pis[1] * sp.stats.norm(mus[1], sigma_sqs[1]**2).pdf(x)"
   ]
  },
  {
   "cell_type": "code",
   "execution_count": 7,
   "metadata": {
    "slideshow": {
     "slide_type": "skip"
    }
   },
   "outputs": [],
   "source": [
    "#total number of samples\n",
    "S = 5000\n",
    "#initialization of the MH sampler\n",
    "init = -10\n",
    "#amount of samples to throw out\n",
    "burn_in = 1000\n",
    "#keep every n samples\n",
    "thinning = 5\n",
    "#sample from the MH sampler\n",
    "samples, accepts = MH_sampler(S, target, init)\n",
    "\n",
    "x = np.linspace(-5, 25, 100)"
   ]
  },
  {
   "cell_type": "code",
   "execution_count": 8,
   "metadata": {
    "slideshow": {
     "slide_type": "fragment"
    }
   },
   "outputs": [
    {
     "data": {
      "image/png": "[encoded data removed]",
      "text/plain": [
       "<Figure size 720x360 with 1 Axes>"
      ]
     },
     "metadata": {
      "needs_background": "light"
     },
     "output_type": "display_data"
    }
   ],
   "source": [
    "fig, ax = plt.subplots(1, 1, figsize=(10, 5))\n",
    "ax.plot(x, target(x), color='black', alpha=0.9)\n",
    "ax.set_title('pdf of target distribution')\n",
    "plt.show()"
   ]
  },
  {
   "cell_type": "markdown",
   "metadata": {
    "slideshow": {
     "slide_type": "slide"
    }
   },
   "source": [
    "## Visual Checks for Mixing"
   ]
  },
  {
   "cell_type": "code",
   "execution_count": 9,
   "metadata": {
    "slideshow": {
     "slide_type": "slide"
    }
   },
   "outputs": [
    {
     "data": {
      "image/png": "[encoded data removed]",
      "text/plain": [
       "<Figure size 1440x360 with 2 Axes>"
      ]
     },
     "metadata": {
      "needs_background": "light"
     },
     "output_type": "display_data"
    }
   ],
   "source": [
    "fig, ax = plt.subplots(1, 2, figsize=(20, 5))\n",
    "ax[0].plot(range(S), samples, color='red', alpha=0.5)\n",
    "ax[0].set_title('Trace plot of x for all samples')\n",
    "ax[1].plot(range(len(samples[burn_in::thinning])), samples[burn_in::thinning], color='red', alpha=0.5)\n",
    "ax[1].set_title('Trace plot of x for after burn-in and thinning')\n",
    "plt.show()"
   ]
  },
  {
   "cell_type": "markdown",
   "metadata": {
    "slideshow": {
     "slide_type": "slide"
    }
   },
   "source": [
    "## Visual Checks Can be Misleading"
   ]
  },
  {
   "cell_type": "code",
   "execution_count": 10,
   "metadata": {
    "slideshow": {
     "slide_type": "slide"
    }
   },
   "outputs": [
    {
     "data": {
      "image/png": "[encoded data removed]",
      "text/plain": [
       "<Figure size 1440x360 with 2 Axes>"
      ]
     },
     "metadata": {
      "needs_background": "light"
     },
     "output_type": "display_data"
    }
   ],
   "source": [
    "fig, ax = plt.subplots(1, 2, figsize=(20, 5))\n",
    "ax[0] = plot_samples(ax[0], target, samples, 'target distribution vs all samples, S={}, init={}'.format(S, init))\n",
    "ax[1] = plot_samples(ax[1], target, samples[200:], 'target distribution vs samples after {} burn-in, S={}, init={}'.format(burn_in, S, init))\n",
    "plt.show()"
   ]
  },
  {
   "cell_type": "markdown",
   "metadata": {
    "slideshow": {
     "slide_type": "slide"
    }
   },
   "source": [
    "## Tuning Your Sampler\n",
    "Our Metropolis-Hastings sampler was unable to capture both modes in the target distribution!\n",
    "\n",
    "Is this because this algorithm is incapable of sampling from this specific distribution of this class of ***multimodal distributions***? Or did we make inappropriate design choices when we specified our sampler?\n",
    "\n",
    "**Exercise:** play with the variance of the normal proposal distribution (try some very small values and some very large values), what is the effect of the variance have on the performance of your sampler? \n",
    "\n",
    "Play with the choice of initialization of the Metropolis-Hastings algorithm, what is the effect of the initialization on the performance of your sampler?\n",
    "\n",
    "**Question:** we've demonstrated that visualizing the traceplot may be a poor metric for evaluating MCMC performance. Is there a better way to check if our MCMC chain has mixed? In particular, how do we detect that there is still a high-likelihood region in the domain $\\Theta$ that the sampler has yet to visit?"
   ]
  },
  {
   "cell_type": "markdown",
   "metadata": {
    "slideshow": {
     "slide_type": "slide"
    }
   },
   "source": [
    "## A Similarity Measure for Distributions: Kullback–Leibler Divergence\n",
    "\n",
    "Visually comparing models to the ***empirical distribution*** of the data is impractical. Fortunately, there are a large number of quantitative measures for comparing two distributions, these are called ***divergence measures***. For example, the ***Kullback–Leibler (KL) Divergence*** is defined for two distributions $p(\\theta)$ and $q(\\theta)$ supported on $\\Theta$ as:\n",
    "\n",
    "$$\n",
    "D_{\\text{KL}}[q \\,\\|\\, p] = \\int_{\\Theta} \\log\\left[\\frac{q(\\theta)}{p(\\theta)} \\right] q(\\theta)d\\theta = \\mathbb{E}_{\\theta\\sim q(\\theta)}\\left[ \\frac{q(\\theta)}{p(\\theta)} \\right]\n",
    "$$\n",
    "\n",
    "The KL-divergence $D_{\\text{KL}}[q \\,\\|\\, p]$ is bounded below by 0, which happens if and only if $q=p$.\n",
    "The KL-divergence has information theoretic interpretations that we will explore later in the course.\n",
    "\n",
    "**Note:** The KL-divergence is defined in terms of the pdf's of $p$ and $q$. If $p$ is a distribution from which we only have samples and not the pdf (like the empirical distribution), we can nontheless estimate $D_{\\text{KL}}[q \\,\\|\\, p]$. Techniques that estimate the KL-divergence from samples are called ***non-parametric***. We will use them later in the course."
   ]
  },
  {
   "cell_type": "markdown",
   "metadata": {
    "slideshow": {
     "slide_type": "slide"
    }
   },
   "source": [
    "# Motivation for Latent Variable Models"
   ]
  },
  {
   "cell_type": "markdown",
   "metadata": {
    "slideshow": {
     "slide_type": "slide"
    }
   },
   "source": [
    "## A Model for Birth Weights\n",
    "Recall our model for birth weigths, $Y_1,\\ldots, Y_N$. We *posited* that the birth weights are iid normally distributed with known $\\sigma^2$, $Y_n \\sim \\mathcal{N}(\\mu, 1)$.\n",
    "\n",
    "Compare the maximum likelihood model and the Bayesian model for bith weight. Which model would you use to make clinical decisions? What's hard about this comparison?\n",
    "\n",
    "<img src=\"fig/compare.jpg\" style=\"height:300px;\">"
   ]
  },
  {
   "cell_type": "markdown",
   "metadata": {
    "slideshow": {
     "slide_type": "slide"
    }
   },
   "source": [
    "## Class Membership as a Latent Variable\n",
    "\n",
    "We observe that there are three ***clusters*** in the data. We posit that there are three ***classes*** of infants in the study: infants with low birth weights, infants with normal birth weights and those with high birth weights. The numbers of infants in the classes are not equal.\n",
    "\n",
    "For each observation $Y_n$, we model its class membership $Z_n$ as a categorical variable, \n",
    "\n",
    "$$Z_n\\sim Cat(\\pi),$$\n",
    "\n",
    "where $\\pi_i$ in $\\pi = [\\pi_1, \\pi_2, \\pi_3]$ is the class proportion. Note that we don't have the class membership $Z_n$ in the data! So $Z_n$ is called a ***latent variable***.\n",
    "\n",
    "Depending on the class, the $n$-th birth weight $Y_n$ will have a different normal distribution,\n",
    "\n",
    "$$\n",
    "Y_n | Z_n \\sim \\mathcal{N}\\left(\\mu_{Z_n}, \\sigma^2_{Z_n}\\right)\n",
    "$$\n",
    "\n",
    "where $\\mu_{Z_n}$ is one of the three class means $[\\mu_1, \\mu_2, \\mu_3]$ and $\\sigma^2_{Z_n}$ is one of the three class variances $[\\sigma^2_1, \\sigma^2_2, \\sigma^2_3]$."
   ]
  },
  {
   "cell_type": "markdown",
   "metadata": {
    "slideshow": {
     "slide_type": "slide"
    }
   },
   "source": [
    "# Common Latent Variable Models"
   ]
  },
  {
   "cell_type": "markdown",
   "metadata": {
    "slideshow": {
     "slide_type": "slide"
    }
   },
   "source": [
    "## Latent Variable Models\n",
    "\n",
    "Models that include an observed variable $Y$ and at least one unobserved variable $Z$ are called ***latent variable models***. In general, our model can allow $Y$ and $Z$ to interact in many different ways. Today, we will study models with one type of interaction:\n",
    "\n",
    "<img src=\"fig/graphical_model.jpg\" style=\"height:300px;\">"
   ]
  },
  {
   "cell_type": "markdown",
   "metadata": {
    "slideshow": {
     "slide_type": "skip"
    }
   },
   "source": [
    "## Gaussian Mixture Models (GMMs)\n",
    "\n",
    "In a ***Gaussian Mixture Model (GMM)***, we posit that the observed data $Y$ is generated by a mixture, $\\pi=[\\pi_1, \\ldots, \\pi_K]$, of $K$ number of Gaussians with means $\\mu = [\\mu_1, \\ldots, \\mu_K]$ and covariances $\\Sigma = [\\Sigma_1, \\ldots, \\Sigma_K]$. For each observation $Y_n$ the class of the observation $Z_n$ is a latent variable that indicates which of the $K$ Gaussian is responsible for generating $Y_n$:\n",
    "\n",
    "\\begin{aligned}\n",
    "Z_n &\\sim Cat(\\pi),\\\\\n",
    "Y_n | Z_n&\\sim \\mathcal{N}(\\mu_{Z_n}, \\Sigma_{Z_n}),\n",
    "\\end{aligned}\n",
    "where $n=1, \\ldots, N$ and $\\sum_{k=1}^K \\pi_k = 1$. \n",
    "\n",
    "GMMs are examples of ***model based clustering*** - breaking up a data set into natural clusters based on a statistical model fitted to the data."
   ]
  },
  {
   "cell_type": "markdown",
   "metadata": {
    "slideshow": {
     "slide_type": "slide"
    }
   },
   "source": [
    "## Item-Response Models\n",
    "\n",
    "In ***item-response models***, we measure an real-valued unobserved trait $Z$ of a subject by performing a series of experiments with binary observable outcomes, $Y$:\n",
    "\n",
    "\\begin{aligned}\n",
    "Z_n &\\sim \\mathcal{N}(\\mu, \\sigma^2),\\\\\n",
    "\\theta_n &= g(Z_n)\\\\\n",
    "Y_n|Z_n &\\sim Ber(\\theta_n),\n",
    "\\end{aligned}\n",
    "\n",
    "where $n=1, \\ldots, N$ and $g$ is some fixed function of $Z_n$.\n",
    "\n",
    "#### Applications\n",
    "Item response models are used to model the way \"underlying intelligence\" $Z$ relates to scores $Y$ on IQ tests. \n",
    "\n",
    "Item response models can also be used to model the way \"suicidality\" $Z$ relates to answers on mental health surveys. Building a good model may help to infer when a patient is at psychiatric risk based on in-take surveys at points of care through out the health-care system."
   ]
  },
  {
   "cell_type": "markdown",
   "metadata": {
    "slideshow": {
     "slide_type": "slide"
    }
   },
   "source": [
    "## Factor Analysis Models\n",
    "\n",
    "In ***factor analysis models***, we posit that the observed data $Y$ with many measurements is generated by a small set of unobserved factors $Z$:\n",
    "\n",
    "\\begin{aligned}\n",
    "Z_n &\\sim \\mathcal{N}(0, I),\\\\\n",
    "Y_n|Z_n &\\sim \\mathcal{N}(\\mu + \\Lambda Z_n, \\Phi),\n",
    "\\end{aligned}\n",
    "\n",
    "where $n=1, \\ldots, N$, $Z_n\\in \\mathbb{R}^{D'}$ and $Y_n\\in \\mathbb{R}^{D}$. We typically assume that $D'$ is much smaller than $D$.\n",
    "\n",
    "#### Applications\n",
    "Factor analysis models are useful for biomedical data, where we typically measure a large number of characteristics of a patient (e.g. blood pressure, heart rate, etc), but these characteristics are all generated by a small list of health factors (e.g. diabetes, cancer, hypertension etc). Building a good model means we may be able to infer the list of health factors of a patient from their observed measurements."
   ]
  },
  {
   "cell_type": "markdown",
   "metadata": {
    "slideshow": {
     "slide_type": "slide"
    }
   },
   "source": [
    "# Maximum Likelihood Estimation for Latent Variable Models: Expectation Maximization"
   ]
  },
  {
   "cell_type": "markdown",
   "metadata": {
    "slideshow": {
     "slide_type": "skip"
    }
   },
   "source": [
    "## Expectation Maximization: Estimating the MLE for Latent Variable Models\n",
    "\n",
    "Given a latent variable model $p(Y, Z| \\phi, \\theta) = p(Y | Z, \\phi) p(Z|\\theta)$, we are interested computing the MLE of parameters $\\phi$ and $\\theta$:\n",
    "\n",
    "\\begin{aligned}\n",
    "\\theta_{\\text{MLE}}, \\phi_{\\text{MLE}} &= \\underset{\\theta, \\phi}{\\mathrm{argmax}}\\; \\ell(\\theta, \\phi)\\\\\n",
    "&= \\underset{\\theta, \\phi}{\\mathrm{argmax}}\\; \\log  \\int_{\\Omega_Z} \\prod_{n=1}^N p(y_n, z_n | \\theta, \\phi) dz\\\\\n",
    "&= \\underset{\\theta, \\phi}{\\mathrm{argmax}}\\; \\log  \\int_{\\Omega_Z} \\prod_{n=1}^N p(y_n| z_n, \\phi)p(z_n| \\theta) dz\n",
    "\\end{aligned}\n",
    "where $\\Omega_Z$ is the domain of $Z$.\n",
    "Why is this an hard optimization problem?\n",
    "\n",
    "There are two major problems: \n",
    "1. the product in the integrand\n",
    "2. gradients cannot be past the integral (i.e. we cannot easily compute the gradient to solve the optimization problem). \n",
    "\n",
    "We solve these two problems by: \n",
    "1. pushing the log past the integral so that it can be applied to the integrand (Jensen's Inequality)\n",
    "2. introducing an auxiliary variables $q(Z_n)$ to allow the gradient to be pushed past the integral.\n",
    "\n",
    "\\begin{aligned}\n",
    "\\underset{\\theta, \\phi}{\\mathrm{max}}\\; \\ell(\\theta, \\phi) &= \\underset{\\theta, \\phi, q}{\\mathrm{max}}\\; \\log \\int_{\\Omega_Z}\\prod_{n=1}^N \\left(\\frac{p(y_n, z_n|\\theta, \\phi)}{q(z_n)}q(z_n)\\right) dz\\\\\n",
    "&= \\underset{\\theta, \\phi}{\\mathrm{max}}\\; \\log\\,\\mathbb{E}_{Z\\sim q(Z)} \\left[ \\prod_{n=1}^N \\frac{p(y_n, Z|\\theta, \\phi)}{q(Z)}\\right]\\\\\n",
    "&= \\underset{\\theta, \\phi, q}{\\mathrm{max}}\\; \\mathbb{E}_{Z\\sim q(Z)} \\left[ \\log\\,\\left(\\prod_{n=1}^N \\frac{p(y_n, Z|\\theta, \\phi)}{q(Z)}\\right)\\right]\\\\\n",
    "&\\geq \\underset{\\theta, \\phi, q}{\\mathrm{max}}\\; \\underbrace{\\sum_{n=1}^N\\mathbb{E}_{Z_n\\sim q(Z)} \\left[  \\log\\,\\left(\\frac{p(y_n, Z_n|\\theta, \\phi)}{q(Z_n)}\\right)\\right]}_{ELBO(\\theta, \\phi)}, \\quad (\\text{Jensen's Inequality})\\\\\n",
    "\\end{aligned}\n",
    "\n",
    "We call $\\sum_{n=1}^N\\mathbb{E}_{Z_n\\sim q(Z)} \\left[ \\log\\,\\left(\\frac{p(y_n, Z_n|\\theta, \\phi)}{q(Z)}\\right)\\right]$ the Evidence Lower Bound (ELBO). Note that maximizing the ELBO will yield a lower bound of the maximum value of the log likelihood. Although **the optimal point of the ELBO may not be the optimal point of the log likelihood**, we nontheless prefer to optimize the ELBO because the gradients, with respect to $\\theta, \\phi$, of the ELBO are easier to compute:\n",
    "\n",
    "$$\n",
    "\\nabla_{\\theta, \\phi} ELBO(\\theta, \\phi) = \\nabla_{\\theta, \\phi}\\left[ \\sum_{n=1}^N\\mathbb{E}_{Z_n\\sim q(Z)} \\left[  \\log\\,\\left(\\frac{p(y_n, Z_n|\\theta, \\phi)}{q(Z_n)}\\right)\\right]\\right] =  \\sum_{n=1}^N\\mathbb{E}_{Z_n\\sim q(Z)} \\left[  \\nabla_{\\theta, \\phi} \\left( \\log\\,\\left(\\frac{p(y_n, Z_n|\\theta, \\phi)}{q(Z_n)}\\right)\\right)\\right]\n",
    "$$\n",
    "\n",
    "Note that we can push the gradient $\\nabla_{\\theta, \\phi}$ past the expectation $\\mathbb{E}_{Z_n\\sim q(Z)}$ since the expectation is not computed with respect to our optimization variables!\n",
    "\n",
    "Rather than optimizing the ELBO over all variables $\\theta, \\phi, q$ (this would be hard), we optimize one set of variables at a time:\n",
    "\n",
    "#### Step I: the M-step\n",
    "Optimize the ELBO with respect to $\\theta, \\phi$:\n",
    "\n",
    "\\begin{aligned}\n",
    "\\theta^*, \\phi^* = \\underset{\\theta, \\phi}{\\mathrm{max}}\\; ELBO(\\theta, \\phi, q) &= \\underset{\\theta, \\phi}{\\mathrm{max}}\\; \\sum_{n=1}^N\\mathbb{E}_{Z_n\\sim q(Z)} \\left[  \\log\\,\\left(\\frac{p(y_n, Z_n|\\theta, \\phi)}{q(Z_n)}\\right)\\right]\\\\\n",
    "&= \\underset{\\theta, \\phi}{\\mathrm{max}}\\;  \\sum_{n=1}^N \\int_{\\Omega_Z} \\log\\,\\left(\\frac{p(y_n, z_n|\\theta, \\phi)}{q(z_n)}\\right)q(z_n) dz_n\\\\\n",
    "&= \\underset{\\theta, \\phi}{\\mathrm{max}}\\; \\sum_{n=1}^N \\int_{\\Omega_Z} \\log\\,\\left(p(y_n, z_n|\\theta, \\phi)\\right) q(z_n)dz_n - \\underbrace{\\int_{\\Omega_Z} \\log \\left(q(z_n)\\right)q(z_n) dz_n}_{\\text{constant with respect to }\\theta, \\phi}\\\\\n",
    "&\\equiv \\underset{\\theta, \\phi}{\\mathrm{max}}\\;\\sum_{n=1}^N \\int_{\\Omega_Z} \\log\\,\\left(p(y_n, z_n|\\theta, \\phi)\\right) q(z_n)dz_n\\\\\n",
    "&= \\underset{\\theta, \\phi}{\\mathrm{max}}\\;\\sum_{n=1}^N \\mathbb{E}_{Z_n\\sim q(Z)} \\left[ \\log\\left(p(y_n, z_n|\\theta, \\phi)\\right)\\right]\n",
    "\\end{aligned}\n",
    "\n",
    "#### Step II: the E-step\n",
    "Optimize the ELBO with respect to $q$:\n",
    "\n",
    "\\begin{aligned}\n",
    "q^*(Z_n) = \\underset{q}{\\mathrm{argmax}}\\;\\left(\\underset{\\theta, \\phi}{\\mathrm{argmax}}\\; ELBO(\\theta, \\phi, q) \\right) = \\underset{q}{\\mathrm{argmax}}\\; ELBO(\\theta^*, \\phi^*, q)\n",
    "\\end{aligned}\n",
    "\n",
    "Rather than optimizing the ELBO with respect to $q$, which seems hard, we will argue that optimizing the ELBO is equivalent to optimizing another function of $q$, one whose optimum is easy for us to compute.\n",
    "\n",
    "**Note:** We can recognize the difference between the log likelihood and the ELBO as a function we've seen:\n",
    "\n",
    "\\begin{aligned}\n",
    "\\ell(\\theta, \\phi) - ELBO(\\theta, \\phi, q) &= \\sum_{n=1}^N \\log p(y_n| \\theta, \\phi) - \\sum_{n=1}^N \\int_{\\Omega_Z} \\log\\left(\\frac{p(y_n, z_n|\\theta, \\phi)}{q(z_n)}\\right)q(z_n) dz_n\\\\\n",
    "&=  \\sum_{n=1}^N \\int_{\\Omega_Z} \\log\\left(p(y_n| \\theta, \\phi)\\right) q(z_n) dz_n - \\sum_{n=1}^N \\int_{\\Omega_Z} \\log\\left(\\frac{p(y_n, z_n|\\theta, \\phi)}{q(z_n)}\\right)q(z_n) dz_n\\\\\n",
    "&=  \\sum_{n=1}^N \\int_{\\Omega_Z}  \\left(\\log\\left(p(y_n| \\theta, \\phi)\\right) - \\log\\left(\\frac{p(y_n, z_n|\\theta, \\phi)}{q(z_n)}\\right) \\right)q(z_n) dz_n\\\\\n",
    "&= \\sum_{n=1}^N \\int_{\\Omega_Z}  \\log\\left(\\frac{p(y_n| \\theta, \\phi)q(z_n)}{p(y_n, z_n|\\theta, \\phi)} \\right)q(z_n) dz_n\\\\\n",
    "&= \\sum_{n=1}^N \\int_{\\Omega_Z}  \\log\\left(\\frac{q(z_n)}{p(z_n| y_n, \\theta, \\phi)} \\right)q(z_n) dz_n, \\quad\\left(\\text{Baye's Rule: } \\frac{p(y_n, z_n|\\theta, \\phi)}{p(y_n| \\theta, \\phi)} = p(z_n| y_n, \\theta, \\phi)\\right)\\\\\n",
    "&= \\sum_{n=1}^N D_{\\text{KL}} \\left[ q(Z_n) \\| p(Z_n| Y_n, \\theta, \\phi)\\right].\n",
    "\\end{aligned}\n",
    "\n",
    "Since $\\ell(\\theta, \\phi)$ is a constant, the difference $\\sum_{n=1}^N D_{\\text{KL}} \\left[ q(Z_n) \\| p(Z_n| Y_n, \\theta, \\phi)\\right] = \\ell(\\theta, \\phi) - ELBO(\\theta, \\phi, q)$ descreases when $ELBO(\\theta, \\phi, q)$ increases (and vice versa). Thus, maximizing the ELBO is equivalent to minimizing $D_{\\text{KL}} \\left[ q(Z_n) \\| p(Y_n| Z_n, \\theta, \\phi)\\right]$:\n",
    "\n",
    "$$\n",
    "\\underset{q}{\\mathrm{argmax}}\\, ELBO(\\theta, \\phi, q) = \\underset{q}{\\mathrm{argmin}}\\sum_{n=1}^N D_{\\text{KL}} \\left[ q(Z_n) \\| p(Z_n| Y_n, \\theta, \\phi)\\right].\n",
    "$$\n",
    "\n",
    "Thus, we see that \n",
    "\\begin{aligned}\n",
    "q^*(Z_n) = \\underset{q}{\\mathrm{argmax}}\\; ELBO(\\theta^*, \\phi^*, q) = \\underset{q}{\\mathrm{argmin}}\\sum_{n=1}^N D_{\\text{KL}} \\left[ q(Z_n) \\| p(Z_n| Y_n, \\theta, \\phi)\\right] = p(Z_n| Y_n, \\theta, \\phi)\n",
    "\\end{aligned}\n",
    "\n",
    "That is, we should set the optimal distribution $q$ to be the posterior $p(Z_n| Y_n, \\theta, \\phi)$.\n",
    "\n",
    "#### Iteration\n",
    "Of course, we know that optimizing a function with respect to each variable is not sufficient for finding the global optimum over all the variables, considered together! Thus, performing one E-step and one M-step is not enough to maximize the ELBO. We need to repeat the two steps over and over."
   ]
  },
  {
   "cell_type": "markdown",
   "metadata": {
    "slideshow": {
     "slide_type": "slide"
    }
   },
   "source": [
    "## The Expectation Maximization Algorithm\n",
    "\n",
    "The ***exepectation maximization (EM) algorithm*** maximize the ELBO of the model,\n",
    "<img src=\"fig/graphical_model.jpg\" style=\"height:150px;\">\n",
    "0. **Initialization:** Pick $\\theta_0$, $\\phi_0$.\n",
    "1. Repeat $i=1, \\ldots, I$ times:\n",
    "\n",
    "  **E-Step:** \n",
    "$$q_{\\text{new}}(Z_n) = \\underset{q}{\\mathrm{argmax}}\\; ELBO(\\theta_{\\text{old}}, \\phi_{\\text{old}}, q) = p(Z_n|Y_n, \\theta_{\\text{old}}, \\phi_{\\text{old}})$$\n",
    "\n",
    "  **M-Step:** \n",
    "  \\begin{aligned}\n",
    "  \\theta_{\\text{new}}, \\phi_{\\text{new}} &= \\underset{\\theta, \\phi}{\\mathrm{argmax}}\\; ELBO(\\theta, \\phi, q_{\\text{new}})\\\\\n",
    "  &= \\underset{\\theta, \\phi}{\\mathrm{argmax}}\\; \\sum_{n=1}^N\\mathbb{E}_{Z_n\\sim p(Z_n|Y_n, \\theta_{\\text{old}}, \\phi_{\\text{old}})}\\left[\\log \\left( p(y_n, Z_n | \\phi, \\theta\\right) \\right].\n",
    "\\end{aligned}"
   ]
  },
  {
   "cell_type": "markdown",
   "metadata": {
    "slideshow": {
     "slide_type": "skip"
    }
   },
   "source": [
    "## The Auxiliary Function\n",
    "\n",
    "We often denote the expectation in the M-step by $Q\\left(\\theta, \\phi| \\theta^{\\text{old}}, \\phi^{\\text{old}}\\right)$\n",
    "$$\n",
    "Q\\left(\\theta, \\phi| \\theta^{\\text{old}}, \\phi^{\\text{old}}\\right) = \\sum_{n=1}^N\\mathbb{E}_{Z_n\\sim p(Z_n|Y_n, \\theta_{\\text{old}}, \\phi_{\\text{old}})}\\left[\\log \\left( p(y_n, Z_n | \\phi, \\theta\\right) \\right]\n",
    "$$\n",
    "and call $Q$ the auxiliary function. \n",
    "\n",
    "Frequently, the EM algorithm is equivalently presented as\n",
    "- E-step: compute the auxiliary function: $Q\\left(\\theta, \\phi| \\theta^{\\text{old}}, \\phi^{\\text{old}}\\right)$\n",
    "- M-step: maximize the auxiliary function: $\\theta^{\\text{new}}, \\phi^{\\text{new}} = \\underset{\\theta, \\phi}{\\mathrm{argmax}}\\,Q\\left(\\theta, \\phi| \\theta^{\\text{old}}, \\phi^{\\text{old}}\\right)$.\n",
    "\n",
    "The log of the joint distribution $\\prod_{n=1}^N p(Z_n, Y_n, \\theta, \\phi)$ is called the ***complete data log-likelihood*** (since it is the likelihood of both observed and latent variables), whereas $\\log \\prod_{n=1}^N p(Y_n| \\theta, \\phi)$ is called the ***observed data log-likelihood*** (since it is the likelihood of only the observed variable).\n",
    "\n",
    "The auxiliary function presentation of EM is easy to interpret:\n",
    "- In the E-step, you fill in the latent variables in the complete data log-likelihood using \"average\" values, this leaves just an estimate of the observed log-likelihood.\n",
    "- In the M-step, you find parameters $\\phi$ and $\\theta$ that maximizes your estimate of the observed log-likelihood.\n",
    "\n",
    "We chose to derive EM via the ELBO in this lecture because it makes an explicit connection between the EM algorithm for estimating MLE and variational inference method for approximating the posterior of Bayesian models. It is, however, worthwhile to derive EM using the auxiliary function $Q$, as $Q$ makes it convient for us to prove properties of the EM algorithm."
   ]
  },
  {
   "cell_type": "markdown",
   "metadata": {
    "slideshow": {
     "slide_type": "skip"
    }
   },
   "source": [
    "## Monotonicity and Convergence of EM\n",
    "\n",
    "Before we run off estimating MLE parameters of latent variable models with EM, we need to sanity check two points:\n",
    "\n",
    "1. **(Monotonicity)** we need to know that repeating the E, M-steps will never decrease the ELBO!\n",
    "2. **(Convergence)** we need to know that at some point the EM algorithm will naturally terminate (the algorithm will cease to update the parameters).\n",
    "\n",
    "We first prove the monotonicity of EM. Consider the difference between $\\ell(\\theta, \\phi) - \\ell(\\theta^{\\text{old}}, \\phi^{\\text{old}})$, i.e. the amount by which the log-likelihood can increase or decrease by going from $\\theta^{\\text{old}}, \\phi^{\\text{old}}$ to $\\theta, \\phi$:\n",
    "\n",
    "\\begin{aligned}\n",
    "\\ell(\\theta, \\phi) - \\ell(\\theta^{\\text{old}}, \\phi^{\\text{old}}) &= \\sum_{n=1}^N\\log \\left[ \\frac{p(y_n|\\theta, \\phi)}{p(y_n| \\theta^{\\text{old}}, \\phi^{\\text{old}})}\\right]\\\\\n",
    "&= \\sum_{n=1}^N \\log\\int \\frac{p(y_n, z_n|\\theta, \\phi)}{p(y_n| \\theta^{\\text{old}}, \\phi^{\\text{old}})} dz_n\\\\\n",
    "&= \\sum_{n=1}^N \\log\\int \\frac{p(y_n, z_n|\\theta, \\phi)}{p(y_n| \\theta^{\\text{old}}, \\phi^{\\text{old}}) p(z_n|y_n, \\theta^{\\text{old}}, \\phi^{\\text{old}})}p(z_n|y_n, \\theta^{\\text{old}}, \\phi^{\\text{old}}) dz_n\\\\\n",
    "&= \\sum_{n=1}^N \\log\\int \\frac{p(y_n, z_n|\\theta, \\phi)}{p(y_n, z_n| \\theta^{\\text{old}}, \\phi^{\\text{old}})}p(z_n|y_n, \\theta^{\\text{old}}, \\phi^{\\text{old}}) dz_n\\\\\n",
    "&= \\sum_{n=1}^N \\log \\mathbb{E}_{p(z_n|y_n, \\theta^{\\text{old}}, \\phi^{\\text{old}})} \\left[\\frac{p(y_n, z_n|\\theta, \\phi)}{p(y_n, z_n| \\theta^{\\text{old}}, \\phi^{\\text{old}})}\\right]\\\\\n",
    "&\\geq \\sum_{n=1}^N  \\mathbb{E}_{p(z_n|y_n, \\theta^{\\text{old}}, \\phi^{\\text{old}})} \\log\\left[\\frac{p(y_n, z_n|\\theta, \\phi)}{p(y_n, z_n| \\theta^{\\text{old}}, \\phi^{\\text{old}})}\\right]\\\\\n",
    "&= \\sum_{n=1}^N  \\mathbb{E}_{p(z_n|y_n, \\theta^{\\text{old}}, \\phi^{\\text{old}})} \\left[\\log  p(y_n, z_n|\\theta, \\phi) - \\log p(y_n, z_n| \\theta^{\\text{old}}, \\phi^{\\text{old}})\\right]\\\\\n",
    "&= \\sum_{n=1}^N  \\mathbb{E}_{p(z_n|y_n, \\theta^{\\text{old}}, \\phi^{\\text{old}})} \\left[\\log  p(y_n, z_n|\\theta, \\phi)\\right] - \\sum_{n=1}^N  \\mathbb{E}_{p(z_n|y_n, \\theta^{\\text{old}}, \\phi^{\\text{old}})}\\left[ \\log  p(y_n, z_n| \\theta^{\\text{old}}, \\phi^{\\text{old}})\\right]\\\\\n",
    "&= Q\\left(\\theta, \\phi| \\theta^{\\text{old}}, \\phi^{\\text{old}}\\right) - Q\\left(\\theta^{\\text{old}}, \\phi^{\\text{old}}| \\theta^{\\text{old}}, \\phi^{\\text{old}}\\right)\n",
    "\\end{aligned}\n",
    "\n",
    "Thus, when we maximize the gain in log-likelihood going from $\\theta^{\\text{old}}, \\phi^{\\text{old}}$ to $\\theta, \\phi$, we get:\n",
    "\n",
    "\\begin{aligned}\n",
    "\\underset{\\theta, \\phi}{\\max} \\left[\\ell(\\theta, \\phi) - \\ell(\\theta^{\\text{old}}, \\phi^{\\text{old}})\\right] \\geq \\underset{\\theta, \\phi}{\\max} \\left[Q\\left(\\theta, \\phi| \\theta^{\\text{old}}, \\phi^{\\text{old}}\\right) - Q\\left(\\theta^{\\text{old}}, \\phi^{\\text{old}}| \\theta^{\\text{old}}, \\phi^{\\text{old}}\\right)\\right]\n",
    "\\end{aligned}\n",
    "\n",
    "or equivalently,\n",
    "\n",
    "\\begin{aligned}\n",
    "\\underset{\\theta, \\phi}{\\max} \\left[\\ell(\\theta, \\phi)\\right] - \\ell(\\theta^{\\text{old}}, \\phi^{\\text{old}}) \\geq \\underset{\\theta, \\phi}{\\max} \\left[Q\\left(\\theta, \\phi| \\theta^{\\text{old}}, \\phi^{\\text{old}}\\right)\\right] - Q\\left(\\theta^{\\text{old}}, \\phi^{\\text{old}}| \\theta^{\\text{old}}, \\phi^{\\text{old}}\\right).\n",
    "\\end{aligned}\n",
    "\n",
    "Note that the above max is always greater than or equal to zero: \n",
    "\n",
    "$$\\underset{\\theta, \\phi}{\\max} \\left[Q\\left(\\theta, \\phi| \\theta^{\\text{old}}, \\phi^{\\text{old}}\\right)\\right] - Q\\left(\\theta^{\\text{old}}, \\phi^{\\text{old}}| \\theta^{\\text{old}}, \\phi^{\\text{old}}\\right) \\geq 0$$ \n",
    "\n",
    "since we can always maintain the status quo by choosing $theta = \\theta^{\\text{old}}$ $\\phi = \\phi^{\\text{old}}$:\n",
    "\n",
    "$$ Q\\left(\\theta^{\\text{old}}, \\phi^{\\text{old}}| \\theta^{\\text{old}}, \\phi^{\\text{old}}\\right) - Q\\left(\\theta^{\\text{old}}, \\phi^{\\text{old}}| \\theta^{\\text{old}}, \\phi^{\\text{old}}\\right) = 0.$$\n",
    "\n",
    "Thus, we have that by maximizing $Q\\left(\\theta, \\phi| \\theta^{\\text{old}}, \\phi^{\\text{old}}\\right)$, we ensure that $\\ell(\\theta, \\phi) - \\ell(\\theta^{\\text{old}}, \\phi^{\\text{old}})\\geq 0$ in each iteration of EM.\n",
    "\n",
    "\n",
    "If the likelihood of the model is bounded above (i.e. $\\ell(\\theta, \\phi) \\leq M$ for some constant $M$), then EM is guaranteed to convergence. This is because we've proved that EM increases (or maintains) log-likelihood in each iteration, therefore, if $\\ell(\\theta, \\phi)$ is bounded, the process must converge. \n",
    "\n",
    "\n",
    "#### Disclaimer:\n",
    "Although EM converges for bounded likelihoods, it is not guaranteed to converge to the global max of the log-likelihood! Maximizing a lower bound of a function does not necessarily maximize the function itself! Often time, EM converges to local optima of the likelihood function and the point to which it converges may be very sensitive to initialization. We will study this kind of behaviour in more detail when we cover non-convex optimization later in the course.\n",
    "\n",
    "<img src=\"fig/EM.jpg\" style=\"height:350px;\">"
   ]
  },
  {
   "cell_type": "markdown",
   "metadata": {
    "slideshow": {
     "slide_type": "slide"
    }
   },
   "source": [
    "## Example: EM for the Gaussian Mixture Model of Birth Weight\n",
    "The Gaussian mixture model for the birth weight data has 3 Gaussians with meand $\\mu = [\\mu_1, \\mu_2, \\mu_3]$ and variances $\\sigma^2 = [\\sigma_1^2, \\sigma_2^2, \\sigma_3^2]$, and the model is defined as:\n",
    "\\begin{aligned}\n",
    "Z_n &\\sim Cat(\\pi),\\\\\n",
    "Y_n &\\sim \\mathcal{N}(\\mu_{Z_n}, \\sigma^2_{Z_n}),\n",
    "\\end{aligned}\n",
    "where $n=1, \\ldots, N$ and $\\sum_{k=1}^3 \\pi_k = 1$. \n",
    "\n",
    "### The E-Step\n",
    "\n",
    "The E-step in EM computes the distribution:\n",
    "$$q_{\\text{new}}(Z_n) = \\underset{q}{\\mathrm{argmax}}\\; ELBO(\\mu_{i-1}, \\sigma^2_{i-1}, \\pi_{i_1}, q) = p(Z_n|Y_n, \\mu_{\\text{old}}, \\sigma^2_{\\text{old}}, \\pi_{\\text{old}}).$$ \n",
    "Since $Z_n$ is a label, $p(Z_n|Y_n, \\ldots)$ is a categorical distribution, with the probability of $Z_n=k$ given by:\n",
    "\n",
    "<img src=\"fig/E_eq1.jpg\" style=\"height:90px;\">\n",
    "\n",
    "where $\\mathcal{Z} = \\sum_{k=1}^K \\pi_{k, \\text{old}}\\,\\mathcal{N}(y_n; \\mu_{k, \\text{old}}, \\sigma^2_{k, \\text{old}})$."
   ]
  },
  {
   "cell_type": "markdown",
   "metadata": {
    "slideshow": {
     "slide_type": "slide"
    }
   },
   "source": [
    "## Example: EM for the Gaussian Mixture Model of Birth Weight\n",
    "### Setting Up the M-Step\n",
    "\n",
    "The M-step in EM maximize the following: \n",
    "<img src=\"fig/M_eq1.jpg\" style=\"height:90px;\">\n",
    "\n",
    "If we expand the expectation a little, we get:\n",
    "<img src=\"fig/M_eq2.jpg\" style=\"height:300px;\">\n",
    "We can maximize each Term #1 and Term #2 individually."
   ]
  },
  {
   "cell_type": "markdown",
   "metadata": {
    "slideshow": {
     "slide_type": "skip"
    }
   },
   "source": [
    "## Example: EM for the Gaussian Mixture Model of Birth Weight\n",
    "The Gaussian mixture model for the birth weight data has 3 Gaussians with meand $\\mu = [\\mu_1, \\mu_2, \\mu_3]$ and variances $\\sigma^2 = [\\sigma_1^2, \\sigma_2^2, \\sigma_3^2]$, and the model is defined as:\n",
    "\\begin{aligned}\n",
    "Z_n &\\sim Cat(\\pi),\\\\\n",
    "Y_n &\\sim \\mathcal{N}(\\mu_{Z_n}, \\sigma^2_{Z_n}),\n",
    "\\end{aligned}\n",
    "where $n=1, \\ldots, N$ and $\\sum_{k=1}^3 \\pi_k = 1$. \n",
    "\n",
    "### The E-Step\n",
    "\n",
    "The E-step in EM computes the distribution:\n",
    "$$q_{\\text{new}}(Z_n) = \\underset{q}{\\mathrm{argmax}}\\; ELBO(\\mu_{i-1}, \\sigma^2_{i-1}, \\pi_{i_1}, q) = p(Z_n|Y_n, \\mu_{\\text{old}}, \\sigma^2_{\\text{old}}, \\pi_{\\text{old}}).$$ \n",
    "Since $Z_n$ is a label, $p(Z_n|Y_n, \\ldots)$ is a categorical distribution, with the probability of $Z_n=k$ given by:\n",
    "\n",
    "$$\n",
    "p(Z_n = k|Y_n, \\mu_{\\text{old}}, \\sigma^2_{\\text{old}}, \\pi_{\\text{old}}) = \\frac{p(y_n|Z_n = k, \\mu_{\\text{old}}, \\sigma^2_{\\text{old}})p(Z_n=k | \\pi_{\\text{old}})}{\\sum_{k=1}^K p(y|Z_n = k, \\mu_{\\text{old}}, \\sigma^2_{\\text{old}})p(Z_n=k | \\pi_{\\text{old}})} = \\underbrace{\\frac{\\pi_{k, \\text{old}}\\,\\mathcal{N}(y_n; \\mu_{k, \\text{old}}, \\sigma^2_{k, \\text{old}})}{\\mathcal{Z}}}_{r_{n, k}},\n",
    "$$\n",
    "where $\\mathcal{Z} = \\sum_{k=1}^K \\pi_{k, \\text{old}}\\,\\mathcal{N}(y_n; \\mu_{k, \\text{old}}, \\sigma^2_{k, \\text{old}})$."
   ]
  },
  {
   "cell_type": "markdown",
   "metadata": {
    "slideshow": {
     "slide_type": "skip"
    }
   },
   "source": [
    "## Example: EM for the Gaussian Mixture Model of Birth Weight\n",
    "### Setting Up the M-Step\n",
    "\n",
    "The M-step in EM maximize the following: \n",
    "$$\\underset{\\mu, \\sigma^2, \\pi}{\\mathrm{argmax}}\\; ELBO(\\mu, \\sigma^2, \\pi, q_{\\text{new}}) = \\underset{\\mu, \\sigma^2, \\pi}{\\mathrm{argmax}}\\; \\sum_{n=1}^N\\mathbb{E}_{Z_n\\sim p(Z_n|Y_n, \\mu_{k, \\text{old}}, \\sigma^2_{k, \\text{old}})}\\left[\\log \\left( p(y_n, Z_n | \\mu, \\sigma^2, \\pi\\right) \\right].$$\n",
    "\n",
    "If we expand the expectation a little, we get:\n",
    "\\begin{aligned}\n",
    "\\sum_{n=1}^N\\mathbb{E}_{Z_n\\sim p(Z_n|Y_n, \\mu_{\\text{old}}, \\sigma^2_{\\text{old}}, \\pi_{\\text{old}})}\\left[\\log \\left(p(y_n, Z_n | \\mu, \\sigma^2, \\pi) \\right) \\right] &= \\sum_{n=1}^N \\underbrace{\\sum_{n=1}^K \\log \\left(\\underbrace{ p(y_n| Z_n=k, \\mu, \\sigma^2) p(Z_n=k| \\pi)}_{\\text{factoring the joint }p(y_n, Z_n| \\ldots) } \\right) p(Z_n=k|y_n, \\theta_{\\text{old}}, \\phi_{\\text{old}})}_{\\text{expanding the expectation}}\\\\\n",
    "&=\\sum_{n=1}^N \\sum_{k=1}^K \\underbrace{r_{n, k}}_{p(Z_n=k|y_n, \\theta_{\\text{old}}, \\phi_{\\text{old}})} \\left[\\log \\underbrace{\\mathcal{N}(y_n; \\mu_k, \\sigma^2_k)}_{p(y_n| Z_n=k, \\mu, \\sigma^2)}  + \\log \\underbrace{\\pi_k}_{p(Z_n=k| \\pi)}\\right]\\\\\n",
    "&= \\underbrace{\\sum_{n=1}^N \\sum_{k=1}^K r_{n, k} \\log \\mathcal{N}(y_n; \\mu_k, \\sigma^2_k)}_{\\text{Term #1}} + \\underbrace{\\sum_{n=1}^N \\sum_{k=1}^K r_{n, k}\\pi_k}_{\\text{Term #2}} \n",
    "\\end{aligned}\n",
    "We can maximize each Term #1 and Term #2 individually."
   ]
  },
  {
   "cell_type": "markdown",
   "metadata": {
    "slideshow": {
     "slide_type": "slide"
    }
   },
   "source": [
    "## Example: EM for the Gaussian Mixture Model of Birth Weight\n",
    "### Solving the M-Step\n",
    "\n",
    "We see that the optimization problem in the M-step: $\\mu_{\\text{new}}, \\sigma^2_{\\text{new}}, \\pi_{\\text{new}} = \\underset{\\mu, \\sigma^2, \\pi}{\\mathrm{argmax}}\\; ELBO(\\mu, \\sigma^2, \\pi, q_{\\text{new}})$ is equivalent to two problems\n",
    "\\begin{aligned}\n",
    "&1.\\quad \\underset{\\mu, \\sigma^2}{\\mathrm{argmax}}\\; \\sum_{n=1}^N \\sum_{k=1}^K r_{n, k} \\log \\mathcal{N}(y_n; \\mu_k, \\sigma^2_k)\\\\\n",
    "&2.\\quad \\underset{\\pi}{\\mathrm{argmax}}\\; \\sum_{n=1}^N \\sum_{k=1}^K r_{n, k}\\pi_k\n",
    "\\end{aligned}\n",
    "We can solve each optimization problem analytically by finding stationary points of the gradient (or the Lagrangian):\n",
    "- $\\mu_{\\text{new}} = \\frac{1}{ \\sum_{n=1}^N r_{n, k}} \\sum_{n=1}^N r_{n, k} y_n$\n",
    "\n",
    "- $\\sigma^2_{\\text{new}} = \\frac{1}{ \\sum_{n=1}^N r_{n, k}} \\sum_{n=1}^N r_{n, k} (y_n - \\mu_{\\text{new}})^2$\n",
    "\n",
    "- $\\pi_{\\text{new}} =  \\frac{\\sum_{n=1}^N r_{n, k}}{N}$"
   ]
  },
  {
   "cell_type": "markdown",
   "metadata": {
    "slideshow": {
     "slide_type": "slide"
    }
   },
   "source": [
    "## Example: EM for the Gaussian Mixture Model of Birth Weight\n",
    "### All Together\n",
    "\n",
    "**Initialization:**\n",
    "Pick any $\\pi$, $\\mu$, $\\sigma^2$\n",
    "\n",
    "**E-Step:**\n",
    "Compute $r_{n, k} = \\displaystyle\\frac{\\pi_{k, \\text{old}}\\,\\mathcal{N}(y_n; \\mu_{k, \\text{old}}, \\sigma^2_{k, \\text{old}})}{\\mathcal{Z}}$, where $\\mathcal{Z} = \\sum_{k=1}^K \\pi_{k, \\text{old}}\\,\\mathcal{N}(y_n; \\mu_{k, \\text{old}}, \\sigma^2_{k, \\text{old}})$.\n",
    "\n",
    "**M-Step:**\n",
    "Compute model parameters:\n",
    "- $\\mu_{\\text{new}} = \\frac{1}{ \\sum_{n=1}^N r_{n, k}} \\sum_{n=1}^N r_{n, k} y_n$\n",
    "\n",
    "- $\\sigma^2_{\\text{new}} = \\frac{1}{ \\sum_{n=1}^N r_{n, k}} \\sum_{n=1}^N r_{n, k} (y_n - \\mu_{\\text{new}})^2$\n",
    "\n",
    "- $\\pi_{\\text{new}} =  \\frac{\\sum_{n=1}^N r_{n, k}}{N}$"
   ]
  },
  {
   "cell_type": "markdown",
   "metadata": {
    "slideshow": {
     "slide_type": "slide"
    }
   },
   "source": [
    "## Implementing EM for the Gaussian Mixture Model of Birth Weight"
   ]
  },
  {
   "cell_type": "code",
   "execution_count": 160,
   "metadata": {
    "slideshow": {
     "slide_type": "skip"
    }
   },
   "outputs": [
    {
     "name": "stdout",
     "output_type": "stream",
     "text": [
      "3.2920267342544727 1.5260468747347409 0.4291651611436793\n",
      "5.4199527046935135e-06 7.163537707115768e-06 3.7030642797622287e-06\n",
      "4.847421726967444e-10 6.412799516536099e-10 3.313286159742346e-10\n"
     ]
    }
   ],
   "source": [
    "#Generate data\n",
    "N = 2000\n",
    "pis = [0.2, 0.6, 0.2]\n",
    "mus = [4.3, 6, 7.8]\n",
    "sigmas = [0.5**2, 0.7**2, 0.5**2]\n",
    "K = 3\n",
    "zs = np.random.choice(np.arange(K), size=N, p=pis)\n",
    "y = np.array([np.random.normal(mus[z], sigmas[z]**0.5, 1)[0] for z in zs])\n",
    "\n",
    "#initialization\n",
    "mu_init = [2, 4, 5]\n",
    "sigma_init = [2., 2., 2.]\n",
    "pi_init = [0.33, 0.33, 0.33]\n",
    "\n",
    "#implement EM\n",
    "mu_current = mu_init\n",
    "sigma_current = sigma_init\n",
    "pi_current = pi_init\n",
    "\n",
    "total_iter = 1500\n",
    "\n",
    "for i in range(total_iter):\n",
    "    #E-step\n",
    "    r_unnormalized = np.array([(pi_current[k] *  sp.stats.norm(mu_current[k], sigma_current[k]**0.5).pdf(y)) for k in range(K)]).T\n",
    "    r = r_unnormalized / r_unnormalized.sum(axis=1).reshape((-1, 1))\n",
    "    #M-step\n",
    "    mu_next = np.array([1. / r[:, k].sum() * (r[:, k] * y).sum() for k in range(K)])\n",
    "    sigma_next = np.array([1. / r[:, k].sum() * (r[:, k] * (y - mu_next[k])**2).sum() for k in range(K)])\n",
    "    pi_next = r.sum(axis=0) / r.shape[0]\n",
    "    \n",
    "    #convergence check\n",
    "    if i % 500 == 0:\n",
    "        print(np.linalg.norm(mu_next - mu_current), np.linalg.norm(sigma_next - sigma_current), np.linalg.norm(pi_next - pi_current))\n",
    "    \n",
    "    mu_current = mu_next\n",
    "    sigma_current = sigma_next\n",
    "    pi_current = pi_next\n",
    "    \n",
    "x = np.linspace(y.min(), y.max(), 100)"
   ]
  },
  {
   "cell_type": "code",
   "execution_count": 161,
   "metadata": {
    "slideshow": {
     "slide_type": "fragment"
    }
   },
   "outputs": [
    {
     "data": {
      "image/png": "[encoded data removed]",
      "text/plain": [
       "<Figure size 720x360 with 1 Axes>"
      ]
     },
     "metadata": {
      "needs_background": "light"
     },
     "output_type": "display_data"
    }
   ],
   "source": [
    "fig, ax = plt.subplots(1, 1, figsize=(10, 5))\n",
    "ax.hist(y, bins=60, density=True, color='gray', alpha=0.5, label='histogram of birth weights')\n",
    "ax.plot(x, pi_current[0] * sp.stats.norm(mu_current[0], sigma_current[0]**0.5).pdf(x), color='red', label='First Gaussian')\n",
    "ax.plot(x, pi_current[1] * sp.stats.norm(mu_current[1], sigma_current[1]**0.5).pdf(x), color='blue', label='Second Gaussian')\n",
    "ax.plot(x, pi_current[2] * sp.stats.norm(mu_current[2], sigma_current[2]**0.5).pdf(x), color='green', label='Third Gaussian')\n",
    "ax.set_title('GMM for Birth Weights')\n",
    "ax.legend(loc='best')\n",
    "plt.show()"
   ]
  },
  {
   "cell_type": "markdown",
   "metadata": {
    "slideshow": {
     "slide_type": "skip"
    }
   },
   "source": [
    "## Example: EM for Gaussian Mixture Models (Multivariate)\n",
    "\n",
    "Recall that our Gaussian mixture model, of $K$ number of Gaussians with means $\\mu = [\\mu_1, \\ldots, \\mu_K]$ and covariances $\\Sigma = [\\Sigma_1, \\ldots, \\Sigma_K]$, is defined as:\n",
    "\n",
    "\\begin{aligned}\n",
    "Z_n &\\sim Cat(\\pi),\\\\\n",
    "Y_n &\\sim \\mathcal{N}(\\mu_{Z_n}, \\Sigma_{Z_n}),\n",
    "\\end{aligned}\n",
    "where $n=1, \\ldots, N$ and $\\sum_{k=1}^K \\pi_k = 1$. \n",
    "\n",
    "We derive the updates for $\\pi$, $\\mu$ and $\\Sigma$ for the EM algorithm\n",
    "#### E-step:\n",
    "$$\n",
    "q_{\\text{new}} = p(Z_n|y_n, \\pi_{\\text{old}}, \\mu_{\\text{old}}, \\Sigma_{\\text{old}}) = \\frac{p(y_n|Z_n, \\mu_{\\text{old}}, \\Sigma_{\\text{old}})p(Z_n|\\pi_{\\text{old}})}{\\int p(y_n|z_n, \\mu_{\\text{old}}, \\Sigma_{\\text{old}})p(z_n|\\pi_{\\text{old}}) dz_n}\n",
    "$$\n",
    "\n",
    "Since $Z_n$ is a categorical variable, we compute the probability of $Z_n = k$ separately:\n",
    "\n",
    "$$\n",
    "p(Z_n = k|y_n, \\pi_{\\text{old}}, \\mu_{\\text{old}}, \\Sigma_{\\text{old}}) = \\frac{p(y_n|Z_n = k, \\mu_{\\text{old}}, \\Sigma_{\\text{old}})p(Z_n=k | \\pi_{\\text{old}})}{\\sum_{k=1}^K p(y|Z_n = k, \\mu_{\\text{old}}, \\Sigma_{\\text{old}})p(Z_n=k | \\pi_{\\text{old}})} = \\underbrace{\\frac{\\pi_{k, \\text{old}}\\,\\mathcal{N}(y_n; \\mu_{k, \\text{old}}, \\Sigma_{k, \\text{old}})}{\\mathcal{Z}}}_{r_{n, k}}\n",
    "$$\n",
    "\n",
    "where $\\mathcal{Z} = \\sum_{k=1}^K \\pi_{k, \\text{old}}\\,\\mathcal{N}(y_n; \\mu_{k, \\text{old}}, \\Sigma_{k, \\text{old}})$.\n",
    "\n",
    "Thus, $q_{\\text{new}}(Z_n)$ is a categorical distribution $Cat([r_{n, 1}, \\ldots, r_{n, K}])$.\n",
    "\n",
    "#### M-Step:\n",
    "\n",
    "\\begin{aligned}\n",
    "\\mu_{\\text{new}}, \\Sigma_{\\text{new}}, \\pi_{\\text{new}} &= \\underset{\\mu, \\Sigma, \\pi}{\\mathrm{argmax}}\\, \\sum_{n=1}^N\\mathbb{E}_{Z_n\\sim p(Z_n|Y_n, \\mu_{\\text{old}}, \\Sigma_{\\text{old}}, \\pi_{\\text{old}})}\\left[\\log \\left( p(y_n, Z_n | \\mu, \\sigma \\right) \\right]\\\\\n",
    "&= \\underset{\\mu, \\Sigma, \\pi}{\\mathrm{argmax}}\\,\\sum_{n=1}^N \\sum_{k=1}^K r_{n, k} \\left[\\log p(y_n | Z_n=k, \\mu, \\Sigma)  + \\log p(Z_n=k | \\pi)\\right]\\\\\n",
    "&= \\underset{\\mu, \\Sigma}{\\mathrm{argmax}}\\,\\sum_{n=1}^N \\sum_{k=1}^K r_{n, k} \\log p(y_n | Z_n=k, \\mu, \\Sigma)  + \\underset{\\pi}{\\mathrm{argmax}}\\,\\sum_{n=1}^N \\sum_{k=1}^K r_{n, k} \\log p(Z_n=k | \\pi)\\\\\n",
    "&=\\underset{\\mu, \\Sigma}{\\mathrm{argmax}}\\,\\sum_{n=1}^N \\sum_{k=1}^K r_{n, k} \\log \\mathcal{N}(y_n; \\mu_{k}, \\Sigma_{k})  + \\underset{\\pi}{\\mathrm{argmax}}\\,\\sum_{n=1}^N \\sum_{k=1}^K r_{n, k} \\log \\pi_k\n",
    "\\end{aligned}\n",
    "where $n=1, \\ldots, N$ and $\\sum_{k=1}^K \\pi_k = 1$. \n",
    "\n",
    "We solve the two optimization problems separately. The optimization problem\n",
    "\n",
    "$$\n",
    "\\underset{\\pi}{\\mathrm{argmax}}\\,\\sum_{n=1}^N \\sum_{k=1}^K r_{n, k} \\log \\pi_k,\\quad \\sum_{k=1}^K \\pi_k = 1\n",
    "$$\n",
    "\n",
    "can be solved using Lagrangian multipliers yielding the solution:\n",
    "\n",
    "$$\n",
    "\\pi_{\\text{new}, k} = \\frac{\\sum_{n=1}^N r_{n, k}}{N}\n",
    "$$\n",
    "\n",
    "The optimization problem \n",
    "\n",
    "$$\n",
    "\\underset{\\mu, \\Sigma}{\\mathrm{argmax}}\\,\\sum_{n=1}^N \\sum_{k=1}^K r_{n, k} \\log \\mathcal{N}(y_n; \\mu_{k}, \\Sigma_{k}) \n",
    "$$\n",
    "\n",
    "can be solved by taking the gradient with respect to $\\mu_k$, $\\Sigma_k$ for each $k$ and computing the stationary points of the gradient (remember to check for the global concavity to ensure you've found a global max). Doing so gives us the optimal points\n",
    "\n",
    "\\begin{aligned}\n",
    "\\mu_{\\text{new},k} &= \\frac{1}{\\sum_{n=1}^N r_{n, k}} \\sum_{n=1}^N r_{n,k}y_n, &\\quad (\\text{weighted sample mean})\\\\\n",
    "\\Sigma_{\\text{new},k} &= \\frac{1}{\\sum_{n=1}^N r_{n, k}}  \\sum_{n=1}^N r_{n,k} (y_n - \\mu_{\\text{new},k})(y_n - \\mu_{\\text{new},k})^\\top, &\\quad (\\text{weighted sample covariance})\n",
    "\\end{aligned}\n",
    "\n",
    "**Exercise:** Verify that the updates for $\\pi_{\\text{new},k}, \\mu_{\\text{new},k}, \\Sigma_{\\text{new},k}$ maximizes $\\mathbb{E}_{Z_n\\sim p(Z_n|Y_n, \\mu_{\\text{old}}, \\Sigma_{\\text{old}}, \\pi_{\\text{old}})}\\left[\\log \\left( p(y_n, Z_n | \\mu, \\sigma \\right) \\right]$."
   ]
  },
  {
   "cell_type": "code",
   "execution_count": null,
   "metadata": {},
   "outputs": [],
   "source": []
  }
 ],
 "metadata": {
  "celltoolbar": "Slideshow",
  "kernelspec": {
   "display_name": "Python 3",
   "language": "python",
   "name": "python3"
  },
  "language_info": {
   "codemirror_mode": {
    "name": "ipython",
    "version": 3
   },
   "file_extension": ".py",
   "mimetype": "text/x-python",
   "name": "python",
   "nbconvert_exporter": "python",
   "pygments_lexer": "ipython3",
   "version": "3.7.3"
  }
 },
 "nbformat": 4,
 "nbformat_minor": 2
}
